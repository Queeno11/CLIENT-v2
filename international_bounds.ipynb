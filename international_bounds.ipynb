{
 "cells": [
  {
   "cell_type": "code",
   "execution_count": null,
   "metadata": {},
   "outputs": [],
   "source": [
    "import numpy as np\n",
    "import xarray as xr\n",
    "import pandas as pd\n",
    "import geopandas as gpd\n",
    "import matplotlib.pyplot as plt\n",
    "import seaborn as sns\n",
    "from dask.diagnostics import ProgressBar\n",
    "from geocube.api.core import make_geocube\n",
    "\n",
    "PATH = \"D:\\World Bank\\CLIENT v2\"\n",
    "DATA_RAW = rf\"{PATH}\\Data\\Data_raw\"\n",
    "DATA_PROC = rf\"{PATH}\\Data\\Data_proc\"\n",
    "DATA_OUT = rf\"{PATH}\\Data\\Data_out\"\n",
    "\n",
    "PARQUET_PATH = rf\"{DATA_PROC}/shocks_by_adm\"\n"
   ]
  },
  {
   "cell_type": "code",
   "execution_count": null,
   "metadata": {},
   "outputs": [],
   "source": [
    "import shapely\n",
    "\n",
    "gdf = pd.read_parquet(r\"D:\\World Bank\\CLIENT v2\\Data\\Data_proc\\IPUMS_full.parquet\")\n",
    "# Parse geometry column from string to geometry\n",
    "gdf[\"geometry\"] = gdf[\"geometry\"].apply(lambda x: shapely.wkt.loads(x))\n",
    "gdf = gpd.GeoDataFrame(gdf, geometry='geometry')\n",
    "gdf = gdf.set_crs(epsg=4326)\n",
    "IPUMS_countries = gdf.dissolve(by=\"CNTRY_CODE\")\n",
    "IPUMS_countries.to_parquet(r\"D:\\World Bank\\CLIENT v2\\Data\\Data_proc\\IPUMS_international_bounds.parquet\")"
   ]
  },
  {
   "cell_type": "code",
   "execution_count": null,
   "metadata": {},
   "outputs": [],
   "source": [
    "IPUMS_countries = gpd.read_parquet(r\"D:\\World Bank\\CLIENT v2\\Data\\Data_proc\\IPUMS_international_bounds.parquet\")"
   ]
  },
  {
   "cell_type": "code",
   "execution_count": null,
   "metadata": {},
   "outputs": [],
   "source": [
    "IPUMS_countries[\"geometry\"] = IPUMS_countries.simplify(0.001)\n",
    "IPUMS_countries.to_parquet(r\"D:\\World Bank\\CLIENT v2\\Data\\Data_proc\\IPUMS_international_bounds.parquet\")"
   ]
  },
  {
   "cell_type": "code",
   "execution_count": null,
   "metadata": {},
   "outputs": [],
   "source": [
    "gdf = gpd.read_feather(r\"D:\\World Bank\\CLIENT v2\\Data\\Data_proc\\WB_country_IDs.feather\")\n",
    "WB_countries = gdf.dissolve(by=\"ADM0_CODE\")\n",
    "WB_countries[\"geometry\"] = WB_countries.simplify(0.001)\n",
    "WB_countries[[\"geometry\"]].to_parquet(r\"D:\\World Bank\\CLIENT v2\\Data\\Data_proc\\WB_international_bounds.parquet\")"
   ]
  }
 ],
 "metadata": {
  "kernelspec": {
   "display_name": "Python 3",
   "language": "python",
   "name": "python3"
  },
  "language_info": {
   "codemirror_mode": {
    "name": "ipython",
    "version": 3
   },
   "file_extension": ".py",
   "mimetype": "text/x-python",
   "name": "python",
   "nbconvert_exporter": "python",
   "pygments_lexer": "ipython3",
   "version": "3.11.4"
  }
 },
 "nbformat": 4,
 "nbformat_minor": 2
}
