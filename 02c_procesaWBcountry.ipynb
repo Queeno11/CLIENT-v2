{
 "cells": [
  {
   "cell_type": "code",
   "execution_count": 2,
   "metadata": {},
   "outputs": [],
   "source": [
    "import os\n",
    "import xarray as xr\n",
    "\n",
    "path = rf\"E:\\client_v2_data\"\n",
    "\n",
    "files = os.listdir(path)\n",
    "files = [f for f in files if f.endswith('.tif') and \"_proc\" not in f]"
   ]
  },
  {
   "cell_type": "code",
   "execution_count": 3,
   "metadata": {},
   "outputs": [
    {
     "name": "stderr",
     "output_type": "stream",
     "text": [
      "c:\\Users\\ofici\\AppData\\Local\\Programs\\Python\\Python311\\Lib\\site-packages\\xarray\\backends\\plugins.py:80: RuntimeWarning: Engine 'cfgrib' loading failed:\n",
      "Cannot find the ecCodes library\n",
      "  warnings.warn(f\"Engine {name!r} loading failed:\\n{ex}\", RuntimeWarning)\n",
      "c:\\Users\\ofici\\AppData\\Local\\Programs\\Python\\Python311\\Lib\\site-packages\\cupy\\_environment.py:216: UserWarning: CUDA path could not be detected. Set CUDA_PATH environment variable if CuPy fails to load.\n",
      "  warnings.warn(\n",
      "c:\\Users\\ofici\\AppData\\Local\\Programs\\Python\\Python311\\Lib\\site-packages\\xarray\\backends\\plugins.py:159: RuntimeWarning: 'ee' fails while guessing\n",
      "  warnings.warn(f\"{engine!r} fails while guessing\", RuntimeWarning)\n"
     ]
    },
    {
     "name": "stdout",
     "output_type": "stream",
     "text": [
      "Se creó E:\\client_v2_data\\gpw_v4_population_count_rev11_2000_30_sec_proc.tif\n"
     ]
    },
    {
     "name": "stderr",
     "output_type": "stream",
     "text": [
      "c:\\Users\\ofici\\AppData\\Local\\Programs\\Python\\Python311\\Lib\\site-packages\\xarray\\backends\\plugins.py:159: RuntimeWarning: 'ee' fails while guessing\n",
      "  warnings.warn(f\"{engine!r} fails while guessing\", RuntimeWarning)\n"
     ]
    },
    {
     "name": "stdout",
     "output_type": "stream",
     "text": [
      "Se creó E:\\client_v2_data\\gpw_v4_population_count_rev11_2005_30_sec_proc.tif\n"
     ]
    },
    {
     "name": "stderr",
     "output_type": "stream",
     "text": [
      "c:\\Users\\ofici\\AppData\\Local\\Programs\\Python\\Python311\\Lib\\site-packages\\xarray\\backends\\plugins.py:159: RuntimeWarning: 'ee' fails while guessing\n",
      "  warnings.warn(f\"{engine!r} fails while guessing\", RuntimeWarning)\n"
     ]
    },
    {
     "name": "stdout",
     "output_type": "stream",
     "text": [
      "Se creó E:\\client_v2_data\\gpw_v4_population_count_rev11_2010_30_sec_proc.tif\n"
     ]
    },
    {
     "name": "stderr",
     "output_type": "stream",
     "text": [
      "c:\\Users\\ofici\\AppData\\Local\\Programs\\Python\\Python311\\Lib\\site-packages\\xarray\\backends\\plugins.py:159: RuntimeWarning: 'ee' fails while guessing\n",
      "  warnings.warn(f\"{engine!r} fails while guessing\", RuntimeWarning)\n"
     ]
    },
    {
     "name": "stdout",
     "output_type": "stream",
     "text": [
      "Se creó E:\\client_v2_data\\gpw_v4_population_count_rev11_2015_30_sec_proc.tif\n"
     ]
    },
    {
     "name": "stderr",
     "output_type": "stream",
     "text": [
      "c:\\Users\\ofici\\AppData\\Local\\Programs\\Python\\Python311\\Lib\\site-packages\\xarray\\backends\\plugins.py:159: RuntimeWarning: 'ee' fails while guessing\n",
      "  warnings.warn(f\"{engine!r} fails while guessing\", RuntimeWarning)\n"
     ]
    },
    {
     "name": "stdout",
     "output_type": "stream",
     "text": [
      "Se creó E:\\client_v2_data\\gpw_v4_population_count_rev11_2020_30_sec_proc.tif\n"
     ]
    }
   ],
   "source": [
    "WB_country = xr.open_dataset(rf\"{path}\\WB_country_grid.nc\")\n",
    "\n",
    "minx = WB_country.x.min()\n",
    "maxx = WB_country.x.max()\n",
    "miny = WB_country.y.min()\n",
    "maxy = WB_country.y.max()\n",
    "\n",
    "# Crop GPW according to the country grid\n",
    "for file in files:\n",
    "    (\n",
    "        xr.open_dataarray(os.path.join(path, files[0]))\n",
    "            .sel(x=slice(minx, maxx), y=slice(maxy, miny))\n",
    "            .rio.to_raster(os.path.join(path, file.replace('.tif', '_proc.tif')))\n",
    "    )\n",
    "    print(f\"Se creó {os.path.join(path, file.replace('.tif', '_proc.tif'))}\")"
   ]
  }
 ],
 "metadata": {
  "kernelspec": {
   "display_name": "Python 3",
   "language": "python",
   "name": "python3"
  },
  "language_info": {
   "codemirror_mode": {
    "name": "ipython",
    "version": 3
   },
   "file_extension": ".py",
   "mimetype": "text/x-python",
   "name": "python",
   "nbconvert_exporter": "python",
   "pygments_lexer": "ipython3",
   "version": "3.11.4"
  }
 },
 "nbformat": 4,
 "nbformat_minor": 2
}
