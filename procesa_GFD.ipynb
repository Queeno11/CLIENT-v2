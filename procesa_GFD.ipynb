{
 "cells": [
  {
   "cell_type": "code",
   "execution_count": 1,
   "metadata": {},
   "outputs": [
    {
     "name": "stderr",
     "output_type": "stream",
     "text": [
      "c:\\Users\\ofici\\AppData\\Local\\Programs\\Python\\Python311\\Lib\\site-packages\\cupy\\_environment.py:216: UserWarning: CUDA path could not be detected. Set CUDA_PATH environment variable if CuPy fails to load.\n",
      "  warnings.warn(\n"
     ]
    },
    {
     "data": {
      "text/html": [
       "<div>\n",
       "    <div style=\"width: 24px; height: 24px; background-color: #e1e1e1; border: 3px solid #9D9D9D; border-radius: 5px; position: absolute;\"> </div>\n",
       "    <div style=\"margin-left: 48px;\">\n",
       "        <h3 style=\"margin-bottom: 0px;\">Client</h3>\n",
       "        <p style=\"color: #9D9D9D; margin-bottom: 0px;\">Client-b65968c9-3999-11ef-8d00-408d5c1ef16e</p>\n",
       "        <table style=\"width: 100%; text-align: left;\">\n",
       "\n",
       "        <tr>\n",
       "        \n",
       "            <td style=\"text-align: left;\"><strong>Connection method:</strong> Cluster object</td>\n",
       "            <td style=\"text-align: left;\"><strong>Cluster type:</strong> distributed.LocalCluster</td>\n",
       "        \n",
       "        </tr>\n",
       "\n",
       "        \n",
       "            <tr>\n",
       "                <td style=\"text-align: left;\">\n",
       "                    <strong>Dashboard: </strong> <a href=\"http://127.0.0.1:8787/status\" target=\"_blank\">http://127.0.0.1:8787/status</a>\n",
       "                </td>\n",
       "                <td style=\"text-align: left;\"></td>\n",
       "            </tr>\n",
       "        \n",
       "\n",
       "        </table>\n",
       "\n",
       "        \n",
       "\n",
       "        \n",
       "            <details>\n",
       "            <summary style=\"margin-bottom: 20px;\"><h3 style=\"display: inline;\">Cluster Info</h3></summary>\n",
       "            <div class=\"jp-RenderedHTMLCommon jp-RenderedHTML jp-mod-trusted jp-OutputArea-output\">\n",
       "    <div style=\"width: 24px; height: 24px; background-color: #e1e1e1; border: 3px solid #9D9D9D; border-radius: 5px; position: absolute;\">\n",
       "    </div>\n",
       "    <div style=\"margin-left: 48px;\">\n",
       "        <h3 style=\"margin-bottom: 0px; margin-top: 0px;\">LocalCluster</h3>\n",
       "        <p style=\"color: #9D9D9D; margin-bottom: 0px;\">38e0da43</p>\n",
       "        <table style=\"width: 100%; text-align: left;\">\n",
       "            <tr>\n",
       "                <td style=\"text-align: left;\">\n",
       "                    <strong>Dashboard:</strong> <a href=\"http://127.0.0.1:8787/status\" target=\"_blank\">http://127.0.0.1:8787/status</a>\n",
       "                </td>\n",
       "                <td style=\"text-align: left;\">\n",
       "                    <strong>Workers:</strong> 4\n",
       "                </td>\n",
       "            </tr>\n",
       "            <tr>\n",
       "                <td style=\"text-align: left;\">\n",
       "                    <strong>Total threads:</strong> 4\n",
       "                </td>\n",
       "                <td style=\"text-align: left;\">\n",
       "                    <strong>Total memory:</strong> 31.88 GiB\n",
       "                </td>\n",
       "            </tr>\n",
       "            \n",
       "            <tr>\n",
       "    <td style=\"text-align: left;\"><strong>Status:</strong> running</td>\n",
       "    <td style=\"text-align: left;\"><strong>Using processes:</strong> True</td>\n",
       "</tr>\n",
       "\n",
       "            \n",
       "        </table>\n",
       "\n",
       "        <details>\n",
       "            <summary style=\"margin-bottom: 20px;\">\n",
       "                <h3 style=\"display: inline;\">Scheduler Info</h3>\n",
       "            </summary>\n",
       "\n",
       "            <div style=\"\">\n",
       "    <div>\n",
       "        <div style=\"width: 24px; height: 24px; background-color: #FFF7E5; border: 3px solid #FF6132; border-radius: 5px; position: absolute;\"> </div>\n",
       "        <div style=\"margin-left: 48px;\">\n",
       "            <h3 style=\"margin-bottom: 0px;\">Scheduler</h3>\n",
       "            <p style=\"color: #9D9D9D; margin-bottom: 0px;\">Scheduler-66c12a1e-b3a2-4d0d-8fb9-1e30760033a4</p>\n",
       "            <table style=\"width: 100%; text-align: left;\">\n",
       "                <tr>\n",
       "                    <td style=\"text-align: left;\">\n",
       "                        <strong>Comm:</strong> tcp://127.0.0.1:49940\n",
       "                    </td>\n",
       "                    <td style=\"text-align: left;\">\n",
       "                        <strong>Workers:</strong> 4\n",
       "                    </td>\n",
       "                </tr>\n",
       "                <tr>\n",
       "                    <td style=\"text-align: left;\">\n",
       "                        <strong>Dashboard:</strong> <a href=\"http://127.0.0.1:8787/status\" target=\"_blank\">http://127.0.0.1:8787/status</a>\n",
       "                    </td>\n",
       "                    <td style=\"text-align: left;\">\n",
       "                        <strong>Total threads:</strong> 4\n",
       "                    </td>\n",
       "                </tr>\n",
       "                <tr>\n",
       "                    <td style=\"text-align: left;\">\n",
       "                        <strong>Started:</strong> Just now\n",
       "                    </td>\n",
       "                    <td style=\"text-align: left;\">\n",
       "                        <strong>Total memory:</strong> 31.88 GiB\n",
       "                    </td>\n",
       "                </tr>\n",
       "            </table>\n",
       "        </div>\n",
       "    </div>\n",
       "\n",
       "    <details style=\"margin-left: 48px;\">\n",
       "        <summary style=\"margin-bottom: 20px;\">\n",
       "            <h3 style=\"display: inline;\">Workers</h3>\n",
       "        </summary>\n",
       "\n",
       "        \n",
       "        <div style=\"margin-bottom: 20px;\">\n",
       "            <div style=\"width: 24px; height: 24px; background-color: #DBF5FF; border: 3px solid #4CC9FF; border-radius: 5px; position: absolute;\"> </div>\n",
       "            <div style=\"margin-left: 48px;\">\n",
       "            <details>\n",
       "                <summary>\n",
       "                    <h4 style=\"margin-bottom: 0px; display: inline;\">Worker: 0</h4>\n",
       "                </summary>\n",
       "                <table style=\"width: 100%; text-align: left;\">\n",
       "                    <tr>\n",
       "                        <td style=\"text-align: left;\">\n",
       "                            <strong>Comm: </strong> tcp://127.0.0.1:49959\n",
       "                        </td>\n",
       "                        <td style=\"text-align: left;\">\n",
       "                            <strong>Total threads: </strong> 1\n",
       "                        </td>\n",
       "                    </tr>\n",
       "                    <tr>\n",
       "                        <td style=\"text-align: left;\">\n",
       "                            <strong>Dashboard: </strong> <a href=\"http://127.0.0.1:49962/status\" target=\"_blank\">http://127.0.0.1:49962/status</a>\n",
       "                        </td>\n",
       "                        <td style=\"text-align: left;\">\n",
       "                            <strong>Memory: </strong> 7.97 GiB\n",
       "                        </td>\n",
       "                    </tr>\n",
       "                    <tr>\n",
       "                        <td style=\"text-align: left;\">\n",
       "                            <strong>Nanny: </strong> tcp://127.0.0.1:49943\n",
       "                        </td>\n",
       "                        <td style=\"text-align: left;\"></td>\n",
       "                    </tr>\n",
       "                    <tr>\n",
       "                        <td colspan=\"2\" style=\"text-align: left;\">\n",
       "                            <strong>Local directory: </strong> C:\\Users\\ofici\\AppData\\Local\\Temp\\dask-scratch-space\\worker-_yl9j522\n",
       "                        </td>\n",
       "                    </tr>\n",
       "\n",
       "                    \n",
       "\n",
       "                    \n",
       "\n",
       "                </table>\n",
       "            </details>\n",
       "            </div>\n",
       "        </div>\n",
       "        \n",
       "        <div style=\"margin-bottom: 20px;\">\n",
       "            <div style=\"width: 24px; height: 24px; background-color: #DBF5FF; border: 3px solid #4CC9FF; border-radius: 5px; position: absolute;\"> </div>\n",
       "            <div style=\"margin-left: 48px;\">\n",
       "            <details>\n",
       "                <summary>\n",
       "                    <h4 style=\"margin-bottom: 0px; display: inline;\">Worker: 1</h4>\n",
       "                </summary>\n",
       "                <table style=\"width: 100%; text-align: left;\">\n",
       "                    <tr>\n",
       "                        <td style=\"text-align: left;\">\n",
       "                            <strong>Comm: </strong> tcp://127.0.0.1:49961\n",
       "                        </td>\n",
       "                        <td style=\"text-align: left;\">\n",
       "                            <strong>Total threads: </strong> 1\n",
       "                        </td>\n",
       "                    </tr>\n",
       "                    <tr>\n",
       "                        <td style=\"text-align: left;\">\n",
       "                            <strong>Dashboard: </strong> <a href=\"http://127.0.0.1:49969/status\" target=\"_blank\">http://127.0.0.1:49969/status</a>\n",
       "                        </td>\n",
       "                        <td style=\"text-align: left;\">\n",
       "                            <strong>Memory: </strong> 7.97 GiB\n",
       "                        </td>\n",
       "                    </tr>\n",
       "                    <tr>\n",
       "                        <td style=\"text-align: left;\">\n",
       "                            <strong>Nanny: </strong> tcp://127.0.0.1:49945\n",
       "                        </td>\n",
       "                        <td style=\"text-align: left;\"></td>\n",
       "                    </tr>\n",
       "                    <tr>\n",
       "                        <td colspan=\"2\" style=\"text-align: left;\">\n",
       "                            <strong>Local directory: </strong> C:\\Users\\ofici\\AppData\\Local\\Temp\\dask-scratch-space\\worker-xlhet7rw\n",
       "                        </td>\n",
       "                    </tr>\n",
       "\n",
       "                    \n",
       "\n",
       "                    \n",
       "\n",
       "                </table>\n",
       "            </details>\n",
       "            </div>\n",
       "        </div>\n",
       "        \n",
       "        <div style=\"margin-bottom: 20px;\">\n",
       "            <div style=\"width: 24px; height: 24px; background-color: #DBF5FF; border: 3px solid #4CC9FF; border-radius: 5px; position: absolute;\"> </div>\n",
       "            <div style=\"margin-left: 48px;\">\n",
       "            <details>\n",
       "                <summary>\n",
       "                    <h4 style=\"margin-bottom: 0px; display: inline;\">Worker: 2</h4>\n",
       "                </summary>\n",
       "                <table style=\"width: 100%; text-align: left;\">\n",
       "                    <tr>\n",
       "                        <td style=\"text-align: left;\">\n",
       "                            <strong>Comm: </strong> tcp://127.0.0.1:49960\n",
       "                        </td>\n",
       "                        <td style=\"text-align: left;\">\n",
       "                            <strong>Total threads: </strong> 1\n",
       "                        </td>\n",
       "                    </tr>\n",
       "                    <tr>\n",
       "                        <td style=\"text-align: left;\">\n",
       "                            <strong>Dashboard: </strong> <a href=\"http://127.0.0.1:49965/status\" target=\"_blank\">http://127.0.0.1:49965/status</a>\n",
       "                        </td>\n",
       "                        <td style=\"text-align: left;\">\n",
       "                            <strong>Memory: </strong> 7.97 GiB\n",
       "                        </td>\n",
       "                    </tr>\n",
       "                    <tr>\n",
       "                        <td style=\"text-align: left;\">\n",
       "                            <strong>Nanny: </strong> tcp://127.0.0.1:49947\n",
       "                        </td>\n",
       "                        <td style=\"text-align: left;\"></td>\n",
       "                    </tr>\n",
       "                    <tr>\n",
       "                        <td colspan=\"2\" style=\"text-align: left;\">\n",
       "                            <strong>Local directory: </strong> C:\\Users\\ofici\\AppData\\Local\\Temp\\dask-scratch-space\\worker-ubtznyn_\n",
       "                        </td>\n",
       "                    </tr>\n",
       "\n",
       "                    \n",
       "\n",
       "                    \n",
       "\n",
       "                </table>\n",
       "            </details>\n",
       "            </div>\n",
       "        </div>\n",
       "        \n",
       "        <div style=\"margin-bottom: 20px;\">\n",
       "            <div style=\"width: 24px; height: 24px; background-color: #DBF5FF; border: 3px solid #4CC9FF; border-radius: 5px; position: absolute;\"> </div>\n",
       "            <div style=\"margin-left: 48px;\">\n",
       "            <details>\n",
       "                <summary>\n",
       "                    <h4 style=\"margin-bottom: 0px; display: inline;\">Worker: 3</h4>\n",
       "                </summary>\n",
       "                <table style=\"width: 100%; text-align: left;\">\n",
       "                    <tr>\n",
       "                        <td style=\"text-align: left;\">\n",
       "                            <strong>Comm: </strong> tcp://127.0.0.1:49964\n",
       "                        </td>\n",
       "                        <td style=\"text-align: left;\">\n",
       "                            <strong>Total threads: </strong> 1\n",
       "                        </td>\n",
       "                    </tr>\n",
       "                    <tr>\n",
       "                        <td style=\"text-align: left;\">\n",
       "                            <strong>Dashboard: </strong> <a href=\"http://127.0.0.1:49967/status\" target=\"_blank\">http://127.0.0.1:49967/status</a>\n",
       "                        </td>\n",
       "                        <td style=\"text-align: left;\">\n",
       "                            <strong>Memory: </strong> 7.97 GiB\n",
       "                        </td>\n",
       "                    </tr>\n",
       "                    <tr>\n",
       "                        <td style=\"text-align: left;\">\n",
       "                            <strong>Nanny: </strong> tcp://127.0.0.1:49949\n",
       "                        </td>\n",
       "                        <td style=\"text-align: left;\"></td>\n",
       "                    </tr>\n",
       "                    <tr>\n",
       "                        <td colspan=\"2\" style=\"text-align: left;\">\n",
       "                            <strong>Local directory: </strong> C:\\Users\\ofici\\AppData\\Local\\Temp\\dask-scratch-space\\worker-ua0lfr9l\n",
       "                        </td>\n",
       "                    </tr>\n",
       "\n",
       "                    \n",
       "\n",
       "                    \n",
       "\n",
       "                </table>\n",
       "            </details>\n",
       "            </div>\n",
       "        </div>\n",
       "        \n",
       "\n",
       "    </details>\n",
       "</div>\n",
       "\n",
       "        </details>\n",
       "    </div>\n",
       "</div>\n",
       "            </details>\n",
       "        \n",
       "\n",
       "    </div>\n",
       "</div>"
      ],
      "text/plain": [
       "<Client: 'tcp://127.0.0.1:49940' processes=4 threads=4, memory=31.88 GiB>"
      ]
     },
     "execution_count": 1,
     "metadata": {},
     "output_type": "execute_result"
    }
   ],
   "source": [
    "import os\n",
    "import dask\n",
    "import numpy as np\n",
    "import xarray as xr\n",
    "import pandas as pd\n",
    "import geopandas as gpd\n",
    "import matplotlib.pyplot as plt\n",
    "import seaborn as sns\n",
    "from dask.diagnostics import ProgressBar\n",
    "from dask.distributed import Client\n",
    "from geocube.api.core import make_geocube\n",
    "from tqdm import tqdm\n",
    "\n",
    "PATH = \"D:\\World Bank\\CLIENT v2\"\n",
    "DATA_RAW = rf\"{PATH}\\Data\\Data_raw\"\n",
    "DATA_PROC = rf\"{PATH}\\Data\\Data_proc\"\n",
    "DATA_OUT = rf\"{PATH}\\Data\\Data_out\"\n",
    "GFD_PATH = rf\"D:\\Datasets\\Global Flood Database\\gfd_v1_4\"\n",
    "GPW_PATH = rf\"D:\\Datasets\\Gridded Population of the World\"\n",
    "\n",
    "client = Client()\n",
    "client"
   ]
  },
  {
   "cell_type": "code",
   "execution_count": 2,
   "metadata": {},
   "outputs": [],
   "source": [
    "import os\n",
    "from tqdm import tqdm\n",
    "\n",
    "def load_population_data(bounds=None, generate=False):\n",
    "    print(\"Processing Population data...\")\n",
    "\n",
    "    # Select all files in GPW folder\n",
    "    gpw_path = GPW_PATH\n",
    "    files = os.listdir(gpw_path)\n",
    "    files = [f for f in files if f.endswith(\".tif\")]\n",
    "    \n",
    "    # Compile into a single dataset\n",
    "    dss = []\n",
    "    for f in tqdm(files):\n",
    "        \n",
    "        ds = xr.open_dataset(os.path.join(gpw_path, f), chunks={\"x\": 43200/2, \"y\": 17174/2})\n",
    "        ds[\"band_data\"] = ds[\"band_data\"].astype(np.uint32)\n",
    "        if bounds is not None:\n",
    "            ds = ds.sel(\n",
    "                x=slice(bounds[0], bounds[2]), y=slice(bounds[3], bounds[1])\n",
    "            )\n",
    "        if generate:\n",
    "            with ProgressBar():\n",
    "                ds.sel(band=1).drop_vars(\"band\").band_data.rio.to_raster(rf\"E:\\client_v2_data\\{f.replace('.tif','_proc.tif')}\")\n",
    "                print(f\"Saved {f.replace('.tif','_proc.tif')}\")\n",
    "        \n",
    "        ds[\"year\"] = int(f.split(\"_\")[5])\n",
    "        ds = ds.set_coords('year')\n",
    "        dss += [ds]\n",
    "        \n",
    "    population = xr.concat(dss, dim=\"year\")    \n",
    "    \n",
    "    # Filter if bounds are provided\n",
    "    if bounds is not None:\n",
    "        population = population.sel(\n",
    "            x=slice(bounds[0], bounds[2]), y=slice(bounds[3], bounds[1])\n",
    "        )\n",
    "        \n",
    "    # Clean band dimension\n",
    "    population = population.sel(band=1).drop_vars([\"band\"])\n",
    "    \n",
    "    print(\"Done!\")\n",
    "    return population\n"
   ]
  },
  {
   "cell_type": "code",
   "execution_count": 3,
   "metadata": {},
   "outputs": [],
   "source": [
    "import json\n",
    "import re \n",
    "from datetime import datetime\n",
    "\n",
    "def extract_number_from_filename(filename):\n",
    "    # Define the regex pattern to extract the number\n",
    "    match = re.search(r'DFO_(\\d+)_', filename)\n",
    "    if match:\n",
    "        assert len(match.groups()) == 1\n",
    "        return int(match.group(1))\n",
    "    return None\n",
    "\n",
    "def extract_year_from_filename(filename):\n",
    "    import re\n",
    "\n",
    "    year = None\n",
    "    # Define a regular expression pattern to match the dates\n",
    "    pattern = r'From_(\\d{8})_to_(\\d{8})'\n",
    "\n",
    "    # Use re.search to find the dates in the string\n",
    "    match = re.search(pattern, filename)\n",
    "\n",
    "    if match:\n",
    "        # Extract the dates from the matched groups\n",
    "        date_from = match.group(1)\n",
    "        date_to = match.group(2)\n",
    "        \n",
    "        # Convert to a more readable format if needed\n",
    "        # Convert strings to datetime.date objects\n",
    "        date_from_dt = datetime.strptime(date_from, r'%Y%m%d').date()\n",
    "        date_to_dt = datetime.strptime(date_to, r'%Y%m%d').date()\n",
    "\n",
    "        # Calculate the average date\n",
    "        average_date = date_from_dt + (date_to_dt - date_from_dt) / 2\n",
    "        average_date = average_date.strftime(r'%Y-%m-%d')\n",
    "        year = average_date.split(\"-\")[0]\n",
    "    else:\n",
    "        print(\"Dates not found in the string.\")\n",
    "\n",
    "    return year\n",
    "\n",
    "\n",
    "def check_word_in_json_files(directory, word):\n",
    "    word = word.upper()\n",
    "    files_checked = 0\n",
    "    files_containing_word = []\n",
    "    \n",
    "    for filename in os.listdir(directory):\n",
    "        if filename.endswith('.json'):\n",
    "            files_checked += 1\n",
    "            filepath = os.path.join(directory, filename)\n",
    "            with open(filepath, 'r') as file:\n",
    "                data = json.load(file)\n",
    "                \n",
    "                # Check if the word is in any of the values\n",
    "                for value in data.values():\n",
    "                    if isinstance(value, str) and word in value.upper():\n",
    "                        files_containing_word += [filepath]\n",
    "                        break\n",
    "                    elif isinstance(value, list) and any(word in str(item).upper() for item in value):\n",
    "                        files_containing_word += [filepath]\n",
    "                        break\n",
    "    \n",
    "    print(f\"Files checked: {files_checked}\")\n",
    "    print(f\"Files containing '{word}': {len(files_containing_word)}\")\n",
    "    \n",
    "    ids = [extract_number_from_filename(f) for f in files_containing_word]\n",
    "    return ids\n",
    "\n",
    "def process_gdw_file(ds):\n",
    "    masked = xr.where(ds.sel(band=5)==1, 0, ds.sel(band=1))\n",
    "    return masked\n",
    "\n",
    "def regrid_floods_to_population(floods, like):\n",
    "    # Calculate the resolution ratios\n",
    "    like = like.sel(x=slice(floods['x'].min(), floods['x'].max()), y=slice(floods['y'].max(), floods['y'].min()))\n",
    "    target_lat = like.y\n",
    "    target_lon = like.x\n",
    "\n",
    "    floods_xslice = slice(floods['x'].min(), floods['x'].max())\n",
    "    floods_yslice = slice(floods['y'].max(), floods['y'].min())\n",
    "    lat_ratio = len(floods['y']) // len(target_lat.sel(y=floods_yslice))\n",
    "    lon_ratio = len(floods['x']) // len(target_lon.sel(x=floods_xslice))\n",
    "    \n",
    "    # Coarsen the floods data by averaging\n",
    "    coarsened_floods = floods.coarsen(y=int(lat_ratio), x=int(lon_ratio), boundary='trim').mean()\n",
    "    \n",
    "    # Rename dimensions to match target grid\n",
    "    coarsened_floods = coarsened_floods.interp_like(like, method='linear', kwargs={'fill_value': 0})\n",
    "    return coarsened_floods"
   ]
  },
  {
   "cell_type": "markdown",
   "metadata": {},
   "source": [
    "## Genero archivos por shock:\n",
    "\n",
    "Agrega los datos de floods en la misma dimensión que Griddeed Population of The World: 30-arc sec. Reduce la resolución de la grilla de floods al tamaño de la de población, promedidando cada 3 celdas. Entonces, el punto de la grilla de población nos va a decir aproximamandemente que % de la población fue afectada, asumiendo que se distribuyen uniformemente en esa celda (i.e. calcula el % del area afectada). Para ajustar correctamente la grilla, interpolamos con población al final"
   ]
  },
  {
   "cell_type": "code",
   "execution_count": 4,
   "metadata": {},
   "outputs": [
    {
     "name": "stdout",
     "output_type": "stream",
     "text": [
      "Processing Population data...\n"
     ]
    },
    {
     "name": "stderr",
     "output_type": "stream",
     "text": [
      "  0%|          | 0/4 [00:00<?, ?it/s]c:\\Users\\ofici\\AppData\\Local\\Programs\\Python\\Python311\\Lib\\site-packages\\xarray\\backends\\plugins.py:80: RuntimeWarning: Engine 'cfgrib' loading failed:\n",
      "Cannot find the ecCodes library\n",
      "  warnings.warn(f\"Engine {name!r} loading failed:\\n{ex}\", RuntimeWarning)\n",
      "c:\\Users\\ofici\\AppData\\Local\\Programs\\Python\\Python311\\Lib\\site-packages\\xarray\\backends\\plugins.py:159: RuntimeWarning: 'ee' fails while guessing\n",
      "  warnings.warn(f\"{engine!r} fails while guessing\", RuntimeWarning)\n",
      " 25%|██▌       | 1/4 [00:02<00:08,  2.99s/it]c:\\Users\\ofici\\AppData\\Local\\Programs\\Python\\Python311\\Lib\\site-packages\\xarray\\backends\\plugins.py:159: RuntimeWarning: 'ee' fails while guessing\n",
      "  warnings.warn(f\"{engine!r} fails while guessing\", RuntimeWarning)\n",
      "c:\\Users\\ofici\\AppData\\Local\\Programs\\Python\\Python311\\Lib\\site-packages\\xarray\\backends\\plugins.py:159: RuntimeWarning: 'ee' fails while guessing\n",
      "  warnings.warn(f\"{engine!r} fails while guessing\", RuntimeWarning)\n",
      "c:\\Users\\ofici\\AppData\\Local\\Programs\\Python\\Python311\\Lib\\site-packages\\xarray\\backends\\plugins.py:159: RuntimeWarning: 'ee' fails while guessing\n",
      "  warnings.warn(f\"{engine!r} fails while guessing\", RuntimeWarning)\n",
      "100%|██████████| 4/4 [00:03<00:00,  1.31it/s]"
     ]
    },
    {
     "name": "stdout",
     "output_type": "stream",
     "text": [
      "Done!\n"
     ]
    },
    {
     "name": "stderr",
     "output_type": "stream",
     "text": [
      "\n"
     ]
    }
   ],
   "source": [
    "pop = load_population_data(bounds=None, generate=False)\n",
    "# pop = xr.open_dataset(rf\"{GPW_PATH}\\gpw_v4_population_count_rev11_2000_30_sec.tif\")"
   ]
  },
  {
   "cell_type": "code",
   "execution_count": null,
   "metadata": {},
   "outputs": [],
   "source": [
    "## Procesamiento 1:\n",
    "#   Abre todas los eventos de inundación, procesa las bandas y downsamplea, generando un tif por evento con la grilla de población\t \n",
    "files = os.listdir(GFD_PATH)\n",
    "files = [f for f in files if f.endswith(\".tif\")]\n",
    "population_grid = xr.zeros_like(pop.sel(year=2000))\n",
    "\n",
    "dss = {}\n",
    "tasks = []\n",
    "for i, f in tqdm(enumerate(files), total=len(files)):\n",
    "    with dask.config.set(**{'array.slicing.split_large_chunks': False}):\n",
    "        \n",
    "        year = extract_year_from_filename(f)\n",
    "        shockid = extract_number_from_filename(f)\n",
    "        \n",
    "\n",
    "        ds = xr.open_dataset(os.path.join(GFD_PATH, f), engine=\"rasterio\", chunks={\"x\": 1000, \"y\": 1000})\n",
    "        ds = process_gdw_file(ds)\n",
    "        # x_bounds = slice(ds.x.min(), ds.x.max())\n",
    "        # y_bounds = slice(ds.y.max(), ds.y.min())\n",
    "        # pop_slice = pop.sel(year=2000, x=x_bounds, y=y_bounds)\n",
    "        ds_aggregated = regrid_floods_to_population(ds, population_grid)\n",
    "        ds_aggregated = ds_aggregated.assign_coords({\"year\": year})\n",
    "        ds_aggregated = ds_aggregated.assign_coords({\"id\": shockid})\n",
    "        ds_aggregated = ds_aggregated.to_netcdf(os.path.join(DATA_PROC, \"gfd_proc\", f\"{f.replace('.tif', f'_proc.nc')}\"), compute=False)\n",
    "\n",
    "        if year not in dss.keys():\n",
    "            dss[year] = [ds_aggregated]\n",
    "        else:\n",
    "            dss[year] += [ds_aggregated]"
   ]
  },
  {
   "cell_type": "code",
   "execution_count": null,
   "metadata": {},
   "outputs": [],
   "source": [
    "for year, dss_year in tqdm(dss.items()):\n",
    "    dask.compute(*dss_year)\n",
    "# tasks += [xr.concat(dss_year, dim=\"id\").max(dim=\"id\").to_netcdf(os.path.join(DATA_PROC, \"gfd_proc\", f\"{year}_out.nc\"), compute=False)]"
   ]
  },
  {
   "cell_type": "code",
   "execution_count": 5,
   "metadata": {},
   "outputs": [
    {
     "name": "stderr",
     "output_type": "stream",
     "text": [
      "100%|██████████| 937/937 [00:36<00:00, 25.52it/s]\n",
      "  5%|▌         | 1/19 [01:11<21:29, 71.63s/it]"
     ]
    },
    {
     "name": "stdout",
     "output_type": "stream",
     "text": [
      "Saved D:\\World Bank\\CLIENT v2\\Data\\Data_proc\\gfd_proc\\2000_out.nc\n"
     ]
    },
    {
     "name": "stderr",
     "output_type": "stream",
     "text": [
      " 11%|█         | 2/19 [03:23<30:23, 107.24s/it]"
     ]
    },
    {
     "name": "stdout",
     "output_type": "stream",
     "text": [
      "Saved D:\\World Bank\\CLIENT v2\\Data\\Data_proc\\gfd_proc\\2001_out.nc\n"
     ]
    },
    {
     "name": "stderr",
     "output_type": "stream",
     "text": [
      " 16%|█▌        | 3/19 [08:33<53:16, 199.78s/it]"
     ]
    },
    {
     "name": "stdout",
     "output_type": "stream",
     "text": [
      "Saved D:\\World Bank\\CLIENT v2\\Data\\Data_proc\\gfd_proc\\2002_out.nc\n"
     ]
    },
    {
     "name": "stderr",
     "output_type": "stream",
     "text": [
      "c:\\Users\\ofici\\AppData\\Local\\Programs\\Python\\Python311\\Lib\\site-packages\\distributed\\client.py:3164: UserWarning: Sending large graph of size 13.93 MiB.\n",
      "This may cause some slowdown.\n",
      "Consider scattering data ahead of time and using futures.\n",
      "  warnings.warn(\n",
      " 21%|██        | 4/19 [15:57<1:13:59, 295.96s/it]"
     ]
    },
    {
     "name": "stdout",
     "output_type": "stream",
     "text": [
      "Saved D:\\World Bank\\CLIENT v2\\Data\\Data_proc\\gfd_proc\\2003_out.nc\n"
     ]
    },
    {
     "name": "stderr",
     "output_type": "stream",
     "text": [
      "c:\\Users\\ofici\\AppData\\Local\\Programs\\Python\\Python311\\Lib\\site-packages\\distributed\\client.py:3164: UserWarning: Sending large graph of size 9.87 MiB.\n",
      "This may cause some slowdown.\n",
      "Consider scattering data ahead of time and using futures.\n",
      "  warnings.warn(\n",
      " 26%|██▋       | 5/19 [21:24<1:11:44, 307.46s/it]"
     ]
    },
    {
     "name": "stdout",
     "output_type": "stream",
     "text": [
      "Saved D:\\World Bank\\CLIENT v2\\Data\\Data_proc\\gfd_proc\\2004_out.nc\n"
     ]
    },
    {
     "name": "stderr",
     "output_type": "stream",
     "text": [
      "c:\\Users\\ofici\\AppData\\Local\\Programs\\Python\\Python311\\Lib\\site-packages\\distributed\\client.py:3164: UserWarning: Sending large graph of size 10.48 MiB.\n",
      "This may cause some slowdown.\n",
      "Consider scattering data ahead of time and using futures.\n",
      "  warnings.warn(\n",
      " 32%|███▏      | 6/19 [27:19<1:10:07, 323.62s/it]"
     ]
    },
    {
     "name": "stdout",
     "output_type": "stream",
     "text": [
      "Saved D:\\World Bank\\CLIENT v2\\Data\\Data_proc\\gfd_proc\\2005_out.nc\n"
     ]
    },
    {
     "name": "stderr",
     "output_type": "stream",
     "text": [
      " 37%|███▋      | 7/19 [32:30<1:03:53, 319.42s/it]"
     ]
    },
    {
     "name": "stdout",
     "output_type": "stream",
     "text": [
      "Saved D:\\World Bank\\CLIENT v2\\Data\\Data_proc\\gfd_proc\\2006_out.nc\n"
     ]
    },
    {
     "name": "stderr",
     "output_type": "stream",
     "text": [
      "c:\\Users\\ofici\\AppData\\Local\\Programs\\Python\\Python311\\Lib\\site-packages\\distributed\\client.py:3164: UserWarning: Sending large graph of size 16.15 MiB.\n",
      "This may cause some slowdown.\n",
      "Consider scattering data ahead of time and using futures.\n",
      "  warnings.warn(\n",
      " 42%|████▏     | 8/19 [41:14<1:10:29, 384.54s/it]"
     ]
    },
    {
     "name": "stdout",
     "output_type": "stream",
     "text": [
      "Saved D:\\World Bank\\CLIENT v2\\Data\\Data_proc\\gfd_proc\\2007_out.nc\n"
     ]
    },
    {
     "name": "stderr",
     "output_type": "stream",
     "text": [
      "c:\\Users\\ofici\\AppData\\Local\\Programs\\Python\\Python311\\Lib\\site-packages\\distributed\\client.py:3164: UserWarning: Sending large graph of size 9.54 MiB.\n",
      "This may cause some slowdown.\n",
      "Consider scattering data ahead of time and using futures.\n",
      "  warnings.warn(\n",
      " 47%|████▋     | 9/19 [46:39<1:00:58, 365.85s/it]"
     ]
    },
    {
     "name": "stdout",
     "output_type": "stream",
     "text": [
      "Saved D:\\World Bank\\CLIENT v2\\Data\\Data_proc\\gfd_proc\\2008_out.nc\n"
     ]
    },
    {
     "name": "stderr",
     "output_type": "stream",
     "text": [
      " 53%|█████▎    | 10/19 [50:31<48:40, 324.54s/it] "
     ]
    },
    {
     "name": "stdout",
     "output_type": "stream",
     "text": [
      "Saved D:\\World Bank\\CLIENT v2\\Data\\Data_proc\\gfd_proc\\2009_out.nc\n"
     ]
    },
    {
     "name": "stderr",
     "output_type": "stream",
     "text": [
      "c:\\Users\\ofici\\AppData\\Local\\Programs\\Python\\Python311\\Lib\\site-packages\\distributed\\client.py:3164: UserWarning: Sending large graph of size 10.63 MiB.\n",
      "This may cause some slowdown.\n",
      "Consider scattering data ahead of time and using futures.\n",
      "  warnings.warn(\n",
      " 58%|█████▊    | 11/19 [56:41<45:06, 338.32s/it]"
     ]
    },
    {
     "name": "stdout",
     "output_type": "stream",
     "text": [
      "Saved D:\\World Bank\\CLIENT v2\\Data\\Data_proc\\gfd_proc\\2010_out.nc\n"
     ]
    },
    {
     "name": "stderr",
     "output_type": "stream",
     "text": [
      " 63%|██████▎   | 12/19 [1:00:38<35:52, 307.51s/it]"
     ]
    },
    {
     "name": "stdout",
     "output_type": "stream",
     "text": [
      "Saved D:\\World Bank\\CLIENT v2\\Data\\Data_proc\\gfd_proc\\2011_out.nc\n"
     ]
    },
    {
     "name": "stderr",
     "output_type": "stream",
     "text": [
      " 68%|██████▊   | 13/19 [1:05:12<29:45, 297.55s/it]"
     ]
    },
    {
     "name": "stdout",
     "output_type": "stream",
     "text": [
      "Saved D:\\World Bank\\CLIENT v2\\Data\\Data_proc\\gfd_proc\\2012_out.nc\n"
     ]
    },
    {
     "name": "stderr",
     "output_type": "stream",
     "text": [
      " 74%|███████▎  | 14/19 [1:08:05<21:38, 259.73s/it]"
     ]
    },
    {
     "name": "stdout",
     "output_type": "stream",
     "text": [
      "Saved D:\\World Bank\\CLIENT v2\\Data\\Data_proc\\gfd_proc\\2013_out.nc\n"
     ]
    },
    {
     "name": "stderr",
     "output_type": "stream",
     "text": [
      " 79%|███████▉  | 15/19 [1:11:30<16:12, 243.24s/it]"
     ]
    },
    {
     "name": "stdout",
     "output_type": "stream",
     "text": [
      "Saved D:\\World Bank\\CLIENT v2\\Data\\Data_proc\\gfd_proc\\2014_out.nc\n"
     ]
    },
    {
     "name": "stderr",
     "output_type": "stream",
     "text": [
      " 84%|████████▍ | 16/19 [1:15:16<11:54, 238.22s/it]"
     ]
    },
    {
     "name": "stdout",
     "output_type": "stream",
     "text": [
      "Saved D:\\World Bank\\CLIENT v2\\Data\\Data_proc\\gfd_proc\\2015_out.nc\n"
     ]
    },
    {
     "name": "stderr",
     "output_type": "stream",
     "text": [
      " 89%|████████▉ | 17/19 [1:18:50<07:41, 230.90s/it]"
     ]
    },
    {
     "name": "stdout",
     "output_type": "stream",
     "text": [
      "Saved D:\\World Bank\\CLIENT v2\\Data\\Data_proc\\gfd_proc\\2016_out.nc\n"
     ]
    },
    {
     "name": "stderr",
     "output_type": "stream",
     "text": [
      " 95%|█████████▍| 18/19 [1:21:38<03:32, 212.06s/it]"
     ]
    },
    {
     "name": "stdout",
     "output_type": "stream",
     "text": [
      "Saved D:\\World Bank\\CLIENT v2\\Data\\Data_proc\\gfd_proc\\2017_out.nc\n"
     ]
    },
    {
     "name": "stderr",
     "output_type": "stream",
     "text": [
      "100%|██████████| 19/19 [1:25:03<00:00, 268.59s/it]"
     ]
    },
    {
     "name": "stdout",
     "output_type": "stream",
     "text": [
      "Saved D:\\World Bank\\CLIENT v2\\Data\\Data_proc\\gfd_proc\\2018_out.nc\n"
     ]
    },
    {
     "name": "stderr",
     "output_type": "stream",
     "text": [
      "\n"
     ]
    }
   ],
   "source": [
    "## Paso 2:\n",
    "#   Agrega los tif procesados en un solo archivo, calculando la máxima cantidad de personas afectadas cada año\n",
    "\n",
    "# Genera grilla vacía donde voy relleando los datos de cada evento\n",
    "grid = xr.zeros_like(pop.sel(year=2000))\n",
    "grid = grid.assign_coords({\"year\": \"999\"})\n",
    "grid = grid.assign_coords({\"id\": 999})\n",
    "grid[\"band_data\"] = grid[\"band_data\"].astype(np.float32)\n",
    "grid.to_netcdf(os.path.join(DATA_PROC, \"empty_grid.nc\"))\n",
    "\n",
    "grid = xr.open_dataset(os.path.join(DATA_PROC, \"empty_grid.nc\"), chunks={\"x\": 1000, \"y\": 1000})\n",
    "\n",
    "processed_files = os.listdir(os.path.join(DATA_PROC, \"gfd_proc\"))\n",
    "processed_files = [f for f in processed_files if f.endswith(\"_proc.nc\")]\n",
    "dss = {}\n",
    "# Normalizo la grilla para todos los eventos, de extensión global\n",
    "for f in tqdm(processed_files):\n",
    "    year = extract_year_from_filename(f)\n",
    "    ds_grid = xr.zeros_like(grid)\n",
    "    ds = xr.open_dataset(os.path.join(DATA_PROC, \"gfd_proc\", f), chunks={\"x\": 1000, \"y\": 1000})\n",
    "    ds_grid.loc[{\"x\":slice(ds.x.min(), ds.x.max()), \"y\":slice(ds.y.max(), ds.y.min())}] = ds.fillna(0) \n",
    "    ds_grid[\"year\"] = year\n",
    "    if year not in dss.keys():\n",
    "        dss[year] = [ds_grid]\n",
    "    else:\n",
    "        dss[year] += [ds_grid]\n",
    "        \n",
    "# Para cada año, concateno y calculo la máxima cantidad de personas afectadas\n",
    "tasks = []\n",
    "for year, dss_year in tqdm(dss.items()):\n",
    "    # Calculo el máximo (i.e., si hubo flood) en cada celda\n",
    "    xr.concat(dss_year, dim=\"id\").max(dim=\"id\").to_netcdf(os.path.join(DATA_PROC, \"gfd_proc\", f\"{year}_out.nc\"))\n",
    "    print(f'Saved {os.path.join(DATA_PROC, \"gfd_proc\", f\"{year}_out.nc\")}')"
   ]
  },
  {
   "cell_type": "code",
   "execution_count": 7,
   "metadata": {},
   "outputs": [
    {
     "name": "stderr",
     "output_type": "stream",
     "text": [
      "  0%|          | 0/4 [00:00<?, ?it/s]c:\\Users\\ofici\\AppData\\Local\\Programs\\Python\\Python311\\Lib\\site-packages\\distributed\\client.py:3164: UserWarning: Sending large graph of size 111.25 MiB.\n",
      "This may cause some slowdown.\n",
      "Consider scattering data ahead of time and using futures.\n",
      "  warnings.warn(\n"
     ]
    }
   ],
   "source": [
    "## Paso 3: compila todo en una unica base\n",
    "# Para cada año, concateno y calculo la máxima cantidad de personas afectadas\n",
    "all_ds = []\n",
    "for year, dss_year in tqdm(dss.items()):\n",
    "    ds = xr.open_dataset(os.path.join(DATA_PROC, \"gfd_proc\", f\"{year}_out.nc\"), chunks={\"x\":1000, \"y\":1000})\n",
    "    ds[\"year\"] = year\n",
    "    all_ds += [ds]\n",
    "full_ds = xr.concat(all_ds, dim=\"year\")\n",
    "full_ds.to_netcdf(os.path.join(DATA_OUT, \"floods_by_year.nc\"))"
   ]
  },
  {
   "cell_type": "code",
   "execution_count": null,
   "metadata": {},
   "outputs": [],
   "source": [
    "# Ver progreso en el dashboard: http://127.0.0.1:8787/status\n",
    "dask.compute(*tasks)"
   ]
  }
 ],
 "metadata": {
  "kernelspec": {
   "display_name": "Python 3",
   "language": "python",
   "name": "python3"
  },
  "language_info": {
   "codemirror_mode": {
    "name": "ipython",
    "version": 3
   },
   "file_extension": ".py",
   "mimetype": "text/x-python",
   "name": "python",
   "nbconvert_exporter": "python",
   "pygments_lexer": "ipython3",
   "version": "3.11.4"
  }
 },
 "nbformat": 4,
 "nbformat_minor": 2
}
