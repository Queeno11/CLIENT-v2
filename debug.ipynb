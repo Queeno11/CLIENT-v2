{
 "cells": [
  {
   "cell_type": "code",
   "execution_count": 1,
   "metadata": {},
   "outputs": [
    {
     "name": "stderr",
     "output_type": "stream",
     "text": [
      "<>:9: SyntaxWarning: invalid escape sequence '\\W'\n",
      "<>:9: SyntaxWarning: invalid escape sequence '\\W'\n",
      "C:\\Users\\Nico\\AppData\\Local\\Temp\\ipykernel_11544\\3983181819.py:9: SyntaxWarning: invalid escape sequence '\\W'\n",
      "  PATH = \"D:\\World Bank\\CLIENT v2\"\n"
     ]
    }
   ],
   "source": [
    "import numpy as np\n",
    "import xarray as xr\n",
    "import pandas as pd\n",
    "import geopandas as gpd\n",
    "import matplotlib.pyplot as plt\n",
    "import seaborn as sns\n",
    "from dask.diagnostics import ProgressBar\n",
    "from geocube.api.core import make_geocube\n",
    "PATH = \"D:\\World Bank\\CLIENT v2\"\n",
    "DATA_RAW = rf\"{PATH}\\Data\\Data_raw\"\n",
    "DATA_PROC = rf\"{PATH}\\Data\\Data_proc\"\n",
    "DATA_OUT = rf\"{PATH}\\Data\\Data_out\"\n",
    "\n",
    "PARQUET_PATH = rf\"{DATA_PROC}/shocks_by_adm\"\n"
   ]
  },
  {
   "cell_type": "code",
   "execution_count": 17,
   "metadata": {},
   "outputs": [
    {
     "name": "stderr",
     "output_type": "stream",
     "text": [
      "<>:3: SyntaxWarning: invalid escape sequence '\\W'\n",
      "<>:3: SyntaxWarning: invalid escape sequence '\\W'\n",
      "C:\\Users\\Nico\\AppData\\Local\\Temp\\ipykernel_11544\\19981679.py:3: SyntaxWarning: invalid escape sequence '\\W'\n",
      "  coldwaves = xr.open_dataset(\"D:\\World Bank\\CLIENT v2\\Data\\Data_out\\IBTrACS_hurricanes_yearly.nc\")\n"
     ]
    },
    {
     "data": {
      "text/html": [
       "<div><svg style=\"position: absolute; width: 0; height: 0; overflow: hidden\">\n",
       "<defs>\n",
       "<symbol id=\"icon-database\" viewBox=\"0 0 32 32\">\n",
       "<path d=\"M16 0c-8.837 0-16 2.239-16 5v4c0 2.761 7.163 5 16 5s16-2.239 16-5v-4c0-2.761-7.163-5-16-5z\"></path>\n",
       "<path d=\"M16 17c-8.837 0-16-2.239-16-5v6c0 2.761 7.163 5 16 5s16-2.239 16-5v-6c0 2.761-7.163 5-16 5z\"></path>\n",
       "<path d=\"M16 26c-8.837 0-16-2.239-16-5v6c0 2.761 7.163 5 16 5s16-2.239 16-5v-6c0 2.761-7.163 5-16 5z\"></path>\n",
       "</symbol>\n",
       "<symbol id=\"icon-file-text2\" viewBox=\"0 0 32 32\">\n",
       "<path d=\"M28.681 7.159c-0.694-0.947-1.662-2.053-2.724-3.116s-2.169-2.030-3.116-2.724c-1.612-1.182-2.393-1.319-2.841-1.319h-15.5c-1.378 0-2.5 1.121-2.5 2.5v27c0 1.378 1.122 2.5 2.5 2.5h23c1.378 0 2.5-1.122 2.5-2.5v-19.5c0-0.448-0.137-1.23-1.319-2.841zM24.543 5.457c0.959 0.959 1.712 1.825 2.268 2.543h-4.811v-4.811c0.718 0.556 1.584 1.309 2.543 2.268zM28 29.5c0 0.271-0.229 0.5-0.5 0.5h-23c-0.271 0-0.5-0.229-0.5-0.5v-27c0-0.271 0.229-0.5 0.5-0.5 0 0 15.499-0 15.5 0v7c0 0.552 0.448 1 1 1h7v19.5z\"></path>\n",
       "<path d=\"M23 26h-14c-0.552 0-1-0.448-1-1s0.448-1 1-1h14c0.552 0 1 0.448 1 1s-0.448 1-1 1z\"></path>\n",
       "<path d=\"M23 22h-14c-0.552 0-1-0.448-1-1s0.448-1 1-1h14c0.552 0 1 0.448 1 1s-0.448 1-1 1z\"></path>\n",
       "<path d=\"M23 18h-14c-0.552 0-1-0.448-1-1s0.448-1 1-1h14c0.552 0 1 0.448 1 1s-0.448 1-1 1z\"></path>\n",
       "</symbol>\n",
       "</defs>\n",
       "</svg>\n",
       "<style>/* CSS stylesheet for displaying xarray objects in jupyterlab.\n",
       " *\n",
       " */\n",
       "\n",
       ":root {\n",
       "  --xr-font-color0: var(--jp-content-font-color0, rgba(0, 0, 0, 1));\n",
       "  --xr-font-color2: var(--jp-content-font-color2, rgba(0, 0, 0, 0.54));\n",
       "  --xr-font-color3: var(--jp-content-font-color3, rgba(0, 0, 0, 0.38));\n",
       "  --xr-border-color: var(--jp-border-color2, #e0e0e0);\n",
       "  --xr-disabled-color: var(--jp-layout-color3, #bdbdbd);\n",
       "  --xr-background-color: var(--jp-layout-color0, white);\n",
       "  --xr-background-color-row-even: var(--jp-layout-color1, white);\n",
       "  --xr-background-color-row-odd: var(--jp-layout-color2, #eeeeee);\n",
       "}\n",
       "\n",
       "html[theme=dark],\n",
       "html[data-theme=dark],\n",
       "body[data-theme=dark],\n",
       "body.vscode-dark {\n",
       "  --xr-font-color0: rgba(255, 255, 255, 1);\n",
       "  --xr-font-color2: rgba(255, 255, 255, 0.54);\n",
       "  --xr-font-color3: rgba(255, 255, 255, 0.38);\n",
       "  --xr-border-color: #1F1F1F;\n",
       "  --xr-disabled-color: #515151;\n",
       "  --xr-background-color: #111111;\n",
       "  --xr-background-color-row-even: #111111;\n",
       "  --xr-background-color-row-odd: #313131;\n",
       "}\n",
       "\n",
       ".xr-wrap {\n",
       "  display: block !important;\n",
       "  min-width: 300px;\n",
       "  max-width: 700px;\n",
       "}\n",
       "\n",
       ".xr-text-repr-fallback {\n",
       "  /* fallback to plain text repr when CSS is not injected (untrusted notebook) */\n",
       "  display: none;\n",
       "}\n",
       "\n",
       ".xr-header {\n",
       "  padding-top: 6px;\n",
       "  padding-bottom: 6px;\n",
       "  margin-bottom: 4px;\n",
       "  border-bottom: solid 1px var(--xr-border-color);\n",
       "}\n",
       "\n",
       ".xr-header > div,\n",
       ".xr-header > ul {\n",
       "  display: inline;\n",
       "  margin-top: 0;\n",
       "  margin-bottom: 0;\n",
       "}\n",
       "\n",
       ".xr-obj-type,\n",
       ".xr-array-name {\n",
       "  margin-left: 2px;\n",
       "  margin-right: 10px;\n",
       "}\n",
       "\n",
       ".xr-obj-type {\n",
       "  color: var(--xr-font-color2);\n",
       "}\n",
       "\n",
       ".xr-sections {\n",
       "  padding-left: 0 !important;\n",
       "  display: grid;\n",
       "  grid-template-columns: 150px auto auto 1fr 0 20px 0 20px;\n",
       "}\n",
       "\n",
       ".xr-section-item {\n",
       "  display: contents;\n",
       "}\n",
       "\n",
       ".xr-section-item input {\n",
       "  display: inline-block;\n",
       "  opacity: 0;\n",
       "}\n",
       "\n",
       ".xr-section-item input + label {\n",
       "  color: var(--xr-disabled-color);\n",
       "}\n",
       "\n",
       ".xr-section-item input:enabled + label {\n",
       "  cursor: pointer;\n",
       "  color: var(--xr-font-color2);\n",
       "}\n",
       "\n",
       ".xr-section-item input:focus + label {\n",
       "  border: 2px solid var(--xr-font-color0);\n",
       "}\n",
       "\n",
       ".xr-section-item input:enabled + label:hover {\n",
       "  color: var(--xr-font-color0);\n",
       "}\n",
       "\n",
       ".xr-section-summary {\n",
       "  grid-column: 1;\n",
       "  color: var(--xr-font-color2);\n",
       "  font-weight: 500;\n",
       "}\n",
       "\n",
       ".xr-section-summary > span {\n",
       "  display: inline-block;\n",
       "  padding-left: 0.5em;\n",
       "}\n",
       "\n",
       ".xr-section-summary-in:disabled + label {\n",
       "  color: var(--xr-font-color2);\n",
       "}\n",
       "\n",
       ".xr-section-summary-in + label:before {\n",
       "  display: inline-block;\n",
       "  content: '►';\n",
       "  font-size: 11px;\n",
       "  width: 15px;\n",
       "  text-align: center;\n",
       "}\n",
       "\n",
       ".xr-section-summary-in:disabled + label:before {\n",
       "  color: var(--xr-disabled-color);\n",
       "}\n",
       "\n",
       ".xr-section-summary-in:checked + label:before {\n",
       "  content: '▼';\n",
       "}\n",
       "\n",
       ".xr-section-summary-in:checked + label > span {\n",
       "  display: none;\n",
       "}\n",
       "\n",
       ".xr-section-summary,\n",
       ".xr-section-inline-details {\n",
       "  padding-top: 4px;\n",
       "  padding-bottom: 4px;\n",
       "}\n",
       "\n",
       ".xr-section-inline-details {\n",
       "  grid-column: 2 / -1;\n",
       "}\n",
       "\n",
       ".xr-section-details {\n",
       "  display: none;\n",
       "  grid-column: 1 / -1;\n",
       "  margin-bottom: 5px;\n",
       "}\n",
       "\n",
       ".xr-section-summary-in:checked ~ .xr-section-details {\n",
       "  display: contents;\n",
       "}\n",
       "\n",
       ".xr-array-wrap {\n",
       "  grid-column: 1 / -1;\n",
       "  display: grid;\n",
       "  grid-template-columns: 20px auto;\n",
       "}\n",
       "\n",
       ".xr-array-wrap > label {\n",
       "  grid-column: 1;\n",
       "  vertical-align: top;\n",
       "}\n",
       "\n",
       ".xr-preview {\n",
       "  color: var(--xr-font-color3);\n",
       "}\n",
       "\n",
       ".xr-array-preview,\n",
       ".xr-array-data {\n",
       "  padding: 0 5px !important;\n",
       "  grid-column: 2;\n",
       "}\n",
       "\n",
       ".xr-array-data,\n",
       ".xr-array-in:checked ~ .xr-array-preview {\n",
       "  display: none;\n",
       "}\n",
       "\n",
       ".xr-array-in:checked ~ .xr-array-data,\n",
       ".xr-array-preview {\n",
       "  display: inline-block;\n",
       "}\n",
       "\n",
       ".xr-dim-list {\n",
       "  display: inline-block !important;\n",
       "  list-style: none;\n",
       "  padding: 0 !important;\n",
       "  margin: 0;\n",
       "}\n",
       "\n",
       ".xr-dim-list li {\n",
       "  display: inline-block;\n",
       "  padding: 0;\n",
       "  margin: 0;\n",
       "}\n",
       "\n",
       ".xr-dim-list:before {\n",
       "  content: '(';\n",
       "}\n",
       "\n",
       ".xr-dim-list:after {\n",
       "  content: ')';\n",
       "}\n",
       "\n",
       ".xr-dim-list li:not(:last-child):after {\n",
       "  content: ',';\n",
       "  padding-right: 5px;\n",
       "}\n",
       "\n",
       ".xr-has-index {\n",
       "  font-weight: bold;\n",
       "}\n",
       "\n",
       ".xr-var-list,\n",
       ".xr-var-item {\n",
       "  display: contents;\n",
       "}\n",
       "\n",
       ".xr-var-item > div,\n",
       ".xr-var-item label,\n",
       ".xr-var-item > .xr-var-name span {\n",
       "  background-color: var(--xr-background-color-row-even);\n",
       "  margin-bottom: 0;\n",
       "}\n",
       "\n",
       ".xr-var-item > .xr-var-name:hover span {\n",
       "  padding-right: 5px;\n",
       "}\n",
       "\n",
       ".xr-var-list > li:nth-child(odd) > div,\n",
       ".xr-var-list > li:nth-child(odd) > label,\n",
       ".xr-var-list > li:nth-child(odd) > .xr-var-name span {\n",
       "  background-color: var(--xr-background-color-row-odd);\n",
       "}\n",
       "\n",
       ".xr-var-name {\n",
       "  grid-column: 1;\n",
       "}\n",
       "\n",
       ".xr-var-dims {\n",
       "  grid-column: 2;\n",
       "}\n",
       "\n",
       ".xr-var-dtype {\n",
       "  grid-column: 3;\n",
       "  text-align: right;\n",
       "  color: var(--xr-font-color2);\n",
       "}\n",
       "\n",
       ".xr-var-preview {\n",
       "  grid-column: 4;\n",
       "}\n",
       "\n",
       ".xr-index-preview {\n",
       "  grid-column: 2 / 5;\n",
       "  color: var(--xr-font-color2);\n",
       "}\n",
       "\n",
       ".xr-var-name,\n",
       ".xr-var-dims,\n",
       ".xr-var-dtype,\n",
       ".xr-preview,\n",
       ".xr-attrs dt {\n",
       "  white-space: nowrap;\n",
       "  overflow: hidden;\n",
       "  text-overflow: ellipsis;\n",
       "  padding-right: 10px;\n",
       "}\n",
       "\n",
       ".xr-var-name:hover,\n",
       ".xr-var-dims:hover,\n",
       ".xr-var-dtype:hover,\n",
       ".xr-attrs dt:hover {\n",
       "  overflow: visible;\n",
       "  width: auto;\n",
       "  z-index: 1;\n",
       "}\n",
       "\n",
       ".xr-var-attrs,\n",
       ".xr-var-data,\n",
       ".xr-index-data {\n",
       "  display: none;\n",
       "  background-color: var(--xr-background-color) !important;\n",
       "  padding-bottom: 5px !important;\n",
       "}\n",
       "\n",
       ".xr-var-attrs-in:checked ~ .xr-var-attrs,\n",
       ".xr-var-data-in:checked ~ .xr-var-data,\n",
       ".xr-index-data-in:checked ~ .xr-index-data {\n",
       "  display: block;\n",
       "}\n",
       "\n",
       ".xr-var-data > table {\n",
       "  float: right;\n",
       "}\n",
       "\n",
       ".xr-var-name span,\n",
       ".xr-var-data,\n",
       ".xr-index-name div,\n",
       ".xr-index-data,\n",
       ".xr-attrs {\n",
       "  padding-left: 25px !important;\n",
       "}\n",
       "\n",
       ".xr-attrs,\n",
       ".xr-var-attrs,\n",
       ".xr-var-data,\n",
       ".xr-index-data {\n",
       "  grid-column: 1 / -1;\n",
       "}\n",
       "\n",
       "dl.xr-attrs {\n",
       "  padding: 0;\n",
       "  margin: 0;\n",
       "  display: grid;\n",
       "  grid-template-columns: 125px auto;\n",
       "}\n",
       "\n",
       ".xr-attrs dt,\n",
       ".xr-attrs dd {\n",
       "  padding: 0;\n",
       "  margin: 0;\n",
       "  float: left;\n",
       "  padding-right: 10px;\n",
       "  width: auto;\n",
       "}\n",
       "\n",
       ".xr-attrs dt {\n",
       "  font-weight: normal;\n",
       "  grid-column: 1;\n",
       "}\n",
       "\n",
       ".xr-attrs dt:hover span {\n",
       "  display: inline-block;\n",
       "  background: var(--xr-background-color);\n",
       "  padding-right: 10px;\n",
       "}\n",
       "\n",
       ".xr-attrs dd {\n",
       "  grid-column: 2;\n",
       "  white-space: pre-wrap;\n",
       "  word-break: break-all;\n",
       "}\n",
       "\n",
       ".xr-icon-database,\n",
       ".xr-icon-file-text2,\n",
       ".xr-no-icon {\n",
       "  display: inline-block;\n",
       "  vertical-align: middle;\n",
       "  width: 1em;\n",
       "  height: 1.5em !important;\n",
       "  stroke-width: 0;\n",
       "  stroke: currentColor;\n",
       "  fill: currentColor;\n",
       "}\n",
       "</style><pre class='xr-text-repr-fallback'>&lt;xarray.Dataset&gt; Size: 454GB\n",
       "Dimensions:          (year: 51, y: 17173, x: 43200)\n",
       "Coordinates:\n",
       "  * y                (y) float64 137kB 83.62 83.61 83.6 ... -59.46 -59.47 -59.48\n",
       "  * x                (x) float64 346kB -180.0 -180.0 -180.0 ... 180.0 180.0\n",
       "    spatial_ref      int32 4B ...\n",
       "  * year             (year) int32 204B 1970 1971 1972 1973 ... 2018 2019 2020\n",
       "Data variables:\n",
       "    category_3_b10   (year, y, x) bool 38GB ...\n",
       "    category_3_b100  (year, y, x) bool 38GB ...\n",
       "    category_3_b25   (year, y, x) bool 38GB ...\n",
       "    category_3_b50   (year, y, x) bool 38GB ...\n",
       "    category_4_b10   (year, y, x) bool 38GB ...\n",
       "    category_4_b100  (year, y, x) bool 38GB ...\n",
       "    category_4_b25   (year, y, x) bool 38GB ...\n",
       "    category_4_b50   (year, y, x) bool 38GB ...\n",
       "    category_5_b10   (year, y, x) bool 38GB ...\n",
       "    category_5_b100  (year, y, x) bool 38GB ...\n",
       "    category_5_b25   (year, y, x) bool 38GB ...\n",
       "    category_5_b50   (year, y, x) bool 38GB ...</pre><div class='xr-wrap' style='display:none'><div class='xr-header'><div class='xr-obj-type'>xarray.Dataset</div></div><ul class='xr-sections'><li class='xr-section-item'><input id='section-e8e52b29-ce40-4cc1-bd38-2a16b60bd1de' class='xr-section-summary-in' type='checkbox' disabled ><label for='section-e8e52b29-ce40-4cc1-bd38-2a16b60bd1de' class='xr-section-summary'  title='Expand/collapse section'>Dimensions:</label><div class='xr-section-inline-details'><ul class='xr-dim-list'><li><span class='xr-has-index'>year</span>: 51</li><li><span class='xr-has-index'>y</span>: 17173</li><li><span class='xr-has-index'>x</span>: 43200</li></ul></div><div class='xr-section-details'></div></li><li class='xr-section-item'><input id='section-4ff4f58c-c044-47cd-bf47-b964d13779eb' class='xr-section-summary-in' type='checkbox'  checked><label for='section-4ff4f58c-c044-47cd-bf47-b964d13779eb' class='xr-section-summary' >Coordinates: <span>(4)</span></label><div class='xr-section-inline-details'></div><div class='xr-section-details'><ul class='xr-var-list'><li class='xr-var-item'><div class='xr-var-name'><span class='xr-has-index'>y</span></div><div class='xr-var-dims'>(y)</div><div class='xr-var-dtype'>float64</div><div class='xr-var-preview xr-preview'>83.62 83.61 83.6 ... -59.47 -59.48</div><input id='attrs-15e93327-4ec9-4808-83e9-649da91f82b2' class='xr-var-attrs-in' type='checkbox' ><label for='attrs-15e93327-4ec9-4808-83e9-649da91f82b2' title='Show/Hide attributes'><svg class='icon xr-icon-file-text2'><use xlink:href='#icon-file-text2'></use></svg></label><input id='data-f30ec3f0-71f2-4d28-831f-d5c971803458' class='xr-var-data-in' type='checkbox'><label for='data-f30ec3f0-71f2-4d28-831f-d5c971803458' title='Show/Hide data repr'><svg class='icon xr-icon-database'><use xlink:href='#icon-database'></use></svg></label><div class='xr-var-attrs'><dl class='xr-attrs'><dt><span>axis :</span></dt><dd>Y</dd><dt><span>long_name :</span></dt><dd>latitude</dd><dt><span>standard_name :</span></dt><dd>latitude</dd><dt><span>units :</span></dt><dd>degrees_north</dd></dl></div><div class='xr-var-data'><pre>array([ 83.620833,  83.6125  ,  83.604167, ..., -59.4625  , -59.470833,\n",
       "       -59.479167])</pre></div></li><li class='xr-var-item'><div class='xr-var-name'><span class='xr-has-index'>x</span></div><div class='xr-var-dims'>(x)</div><div class='xr-var-dtype'>float64</div><div class='xr-var-preview xr-preview'>-180.0 -180.0 ... 180.0 180.0</div><input id='attrs-3fdf6597-01d0-478d-b0c3-4967ade4384d' class='xr-var-attrs-in' type='checkbox' ><label for='attrs-3fdf6597-01d0-478d-b0c3-4967ade4384d' title='Show/Hide attributes'><svg class='icon xr-icon-file-text2'><use xlink:href='#icon-file-text2'></use></svg></label><input id='data-d9e56dc0-0dd4-4d16-b9c6-79fd61cfeeed' class='xr-var-data-in' type='checkbox'><label for='data-d9e56dc0-0dd4-4d16-b9c6-79fd61cfeeed' title='Show/Hide data repr'><svg class='icon xr-icon-database'><use xlink:href='#icon-database'></use></svg></label><div class='xr-var-attrs'><dl class='xr-attrs'><dt><span>long_name :</span></dt><dd>longitude</dd><dt><span>axis :</span></dt><dd>X</dd><dt><span>standard_name :</span></dt><dd>longitude</dd><dt><span>units :</span></dt><dd>degrees_east</dd></dl></div><div class='xr-var-data'><pre>array([-179.995833, -179.9875  , -179.979167, ...,  179.979167,  179.9875  ,\n",
       "        179.995833])</pre></div></li><li class='xr-var-item'><div class='xr-var-name'><span>spatial_ref</span></div><div class='xr-var-dims'>()</div><div class='xr-var-dtype'>int32</div><div class='xr-var-preview xr-preview'>...</div><input id='attrs-893de34f-9580-4297-abb1-1ed35660b96e' class='xr-var-attrs-in' type='checkbox' ><label for='attrs-893de34f-9580-4297-abb1-1ed35660b96e' title='Show/Hide attributes'><svg class='icon xr-icon-file-text2'><use xlink:href='#icon-file-text2'></use></svg></label><input id='data-36cbe57a-3a28-4aaf-8bb4-41e6128fbb3e' class='xr-var-data-in' type='checkbox'><label for='data-36cbe57a-3a28-4aaf-8bb4-41e6128fbb3e' title='Show/Hide data repr'><svg class='icon xr-icon-database'><use xlink:href='#icon-database'></use></svg></label><div class='xr-var-attrs'><dl class='xr-attrs'><dt><span>inverse_flattening :</span></dt><dd>298.257223563</dd><dt><span>reference_ellipsoid_name :</span></dt><dd>WGS 84</dd><dt><span>semi_major_axis :</span></dt><dd>6378137.0</dd><dt><span>prime_meridian_name :</span></dt><dd>Greenwich</dd><dt><span>GeoTransform :</span></dt><dd>-180.0 0.00833333333333333 0.0 83.62499999999991 0.0 -0.00833333333333333</dd><dt><span>semi_minor_axis :</span></dt><dd>6356752.314245179</dd><dt><span>longitude_of_prime_meridian :</span></dt><dd>0.0</dd><dt><span>geographic_crs_name :</span></dt><dd>WGS 84</dd><dt><span>spatial_ref :</span></dt><dd>GEOGCS[&quot;WGS 84&quot;,DATUM[&quot;WGS_1984&quot;,SPHEROID[&quot;WGS 84&quot;,6378137,298.257223563,AUTHORITY[&quot;EPSG&quot;,&quot;7030&quot;]],AUTHORITY[&quot;EPSG&quot;,&quot;6326&quot;]],PRIMEM[&quot;Greenwich&quot;,0,AUTHORITY[&quot;EPSG&quot;,&quot;8901&quot;]],UNIT[&quot;degree&quot;,0.0174532925199433,AUTHORITY[&quot;EPSG&quot;,&quot;9122&quot;]],AXIS[&quot;Latitude&quot;,NORTH],AXIS[&quot;Longitude&quot;,EAST],AUTHORITY[&quot;EPSG&quot;,&quot;4326&quot;]]</dd><dt><span>grid_mapping_name :</span></dt><dd>latitude_longitude</dd><dt><span>crs_wkt :</span></dt><dd>GEOGCS[&quot;WGS 84&quot;,DATUM[&quot;WGS_1984&quot;,SPHEROID[&quot;WGS 84&quot;,6378137,298.257223563,AUTHORITY[&quot;EPSG&quot;,&quot;7030&quot;]],AUTHORITY[&quot;EPSG&quot;,&quot;6326&quot;]],PRIMEM[&quot;Greenwich&quot;,0,AUTHORITY[&quot;EPSG&quot;,&quot;8901&quot;]],UNIT[&quot;degree&quot;,0.0174532925199433,AUTHORITY[&quot;EPSG&quot;,&quot;9122&quot;]],AXIS[&quot;Latitude&quot;,NORTH],AXIS[&quot;Longitude&quot;,EAST],AUTHORITY[&quot;EPSG&quot;,&quot;4326&quot;]]</dd></dl></div><div class='xr-var-data'><pre>[1 values with dtype=int32]</pre></div></li><li class='xr-var-item'><div class='xr-var-name'><span class='xr-has-index'>year</span></div><div class='xr-var-dims'>(year)</div><div class='xr-var-dtype'>int32</div><div class='xr-var-preview xr-preview'>1970 1971 1972 ... 2018 2019 2020</div><input id='attrs-b85193f2-48f0-4303-93cc-8b244b75280f' class='xr-var-attrs-in' type='checkbox' disabled><label for='attrs-b85193f2-48f0-4303-93cc-8b244b75280f' title='Show/Hide attributes'><svg class='icon xr-icon-file-text2'><use xlink:href='#icon-file-text2'></use></svg></label><input id='data-1e062b53-928c-4ce5-b990-58084a8e91d9' class='xr-var-data-in' type='checkbox'><label for='data-1e062b53-928c-4ce5-b990-58084a8e91d9' title='Show/Hide data repr'><svg class='icon xr-icon-database'><use xlink:href='#icon-database'></use></svg></label><div class='xr-var-attrs'><dl class='xr-attrs'></dl></div><div class='xr-var-data'><pre>array([1970, 1971, 1972, 1973, 1974, 1975, 1976, 1977, 1978, 1979, 1980, 1981,\n",
       "       1982, 1983, 1984, 1985, 1986, 1987, 1988, 1989, 1990, 1991, 1992, 1993,\n",
       "       1994, 1995, 1996, 1997, 1998, 1999, 2000, 2001, 2002, 2003, 2004, 2005,\n",
       "       2006, 2007, 2008, 2009, 2010, 2011, 2012, 2013, 2014, 2015, 2016, 2017,\n",
       "       2018, 2019, 2020])</pre></div></li></ul></div></li><li class='xr-section-item'><input id='section-9f8be5e6-b7fc-40f8-86c6-637271d298ad' class='xr-section-summary-in' type='checkbox'  checked><label for='section-9f8be5e6-b7fc-40f8-86c6-637271d298ad' class='xr-section-summary' >Data variables: <span>(12)</span></label><div class='xr-section-inline-details'></div><div class='xr-section-details'><ul class='xr-var-list'><li class='xr-var-item'><div class='xr-var-name'><span>category_3_b10</span></div><div class='xr-var-dims'>(year, y, x)</div><div class='xr-var-dtype'>bool</div><div class='xr-var-preview xr-preview'>...</div><input id='attrs-7fc6b512-83e5-4250-8b03-1cdd50980658' class='xr-var-attrs-in' type='checkbox' disabled><label for='attrs-7fc6b512-83e5-4250-8b03-1cdd50980658' title='Show/Hide attributes'><svg class='icon xr-icon-file-text2'><use xlink:href='#icon-file-text2'></use></svg></label><input id='data-3e02d985-7569-464b-9698-4b80fa6362b7' class='xr-var-data-in' type='checkbox'><label for='data-3e02d985-7569-464b-9698-4b80fa6362b7' title='Show/Hide data repr'><svg class='icon xr-icon-database'><use xlink:href='#icon-database'></use></svg></label><div class='xr-var-attrs'><dl class='xr-attrs'></dl></div><div class='xr-var-data'><pre>[37835553600 values with dtype=bool]</pre></div></li><li class='xr-var-item'><div class='xr-var-name'><span>category_3_b100</span></div><div class='xr-var-dims'>(year, y, x)</div><div class='xr-var-dtype'>bool</div><div class='xr-var-preview xr-preview'>...</div><input id='attrs-77bda575-46dd-46b8-bd1f-3024e5e4f34b' class='xr-var-attrs-in' type='checkbox' disabled><label for='attrs-77bda575-46dd-46b8-bd1f-3024e5e4f34b' title='Show/Hide attributes'><svg class='icon xr-icon-file-text2'><use xlink:href='#icon-file-text2'></use></svg></label><input id='data-25f43525-ac5a-4bcd-911d-5737599846e7' class='xr-var-data-in' type='checkbox'><label for='data-25f43525-ac5a-4bcd-911d-5737599846e7' title='Show/Hide data repr'><svg class='icon xr-icon-database'><use xlink:href='#icon-database'></use></svg></label><div class='xr-var-attrs'><dl class='xr-attrs'></dl></div><div class='xr-var-data'><pre>[37835553600 values with dtype=bool]</pre></div></li><li class='xr-var-item'><div class='xr-var-name'><span>category_3_b25</span></div><div class='xr-var-dims'>(year, y, x)</div><div class='xr-var-dtype'>bool</div><div class='xr-var-preview xr-preview'>...</div><input id='attrs-c184489f-d5b8-468f-98c1-f8c447afbb21' class='xr-var-attrs-in' type='checkbox' disabled><label for='attrs-c184489f-d5b8-468f-98c1-f8c447afbb21' title='Show/Hide attributes'><svg class='icon xr-icon-file-text2'><use xlink:href='#icon-file-text2'></use></svg></label><input id='data-b0fb79b4-b7c2-4221-aa6c-a47fc5aabbb9' class='xr-var-data-in' type='checkbox'><label for='data-b0fb79b4-b7c2-4221-aa6c-a47fc5aabbb9' title='Show/Hide data repr'><svg class='icon xr-icon-database'><use xlink:href='#icon-database'></use></svg></label><div class='xr-var-attrs'><dl class='xr-attrs'></dl></div><div class='xr-var-data'><pre>[37835553600 values with dtype=bool]</pre></div></li><li class='xr-var-item'><div class='xr-var-name'><span>category_3_b50</span></div><div class='xr-var-dims'>(year, y, x)</div><div class='xr-var-dtype'>bool</div><div class='xr-var-preview xr-preview'>...</div><input id='attrs-f4fa4ef7-51f1-4a84-9b17-022a28e5ce01' class='xr-var-attrs-in' type='checkbox' disabled><label for='attrs-f4fa4ef7-51f1-4a84-9b17-022a28e5ce01' title='Show/Hide attributes'><svg class='icon xr-icon-file-text2'><use xlink:href='#icon-file-text2'></use></svg></label><input id='data-4211ab71-ad05-4166-a2b6-0211d5ceaab0' class='xr-var-data-in' type='checkbox'><label for='data-4211ab71-ad05-4166-a2b6-0211d5ceaab0' title='Show/Hide data repr'><svg class='icon xr-icon-database'><use xlink:href='#icon-database'></use></svg></label><div class='xr-var-attrs'><dl class='xr-attrs'></dl></div><div class='xr-var-data'><pre>[37835553600 values with dtype=bool]</pre></div></li><li class='xr-var-item'><div class='xr-var-name'><span>category_4_b10</span></div><div class='xr-var-dims'>(year, y, x)</div><div class='xr-var-dtype'>bool</div><div class='xr-var-preview xr-preview'>...</div><input id='attrs-1b154f5d-8911-4447-9d62-d1df82221c50' class='xr-var-attrs-in' type='checkbox' disabled><label for='attrs-1b154f5d-8911-4447-9d62-d1df82221c50' title='Show/Hide attributes'><svg class='icon xr-icon-file-text2'><use xlink:href='#icon-file-text2'></use></svg></label><input id='data-07f2adf3-a815-48e0-b908-167248e5a194' class='xr-var-data-in' type='checkbox'><label for='data-07f2adf3-a815-48e0-b908-167248e5a194' title='Show/Hide data repr'><svg class='icon xr-icon-database'><use xlink:href='#icon-database'></use></svg></label><div class='xr-var-attrs'><dl class='xr-attrs'></dl></div><div class='xr-var-data'><pre>[37835553600 values with dtype=bool]</pre></div></li><li class='xr-var-item'><div class='xr-var-name'><span>category_4_b100</span></div><div class='xr-var-dims'>(year, y, x)</div><div class='xr-var-dtype'>bool</div><div class='xr-var-preview xr-preview'>...</div><input id='attrs-d93a4272-6805-4486-ab64-70401df2adb1' class='xr-var-attrs-in' type='checkbox' disabled><label for='attrs-d93a4272-6805-4486-ab64-70401df2adb1' title='Show/Hide attributes'><svg class='icon xr-icon-file-text2'><use xlink:href='#icon-file-text2'></use></svg></label><input id='data-3e123176-e4d3-4d0c-81db-777dfc73c03a' class='xr-var-data-in' type='checkbox'><label for='data-3e123176-e4d3-4d0c-81db-777dfc73c03a' title='Show/Hide data repr'><svg class='icon xr-icon-database'><use xlink:href='#icon-database'></use></svg></label><div class='xr-var-attrs'><dl class='xr-attrs'></dl></div><div class='xr-var-data'><pre>[37835553600 values with dtype=bool]</pre></div></li><li class='xr-var-item'><div class='xr-var-name'><span>category_4_b25</span></div><div class='xr-var-dims'>(year, y, x)</div><div class='xr-var-dtype'>bool</div><div class='xr-var-preview xr-preview'>...</div><input id='attrs-e60382b0-20e6-4e5c-a7f1-206a38c261bc' class='xr-var-attrs-in' type='checkbox' disabled><label for='attrs-e60382b0-20e6-4e5c-a7f1-206a38c261bc' title='Show/Hide attributes'><svg class='icon xr-icon-file-text2'><use xlink:href='#icon-file-text2'></use></svg></label><input id='data-97ead037-887b-448b-b5e2-df5eeeaece17' class='xr-var-data-in' type='checkbox'><label for='data-97ead037-887b-448b-b5e2-df5eeeaece17' title='Show/Hide data repr'><svg class='icon xr-icon-database'><use xlink:href='#icon-database'></use></svg></label><div class='xr-var-attrs'><dl class='xr-attrs'></dl></div><div class='xr-var-data'><pre>[37835553600 values with dtype=bool]</pre></div></li><li class='xr-var-item'><div class='xr-var-name'><span>category_4_b50</span></div><div class='xr-var-dims'>(year, y, x)</div><div class='xr-var-dtype'>bool</div><div class='xr-var-preview xr-preview'>...</div><input id='attrs-a59ebdc4-60aa-4c86-84a9-568cce9888d0' class='xr-var-attrs-in' type='checkbox' disabled><label for='attrs-a59ebdc4-60aa-4c86-84a9-568cce9888d0' title='Show/Hide attributes'><svg class='icon xr-icon-file-text2'><use xlink:href='#icon-file-text2'></use></svg></label><input id='data-0839bdb9-d379-49c4-a417-812e27099542' class='xr-var-data-in' type='checkbox'><label for='data-0839bdb9-d379-49c4-a417-812e27099542' title='Show/Hide data repr'><svg class='icon xr-icon-database'><use xlink:href='#icon-database'></use></svg></label><div class='xr-var-attrs'><dl class='xr-attrs'></dl></div><div class='xr-var-data'><pre>[37835553600 values with dtype=bool]</pre></div></li><li class='xr-var-item'><div class='xr-var-name'><span>category_5_b10</span></div><div class='xr-var-dims'>(year, y, x)</div><div class='xr-var-dtype'>bool</div><div class='xr-var-preview xr-preview'>...</div><input id='attrs-b95cce66-fb37-4139-8aff-c6cf7d458d2a' class='xr-var-attrs-in' type='checkbox' disabled><label for='attrs-b95cce66-fb37-4139-8aff-c6cf7d458d2a' title='Show/Hide attributes'><svg class='icon xr-icon-file-text2'><use xlink:href='#icon-file-text2'></use></svg></label><input id='data-346c1d5e-c32c-4983-8ac4-f5a0de60533d' class='xr-var-data-in' type='checkbox'><label for='data-346c1d5e-c32c-4983-8ac4-f5a0de60533d' title='Show/Hide data repr'><svg class='icon xr-icon-database'><use xlink:href='#icon-database'></use></svg></label><div class='xr-var-attrs'><dl class='xr-attrs'></dl></div><div class='xr-var-data'><pre>[37835553600 values with dtype=bool]</pre></div></li><li class='xr-var-item'><div class='xr-var-name'><span>category_5_b100</span></div><div class='xr-var-dims'>(year, y, x)</div><div class='xr-var-dtype'>bool</div><div class='xr-var-preview xr-preview'>...</div><input id='attrs-b209ed1c-821b-42c2-934f-9eb7ce2c35df' class='xr-var-attrs-in' type='checkbox' disabled><label for='attrs-b209ed1c-821b-42c2-934f-9eb7ce2c35df' title='Show/Hide attributes'><svg class='icon xr-icon-file-text2'><use xlink:href='#icon-file-text2'></use></svg></label><input id='data-63d649a8-5884-4838-9ddc-7da8020cbb05' class='xr-var-data-in' type='checkbox'><label for='data-63d649a8-5884-4838-9ddc-7da8020cbb05' title='Show/Hide data repr'><svg class='icon xr-icon-database'><use xlink:href='#icon-database'></use></svg></label><div class='xr-var-attrs'><dl class='xr-attrs'></dl></div><div class='xr-var-data'><pre>[37835553600 values with dtype=bool]</pre></div></li><li class='xr-var-item'><div class='xr-var-name'><span>category_5_b25</span></div><div class='xr-var-dims'>(year, y, x)</div><div class='xr-var-dtype'>bool</div><div class='xr-var-preview xr-preview'>...</div><input id='attrs-7469a04e-86e4-496f-bec6-e4653b63c9e8' class='xr-var-attrs-in' type='checkbox' disabled><label for='attrs-7469a04e-86e4-496f-bec6-e4653b63c9e8' title='Show/Hide attributes'><svg class='icon xr-icon-file-text2'><use xlink:href='#icon-file-text2'></use></svg></label><input id='data-4ea519ec-f891-478c-9b55-a29302dfe4a3' class='xr-var-data-in' type='checkbox'><label for='data-4ea519ec-f891-478c-9b55-a29302dfe4a3' title='Show/Hide data repr'><svg class='icon xr-icon-database'><use xlink:href='#icon-database'></use></svg></label><div class='xr-var-attrs'><dl class='xr-attrs'></dl></div><div class='xr-var-data'><pre>[37835553600 values with dtype=bool]</pre></div></li><li class='xr-var-item'><div class='xr-var-name'><span>category_5_b50</span></div><div class='xr-var-dims'>(year, y, x)</div><div class='xr-var-dtype'>bool</div><div class='xr-var-preview xr-preview'>...</div><input id='attrs-e49fb6c1-9cd9-4ac3-b6d7-18de1382abe4' class='xr-var-attrs-in' type='checkbox' disabled><label for='attrs-e49fb6c1-9cd9-4ac3-b6d7-18de1382abe4' title='Show/Hide attributes'><svg class='icon xr-icon-file-text2'><use xlink:href='#icon-file-text2'></use></svg></label><input id='data-5b089d22-f4e4-41ff-8d95-30f285200b95' class='xr-var-data-in' type='checkbox'><label for='data-5b089d22-f4e4-41ff-8d95-30f285200b95' title='Show/Hide data repr'><svg class='icon xr-icon-database'><use xlink:href='#icon-database'></use></svg></label><div class='xr-var-attrs'><dl class='xr-attrs'></dl></div><div class='xr-var-data'><pre>[37835553600 values with dtype=bool]</pre></div></li></ul></div></li><li class='xr-section-item'><input id='section-0e08c5c6-9a01-4907-ab92-cfdf48c9f5ed' class='xr-section-summary-in' type='checkbox'  ><label for='section-0e08c5c6-9a01-4907-ab92-cfdf48c9f5ed' class='xr-section-summary' >Indexes: <span>(3)</span></label><div class='xr-section-inline-details'></div><div class='xr-section-details'><ul class='xr-var-list'><li class='xr-var-item'><div class='xr-index-name'><div>y</div></div><div class='xr-index-preview'>PandasIndex</div><div></div><input id='index-6818c415-7533-4c2f-982e-38adaa62a766' class='xr-index-data-in' type='checkbox'/><label for='index-6818c415-7533-4c2f-982e-38adaa62a766' title='Show/Hide index repr'><svg class='icon xr-icon-database'><use xlink:href='#icon-database'></use></svg></label><div class='xr-index-data'><pre>PandasIndex(Index([  83.62083333333325,   83.61249999999991,   83.60416666666659,\n",
       "         83.59583333333325,   83.58749999999992,   83.57916666666658,\n",
       "         83.57083333333325,   83.56249999999991,   83.55416666666659,\n",
       "         83.54583333333325,\n",
       "       ...\n",
       "         -59.4041666666667,  -59.41250000000002,  -59.42083333333335,\n",
       "       -59.429166666666674,  -59.43750000000003, -59.445833333333354,\n",
       "        -59.45416666666668, -59.462500000000034,  -59.47083333333336,\n",
       "       -59.479166666666686],\n",
       "      dtype=&#x27;float64&#x27;, name=&#x27;y&#x27;, length=17173))</pre></div></li><li class='xr-var-item'><div class='xr-index-name'><div>x</div></div><div class='xr-index-preview'>PandasIndex</div><div></div><input id='index-be5a857d-6ed8-425c-87b1-7115306444cb' class='xr-index-data-in' type='checkbox'/><label for='index-be5a857d-6ed8-425c-87b1-7115306444cb' title='Show/Hide index repr'><svg class='icon xr-icon-database'><use xlink:href='#icon-database'></use></svg></label><div class='xr-index-data'><pre>PandasIndex(Index([-179.99583333333334,           -179.9875, -179.97916666666666,\n",
       "       -179.97083333333333,           -179.9625, -179.95416666666668,\n",
       "       -179.94583333333333,           -179.9375, -179.92916666666667,\n",
       "       -179.92083333333335,\n",
       "       ...\n",
       "        179.92083333333318,   179.9291666666665,  179.93749999999983,\n",
       "        179.94583333333316,  179.95416666666648,  179.96249999999986,\n",
       "         179.9708333333332,  179.97916666666652,  179.98749999999984,\n",
       "        179.99583333333317],\n",
       "      dtype=&#x27;float64&#x27;, name=&#x27;x&#x27;, length=43200))</pre></div></li><li class='xr-var-item'><div class='xr-index-name'><div>year</div></div><div class='xr-index-preview'>PandasIndex</div><div></div><input id='index-7652b450-7ce7-46e5-9c7e-ca04f9f5692e' class='xr-index-data-in' type='checkbox'/><label for='index-7652b450-7ce7-46e5-9c7e-ca04f9f5692e' title='Show/Hide index repr'><svg class='icon xr-icon-database'><use xlink:href='#icon-database'></use></svg></label><div class='xr-index-data'><pre>PandasIndex(Index([1970, 1971, 1972, 1973, 1974, 1975, 1976, 1977, 1978, 1979, 1980, 1981,\n",
       "       1982, 1983, 1984, 1985, 1986, 1987, 1988, 1989, 1990, 1991, 1992, 1993,\n",
       "       1994, 1995, 1996, 1997, 1998, 1999, 2000, 2001, 2002, 2003, 2004, 2005,\n",
       "       2006, 2007, 2008, 2009, 2010, 2011, 2012, 2013, 2014, 2015, 2016, 2017,\n",
       "       2018, 2019, 2020],\n",
       "      dtype=&#x27;int32&#x27;, name=&#x27;year&#x27;))</pre></div></li></ul></div></li><li class='xr-section-item'><input id='section-e9ca7970-c991-4825-93df-5aa499621aac' class='xr-section-summary-in' type='checkbox' disabled ><label for='section-e9ca7970-c991-4825-93df-5aa499621aac' class='xr-section-summary'  title='Expand/collapse section'>Attributes: <span>(0)</span></label><div class='xr-section-inline-details'></div><div class='xr-section-details'><dl class='xr-attrs'></dl></div></li></ul></div></div>"
      ],
      "text/plain": [
       "<xarray.Dataset> Size: 454GB\n",
       "Dimensions:          (year: 51, y: 17173, x: 43200)\n",
       "Coordinates:\n",
       "  * y                (y) float64 137kB 83.62 83.61 83.6 ... -59.46 -59.47 -59.48\n",
       "  * x                (x) float64 346kB -180.0 -180.0 -180.0 ... 180.0 180.0\n",
       "    spatial_ref      int32 4B ...\n",
       "  * year             (year) int32 204B 1970 1971 1972 1973 ... 2018 2019 2020\n",
       "Data variables:\n",
       "    category_3_b10   (year, y, x) bool 38GB ...\n",
       "    category_3_b100  (year, y, x) bool 38GB ...\n",
       "    category_3_b25   (year, y, x) bool 38GB ...\n",
       "    category_3_b50   (year, y, x) bool 38GB ...\n",
       "    category_4_b10   (year, y, x) bool 38GB ...\n",
       "    category_4_b100  (year, y, x) bool 38GB ...\n",
       "    category_4_b25   (year, y, x) bool 38GB ...\n",
       "    category_4_b50   (year, y, x) bool 38GB ...\n",
       "    category_5_b10   (year, y, x) bool 38GB ...\n",
       "    category_5_b100  (year, y, x) bool 38GB ...\n",
       "    category_5_b25   (year, y, x) bool 38GB ...\n",
       "    category_5_b50   (year, y, x) bool 38GB ..."
      ]
     },
     "execution_count": 17,
     "metadata": {},
     "output_type": "execute_result"
    }
   ],
   "source": [
    "import xarray as xr\n",
    "\n",
    "coldwaves = xr.open_dataset(\"D:\\World Bank\\CLIENT v2\\Data\\Data_out\\IBTrACS_hurricanes_yearly.nc\")\n",
    "coldwaves"
   ]
  },
  {
   "cell_type": "code",
   "execution_count": null,
   "metadata": {},
   "outputs": [],
   "source": []
  },
  {
   "cell_type": "code",
   "execution_count": 27,
   "metadata": {},
   "outputs": [],
   "source": [
    "import sys\n",
    "# Check size in RAM used\n",
    "sys.getsizeof(coldwaves[\"category_3_b10\"].head(1000).load())"
   ]
  },
  {
   "cell_type": "code",
   "execution_count": 54,
   "metadata": {},
   "outputs": [],
   "source": [
    "import utils\n",
    "year = 2004\n",
    "coldwaves = xr.open_dataset(rf\"{DATA_OUT}/CCKP_coldwaves_yearly.nc\")\n",
    "fd = coldwaves.sel(year=year).fd20\n",
    "\n",
    "WB_data = gpd.read_feather(rf\"{DATA_PROC}/WB_country_IDs.feather\")\n",
    "\n",
    "datafilter, chunk_bounds = utils.get_filter_from_chunk_number(\n",
    "    5, total_chunks=16, canvas=WB_data.total_bounds\n",
    ")\n",
    "fd = fd.sel(datafilter)"
   ]
  },
  {
   "cell_type": "code",
   "execution_count": null,
   "metadata": {},
   "outputs": [],
   "source": [
    "WB_data = gpd.read_feather(rf\"{DATA_PROC}/WB_country_IDs.feather\")\n",
    "df = pd.read_parquet(rf\"D:\\World Bank\\CLIENT v2\\Data\\Data_proc\\shocks_by_adm\\WB\\WB_coldwaves_fd20_{year}_5_zonal_stats.parquet\")\n",
    "merged = WB_data.set_index(\"ID\").join(df, how=\"inner\")\n",
    "merged"
   ]
  },
  {
   "cell_type": "code",
   "execution_count": null,
   "metadata": {},
   "outputs": [],
   "source": [
    "import folium\n",
    "import matplotlib.pyplot as plt\n",
    "from tqdm import tqdm\n",
    "\n",
    "merged[\"area_affected\"] = (merged[\"cells_affected\"] / merged[\"total_cells\"]).fillna(0)\n",
    "merged[\"population_affected\"] = (merged[\"population_affected_n\"] / merged[\"total_population\"]).fillna(0)\n",
    "ax = merged.plot(column=\"area_affected\", figsize=(60, 20))\n",
    "\n",
    "fd.plot(ax=ax, alpha=0.5)\n",
    "\n",
    "# Add the area_affected value at the centroid of each polygon\n",
    "for idx, row in tqdm(merged.iterrows(), total=len(merged)):\n",
    "    if row.geometry is not None and row.geometry.is_valid:\n",
    "        centroid = row.geometry.centroid\n",
    "        value = int(row['area_affected'] * 100)\n",
    "        ax.text(\n",
    "            centroid.x, centroid.y, f\"{value}\",\n",
    "            horizontalalignment='center',\n",
    "            fontsize=4,\n",
    "            color='black'\n",
    "        )\n",
    "\n",
    "plt.savefig(rf\"{DATA_OUT}/coldwave_affected_area.png\", dpi=1000)"
   ]
  },
  {
   "cell_type": "code",
   "execution_count": null,
   "metadata": {},
   "outputs": [],
   "source": [
    "import xarray as xr\n",
    "import pandas as pd\n",
    "df = pd.read_parquet(r\"D:\\World Bank\\CLIENT v2\\Data\\Data_proc\\shocks_by_adm\\WB\\WB_coldwaves_id25_2015_5_zonal_stats.parquet\")\n",
    "df"
   ]
  },
  {
   "cell_type": "code",
   "execution_count": 2,
   "metadata": {},
   "outputs": [],
   "source": [
    "gdf = pd.read_csv(r\"D:\\World Bank\\CLIENT v2\\Data\\Data_out\\for webpage\\WB_map.csv\")\n",
    "gdf = gpd.GeoDataFrame(gdf, geometry=gpd.GeoSeries.from_wkt(gdf['geometry']))"
   ]
  },
  {
   "cell_type": "code",
   "execution_count": 3,
   "metadata": {},
   "outputs": [],
   "source": [
    "gdf = gdf.set_crs(epsg=4326)"
   ]
  },
  {
   "cell_type": "code",
   "execution_count": null,
   "metadata": {},
   "outputs": [],
   "source": [
    "gdf"
   ]
  },
  {
   "cell_type": "code",
   "execution_count": 26,
   "metadata": {},
   "outputs": [],
   "source": [
    "# df_cw = pd.read_csv(r\"D:\\World Bank\\CLIENT v2\\Data\\Data_out\\for webpage\\WB_coldwaves.csv\")\n",
    "df_hw = pd.read_csv(r\"D:\\World Bank\\CLIENT v2\\Data\\Data_out\\for webpage\\WB_heatwaves.csv\")\n",
    "# df_dt = pd.read_csv(r\"D:\\World Bank\\CLIENT v2\\Data\\Data_out\\for webpage\\WB_drought.csv\", nrows=1_000_000)"
   ]
  },
  {
   "cell_type": "code",
   "execution_count": 27,
   "metadata": {},
   "outputs": [],
   "source": [
    "code=37\n",
    "year=2015"
   ]
  },
  {
   "cell_type": "code",
   "execution_count": null,
   "metadata": {},
   "outputs": [],
   "source": [
    "gdf.merge(df_dt.query(f\"year==1970 and variable=='SPEI1' and threshold=='20sd' and measure=='population_affected' and adm0_code=={code}\"), on=['adm0_code', 'adm1_code', 'adm2_code'], how='inner').explore(column='value')"
   ]
  },
  {
   "cell_type": "code",
   "execution_count": null,
   "metadata": {},
   "outputs": [],
   "source": [
    "gdf.merge(df_hw.query(f\"year=={year} and variable=='hw' and threshold==4020 and measure=='population_affected' and adm0_code=={code}\"), on=['adm0_code', 'adm1_code', 'adm2_code'], how='inner').explore(column='value')"
   ]
  },
  {
   "cell_type": "code",
   "execution_count": null,
   "metadata": {},
   "outputs": [],
   "source": [
    "gdf.merge(df_cw.query(f\"year=={year} and variable=='fd' and threshold==20 and measure=='population_affected' and adm0_code=={code}\"), on=['adm0_code', 'adm1_code', 'adm2_code'], how='inner').explore(column='value')"
   ]
  },
  {
   "cell_type": "code",
   "execution_count": null,
   "metadata": {},
   "outputs": [],
   "source": [
    "import xarray as xr\n",
    "\n",
    "ds = xr.open_dataset(r\"D:\\World Bank\\CLIENT v2\\Data\\Data_out\\IBTrACS_hurricanes_yearly.nc\")\n",
    "ds"
   ]
  },
  {
   "cell_type": "code",
   "execution_count": 12,
   "metadata": {},
   "outputs": [],
   "source": [
    "import geopandas as gpd\n",
    "\n",
    "path = \"G:\\Maestría\\Tesis\\Repo\\data\\data_out\\gridded_predictions\\effnet_v2S_lr0.0001_size128_y2013-2018-2022_stack1-4\"\n",
    "for year in [2013, 2018, 2022]:\n",
    "    gdf = gpd.read_parquet(rf\"{path}\\effnet_v2S_lr0.0001_size128_y2013-2018-2022_stack1-4_141_predictions_{year}.parquet\") \n",
    "    gdf = gdf[[\"id\", \"bounds_geom\", \"link\", \"real_value\", \"prediction\", \"prediction_error\"]].rename(columns={\"bounds_geom\": \"geometry\", \"prediction_error\": \"error\"})\n",
    "    gdf.set_geometry(\"geometry\", inplace=True)\n",
    "    gdf.to_file(rf\"{path}\\income_estimates_{year}.shp\")"
   ]
  },
  {
   "cell_type": "code",
   "execution_count": null,
   "metadata": {},
   "outputs": [],
   "source": [
    "ds.sel(year=2008, x=slice(-85, -70), y=slice(24, 17))[\"category_3_b10\"].plot()"
   ]
  },
  {
   "cell_type": "code",
   "execution_count": 15,
   "metadata": {},
   "outputs": [],
   "source": [
    "gdf.head(20).explore().save(\"heat_map.html\")\n"
   ]
  },
  {
   "cell_type": "code",
   "execution_count": null,
   "metadata": {},
   "outputs": [],
   "source": [
    "import shapely\n",
    "\n",
    "gdf = pd.read_parquet(r\"D:\\World Bank\\CLIENT v2\\Data\\Data_proc\\IPUMS_full.parquet\")\n",
    "# Parse geometry column from string to geometry\n",
    "gdf[\"geometry\"] = gdf[\"geometry\"].apply(lambda x: shapely.wkt.loads(x))\n",
    "gdf = gpd.GeoDataFrame(gdf, geometry='geometry')\n",
    "gdf = gdf.set_crs(epsg=4326)\n",
    "IPUMS_countries = gdf.dissolve(by=\"CNTRY_CODE\")"
   ]
  },
  {
   "cell_type": "code",
   "execution_count": null,
   "metadata": {},
   "outputs": [],
   "source": [
    "IPUMS_countries.to_parquet(r\"D:\\World Bank\\CLIENT v2\\Data\\Data_proc\\IPUMS_international_bounds.parquet\")"
   ]
  },
  {
   "cell_type": "code",
   "execution_count": null,
   "metadata": {},
   "outputs": [],
   "source": [
    "gdf = gpd.read_feather(r\"D:\\World Bank\\CLIENT v2\\Data\\Data_proc\\WB_country_IDs.feather\")\n",
    "WB_countries = gdf.dissolve(by=\"ADM0_CODE\")\n",
    "WB_countries[[\"geometry\"]].to_parquet(r\"D:\\World Bank\\CLIENT v2\\Data\\Data_proc\\WB_international_bounds.parquet\")"
   ]
  },
  {
   "cell_type": "code",
   "execution_count": null,
   "metadata": {},
   "outputs": [],
   "source": []
  },
  {
   "cell_type": "code",
   "execution_count": null,
   "metadata": {},
   "outputs": [],
   "source": [
    "ds_mean = xr.open_dataset(r\"D:\\World Bank\\CLIENT v2\\Data\\Data_proc\\heatwaves and coldwaves\\frostdays_mean.nc\")\n",
    "ds_std = xr.open_dataset(r\"D:\\World Bank\\CLIENT v2\\Data\\Data_proc\\heatwaves and coldwaves\\frostdays_std.nc\")\n"
   ]
  },
  {
   "cell_type": "code",
   "execution_count": null,
   "metadata": {},
   "outputs": [],
   "source": [
    "ds_mean[\"timeseries-fd-monthly-mean\"].sel(month=5).plot()"
   ]
  },
  {
   "cell_type": "code",
   "execution_count": null,
   "metadata": {},
   "outputs": [],
   "source": [
    "ds_std"
   ]
  },
  {
   "cell_type": "code",
   "execution_count": null,
   "metadata": {},
   "outputs": [],
   "source": [
    "ds[\"timeseries-fd-monthly-mean\"].max()"
   ]
  },
  {
   "cell_type": "code",
   "execution_count": null,
   "metadata": {},
   "outputs": [],
   "source": [
    "file = \"timeseries-rx1day-monthly-mean_era_monthly_era5-0.5x0.5-timeseries_mean_1950-2020.nc\"\n",
    "ds = xr.open_dataset(rf\"{DATA_RAW}\\ERA5_CCKP\\{file}\", chunks={\"time\": 12})\n",
    "ds = ds.sel(bnds=0).isel(time=slice(0, 24)) # both bands are the same\n",
    "ds = ds.drop_vars([\"lon_bnds\", \"lat_bnds\", \"bnds\"])\n",
    "ds = (ds[\"timeseries-rx1day-monthly-mean\"] > 200)\n",
    "ds_year = ds.groupby('time.year').max()\n",
    "ds_year.sel(year=1951).plot()"
   ]
  },
  {
   "cell_type": "code",
   "execution_count": null,
   "metadata": {},
   "outputs": [],
   "source": [
    "ds.drop(\"month\")[\"timeseries-id-monthly-mean\"].isel(time=600).plot()"
   ]
  },
  {
   "cell_type": "code",
   "execution_count": null,
   "metadata": {},
   "outputs": [],
   "source": [
    "df = pd.read_parquet(r\"D:\\World Bank\\CLIENT v2\\Data\\Data_out\\\")\n",
    "ids = gpd.read_feather(rf\"{DATA_PROC}\\IPUMS_country_IDs.feather\")\n",
    "merged = ids.merge(df, on=\"ID\")\n",
    "\n",
    "\n",
    "# merged[merged[\"CNTRY_CODE\"]==32]"
   ]
  },
  {
   "cell_type": "code",
   "execution_count": null,
   "metadata": {},
   "outputs": [],
   "source": [
    "data = gpd.read_file(r\"D:\\World Bank\\CLIENT v2\\Data\\Data_raw\\IPUMS Fixed\\geo2_us2000_2015.shp\")\n",
    "data#[data.duplicated(subset=[\"CNTRY_NAME\", \"GEOLEVEL2\"])]"
   ]
  },
  {
   "cell_type": "code",
   "execution_count": null,
   "metadata": {},
   "outputs": [],
   "source": [
    "arg = merged[merged[\"CNTRY_CODE\"]==840]\n",
    "arg\n",
    "arg[arg.duplicated(subset=[\"CNTRY_CODE\", \"GEOLEVEL2\", \"year\", \"chunk\"])]"
   ]
  },
  {
   "cell_type": "code",
   "execution_count": null,
   "metadata": {},
   "outputs": [],
   "source": [
    "ids = gpd.read_feather(r\"D:\\World Bank\\CLIENT v2\\Data\\Data_proc\\IPUMS_country_IDs.feather\")"
   ]
  },
  {
   "cell_type": "code",
   "execution_count": null,
   "metadata": {},
   "outputs": [],
   "source": [
    "col = gpd.read_file(r\"C:\\Users\\ofici\\Downloads\\geo2_co1973_2005\\geo2_co1973_2005\\geo2_co1973_2005.shp\")\n",
    "col.plot()"
   ]
  },
  {
   "cell_type": "code",
   "execution_count": null,
   "metadata": {},
   "outputs": [],
   "source": []
  },
  {
   "cell_type": "code",
   "execution_count": null,
   "metadata": {},
   "outputs": [],
   "source": [
    "# Filter 32.484701,28.060757,37.693608,34.383724\n",
    "ids.cx[32.484701:37.693608, 28.060757:34.383724].explore()"
   ]
  },
  {
   "cell_type": "code",
   "execution_count": null,
   "metadata": {},
   "outputs": [],
   "source": [
    "ids[ids[\"CNTRY_CODE\"] == 704]"
   ]
  },
  {
   "cell_type": "code",
   "execution_count": null,
   "metadata": {},
   "outputs": [],
   "source": [
    "ids[ids[\"GEOLEVEL1\"] == 646002]\n"
   ]
  },
  {
   "cell_type": "code",
   "execution_count": null,
   "metadata": {},
   "outputs": [],
   "source": [
    "ids[ids[\"GEOLEVEL2\"] == 600001999]\n"
   ]
  },
  {
   "cell_type": "code",
   "execution_count": null,
   "metadata": {},
   "outputs": [],
   "source": [
    "m = col[col[\"GEOLEVEL2\"] == \"170027004\"].explore()\n",
    "col_geo1[col_geo1[\"GEOLEVEL1\"] == \"170027\"].explore(m=m, color=\"red\")"
   ]
  },
  {
   "cell_type": "code",
   "execution_count": null,
   "metadata": {},
   "outputs": [],
   "source": [
    "ids[ids[\"GEOLEVEL2\"] == 170027004]"
   ]
  },
  {
   "cell_type": "code",
   "execution_count": null,
   "metadata": {},
   "outputs": [],
   "source": [
    "ids[ids[]]"
   ]
  },
  {
   "cell_type": "code",
   "execution_count": null,
   "metadata": {},
   "outputs": [],
   "source": [
    "ds = xr.open_dataset(r\"D:\\World Bank\\CLIENT v2\\Data\\Data_proc\\IPUMS_country_grid.nc\")\n",
    "\n"
   ]
  },
  {
   "cell_type": "code",
   "execution_count": null,
   "metadata": {},
   "outputs": [],
   "source": [
    "# ids.cx[32.484701:37.693608, 28.060757:34.383724].explore()\n",
    "ds.sel(x=slice(32.484701, 37.693608), y=slice(34.383724, 28.060757)).ID.plot()"
   ]
  },
  {
   "cell_type": "code",
   "execution_count": null,
   "metadata": {},
   "outputs": [],
   "source": [
    "# -74.047748,40.638723,-73.933391,40.719389\n",
    "\n",
    "from geocube.vector import vectorize\n",
    "\n",
    "grid_gdf = vectorize(ds.sel(x=slice(-74.047748, -73.933391), y=slice(40.719389, 40.638723)).ID.astype(\"float32\"))\n"
   ]
  },
  {
   "cell_type": "code",
   "execution_count": null,
   "metadata": {},
   "outputs": [],
   "source": [
    "ids[ids.GEOLEVEL2 == 840036721]"
   ]
  },
  {
   "cell_type": "code",
   "execution_count": null,
   "metadata": {},
   "outputs": [],
   "source": [
    "m = ids[ids.GEOLEVEL2 == 840036721].explore()\n",
    "grid_gdf.explore(m=m, column=\"ID\")\n",
    "\n"
   ]
  },
  {
   "cell_type": "code",
   "execution_count": null,
   "metadata": {},
   "outputs": [],
   "source": [
    "grid_gdf[grid_gdf.ID == 16380]"
   ]
  },
  {
   "cell_type": "code",
   "execution_count": null,
   "metadata": {},
   "outputs": [],
   "source": [
    "hurr = pd.read_stata(r\"D:\\World Bank\\CLIENT v2\\Data\\Data_out\\IPUMS_hurricanes_wide.dta\")\n"
   ]
  },
  {
   "cell_type": "code",
   "execution_count": null,
   "metadata": {},
   "outputs": [],
   "source": [
    "hurr[hurr.geolevel2 == 32002001]"
   ]
  },
  {
   "cell_type": "code",
   "execution_count": null,
   "metadata": {},
   "outputs": [],
   "source": [
    "ids[ids.GEOLEVEL2 == 170094001].explore()"
   ]
  },
  {
   "cell_type": "code",
   "execution_count": null,
   "metadata": {},
   "outputs": [],
   "source": [
    "ids[ids.CNTRY_CODE == 170].explore()"
   ]
  },
  {
   "cell_type": "code",
   "execution_count": null,
   "metadata": {},
   "outputs": [],
   "source": [
    "nombres = {170: }\n",
    "errores = [170, 275, 376, 454, 508, 566, 604, 862]\n",
    "diag = {code: (ids.CNTRY_CODE == code).sum() for code in errores}\n",
    "diag"
   ]
  },
  {
   "cell_type": "code",
   "execution_count": null,
   "metadata": {},
   "outputs": [],
   "source": [
    "import xarray as xr\n",
    "ds = xr.open_dataset(r\"D:\\World Bank\\CLIENT v2\\Data\\Data_out\\ERA5_droughts_yearly.nc\")\n",
    "ds"
   ]
  },
  {
   "cell_type": "code",
   "execution_count": null,
   "metadata": {},
   "outputs": [],
   "source": [
    "import matplotlib.pyplot as plt\n",
    "import xarray as xr\n",
    "from dask.diagnostics import ProgressBar\n",
    "from dask.distributed import Client\n",
    "\n",
    "client = Client()\n",
    "client"
   ]
  },
  {
   "cell_type": "code",
   "execution_count": null,
   "metadata": {},
   "outputs": [],
   "source": [
    "ds = xr.open_dataset(r\"D:\\World Bank\\CLIENT v2\\Data\\Data_out\\IBTrACS_hurricanes_yearly_fixed.nc\", chunks={\"x\":  17173//2+1, \"y\": 43200//2+1, \"year\":100})\n",
    "ds[\"year\"] = range(1970, 2021)\n",
    "\n",
    "ds.to_netcdf(r\"D:\\World Bank\\CLIENT v2\\Data\\Data_out\\IBTrACS_hurricanes_yearly.nc\")\n",
    "# ds.sel(x=slice(-80,-60), y=slice(30, 16), year=2008)[\"category_3_b10\"].plot()\n",
    "# ds.sel(x=slice(-55, -40), y=slice(-5, -25), year=2008)[\"SPEI-24\"].plot(cmap=\"RdBu\")"
   ]
  },
  {
   "cell_type": "code",
   "execution_count": null,
   "metadata": {},
   "outputs": [],
   "source": [
    "ds"
   ]
  },
  {
   "cell_type": "code",
   "execution_count": null,
   "metadata": {},
   "outputs": [],
   "source": [
    "ds"
   ]
  },
  {
   "cell_type": "code",
   "execution_count": null,
   "metadata": {},
   "outputs": [],
   "source": [
    "ds[\"SPEI24_25sd\"].sel(year=2008).plot()"
   ]
  },
  {
   "cell_type": "code",
   "execution_count": null,
   "metadata": {},
   "outputs": [],
   "source": [
    "ds.sel(year=2008).to_netcdf(r\"D:\\World Bank\\CLIENT v2\\Data\\Data_out\\ERA5_droughts_2008.nc\", encoding={col: {\"zlib\":True, \"complevel\": 9} for col in ds.data_vars})"
   ]
  },
  {
   "cell_type": "code",
   "execution_count": null,
   "metadata": {},
   "outputs": [],
   "source": [
    "gpd.read_feather(rf\"D:\\World Bank\\CLIENT v2\\Data\\Data_proc\\WB_country_IDs.feather\")"
   ]
  },
  {
   "cell_type": "code",
   "execution_count": null,
   "metadata": {},
   "outputs": [],
   "source": [
    "import pandas as pd\n",
    "\n",
    "df = pd.read_csv(rf\"D:\\World Bank\\CLIENT v2\\Data\\Data_out\\WB_drought_long.csv\")\n",
    "df"
   ]
  },
  {
   "cell_type": "code",
   "execution_count": null,
   "metadata": {},
   "outputs": [],
   "source": [
    "df = df[(df[\"variable\"]==\"SPEI3\") & (df[\"year\"]==2008) & (df[\"threshold\"] == \"10sd\") & (df[\"chunk\"]==3)]\n",
    "df[df[\"population_affected\"]>1]"
   ]
  },
  {
   "cell_type": "code",
   "execution_count": null,
   "metadata": {},
   "outputs": [],
   "source": [
    "test2 = pd.read_parquet(r\"D:\\World Bank\\CLIENT v2\\Data\\Data_proc\\shocks_by_adm\\WB\\out_drought_ungrouped.parquet\")\n",
    "test2"
   ]
  },
  {
   "cell_type": "code",
   "execution_count": null,
   "metadata": {},
   "outputs": [],
   "source": [
    "test3 = test2[(test2[\"variable\"]==\"SPEI3\") & (test2[\"year\"]==\"2008\") & (test2[\"threshold\"] == \"10sd\") & (test2[\"chunk\"]==\"3\")]\n",
    "test3"
   ]
  },
  {
   "cell_type": "code",
   "execution_count": null,
   "metadata": {},
   "outputs": [],
   "source": [
    "def compress_dataframe(df):\n",
    "    \"\" \"Compress the dataframe to save memory\" \"\"\n",
    "\n",
    "    df[\"cells_affected\"] = df[\"cells_affected\"].fillna(0).astype(np.uint16)\n",
    "    df[\"total_cells\"] = df[\"total_cells\"].fillna(0).astype(np.uint16)\n",
    "    df[\"population_affected_n\"] = (\n",
    "        df[\"population_affected_n\"].fillna(0).astype(np.uint64)\n",
    "    )\n",
    "    df[\"total_population\"] = df[\"total_population\"].fillna(0).astype(np.uint64)\n",
    "    return df\n",
    "\n",
    "compress_dataframe(test)"
   ]
  },
  {
   "cell_type": "code",
   "execution_count": null,
   "metadata": {},
   "outputs": [],
   "source": [
    "import numpy as np\n",
    "test = pd.read_parquet(r\"D:\\World Bank\\CLIENT v2\\Data\\Data_proc\\shocks_by_adm\\WB\\WB_drought_SPEI3_10sd_2008_3_zonal_stats.parquet\")\n",
    "test = test.reset_index().rename(columns={\"index\": \"ID\"})\n",
    "test[\"year\"] = 2008\n",
    "test[\"variable\"] = \"SPEI3\"\n",
    "test[\"threshold\"] = \"10sd\"\n",
    "test = test.groupby([\"ID\", \"year\", \"variable\", \"threshold\"]).sum()\n",
    "test[\"area_affected\"] = test[\"cells_affected\"] / test[\"total_cells\"]\n",
    "test[\"population_affected\"] = test[\"population_affected_n\"] / test[\"total_population\"]\n",
    "test = (\n",
    "    test.drop(\n",
    "        columns=[\n",
    "            \"cells_affected\",\n",
    "            \"total_cells\",\n",
    "            \"population_affected_n\",\n",
    "            \"total_population\",\n",
    "        ]\n",
    "    )\n",
    "    .reset_index()\n",
    "    .fillna(0)\n",
    "    .replace([np.inf, -np.inf], 0)\n",
    ")\n",
    "test.area_affected.max()"
   ]
  },
  {
   "cell_type": "code",
   "execution_count": null,
   "metadata": {},
   "outputs": [],
   "source": [
    "test"
   ]
  },
  {
   "cell_type": "code",
   "execution_count": null,
   "metadata": {},
   "outputs": [],
   "source": [
    "df = pd.read_csv(r\"D:\\World Bank\\CLIENT v2\\Data\\Data_proc\\shocks_by_adm\\WB\\drought_wide.csv\", nrows=1000)\n",
    "df"
   ]
  },
  {
   "cell_type": "code",
   "execution_count": null,
   "metadata": {},
   "outputs": [],
   "source": [
    "import xarray as xr\n",
    "import utils\n",
    "import geopandas as gpd\n",
    "WB_data = gpd.read_feather(r\"D:\\World Bank\\CLIENT v2\\Data\\Data_proc\\WB_country_IDs.feather\")\n",
    "ds = xr.open_dataset(r\"D:\\World Bank\\CLIENT v2\\Data\\Data_proc\\IPUMS_country_grid.nc\")\n",
    "for i in range(16):\n",
    "    datafilter, chunk_bounds = utils.get_filter_from_chunk_number(\n",
    "        i, total_chunks=16, canvas=WB_data.total_bounds\n",
    "    )\n",
    "    print(datafilter)\n",
    "ds"
   ]
  },
  {
   "cell_type": "code",
   "execution_count": null,
   "metadata": {},
   "outputs": [],
   "source": [
    "chunk_adm_id = ds.sel({'x': slice(-179.99999999990004, -89.99999999990001, None), 'y': slice(-23.706354845399773, -59.48427929994972)}).ID\n",
    "chunk_adm_id = chunk_adm_id.load()\n",
    "\n",
    "(chunk_adm_id.fillna(99999) != 99999).sum()"
   ]
  },
  {
   "cell_type": "code",
   "execution_count": null,
   "metadata": {},
   "outputs": [],
   "source": [
    "import utils\n",
    "from tqdm import tqdm\n",
    "shockname = \"drought\"\n",
    "import dask.dataframe as dd\n",
    "from dask.diagnostics import ProgressBar\n"
   ]
  },
  {
   "cell_type": "code",
   "execution_count": null,
   "metadata": {},
   "outputs": [],
   "source": [
    "import geopandas as gpd\n",
    "\n",
    "gdf = gpd.read_file(r\"D:\\Datasets\\International Best Track Archive for Climate Stewardship (IBTrACS)\\IBTrACS.ALL.list.v04r01.lines.shp\")"
   ]
  },
  {
   "cell_type": "code",
   "execution_count": null,
   "metadata": {},
   "outputs": [],
   "source": [
    "import xarray as xr\n",
    "\n",
    "ds = xr.open_dataset(r\"D:\\Datasets\\International Best Track Archive for Climate Stewardship (IBTrACS)\\IBTrACS.ALL.v04r01.nc\", chunks={\"storm\": 1})\n",
    "ds"
   ]
  },
  {
   "cell_type": "code",
   "execution_count": null,
   "metadata": {},
   "outputs": [],
   "source": [
    "from dask.diagnostics import ProgressBar\n",
    "ds = ds.where(ds.storm.isin(storms))\n",
    "\n",
    "with ProgressBar():\n",
    "    ds = ds.compute()"
   ]
  },
  {
   "cell_type": "code",
   "execution_count": null,
   "metadata": {},
   "outputs": [],
   "source": [
    "import numpy as np\n",
    "storms = np.argwhere((ds.season == 1983).values).flatten()\n",
    "storms"
   ]
  },
  {
   "cell_type": "code",
   "execution_count": null,
   "metadata": {},
   "outputs": [],
   "source": [
    "from dask.distributed import Client\n",
    "client = Client(n_workers=4, threads_per_worker=1, memory_limit='2GB')\n",
    "client"
   ]
  },
  {
   "cell_type": "code",
   "execution_count": null,
   "metadata": {},
   "outputs": [],
   "source": [
    "import numpy as np\n",
    "import os\n",
    "\n",
    "files = os.listdir(PARQUET_PATH)\n",
    "files = [f for f in files if f.endswith(\".parquet\") and \"drought\" in f]\n",
    "\n",
    "def func(partition, partition_info=None):\n",
    "    try:\n",
    "        return str(files[partition_info[\"number\"]])\n",
    "    except:\n",
    "        print(\"No info\")\n",
    "        return \"\"\n",
    "\n",
    "df = dd.read_parquet(os.path.join(PARQUET_PATH, \"drought_*.parquet\"))\n",
    "df[\"filename\"] = \"\"\n",
    "df[\"filename\"] = df[\"filename\"].astype(str)\n",
    "df[\"filename\"] = df[\"filename\"].map_partitions(func, enforce_metadata=True)\n",
    "df[\"cells_affected\"] = df[\"cells_affected\"].fillna(0).astype(np.uint32)\n",
    "df[\"total_cells\"] = df[\"total_cells\"].fillna(0).astype(np.uint32)\n",
    "df[\"population_affected_n\"] = df[\"population_affected_n\"].fillna(0).astype(np.uint64)\n",
    "df[\"total_population\"] = df[\"total_population\"].fillna(0).astype(np.uint64)"
   ]
  },
  {
   "cell_type": "code",
   "execution_count": null,
   "metadata": {},
   "outputs": [],
   "source": [
    "import pandas as pd\n",
    "df = pd.read_parquet(r\"D:\\World Bank\\CLIENT v2\\Data\\Data_proc\\shocks_by_adm\\drought_SPI24_25sd_2008_14_zonal_stats.parquet\")\n",
    "df"
   ]
  },
  {
   "cell_type": "code",
   "execution_count": null,
   "metadata": {},
   "outputs": [],
   "source": [
    "import importlib\n",
    "importlib.reload(utils)"
   ]
  },
  {
   "cell_type": "code",
   "execution_count": null,
   "metadata": {},
   "outputs": [],
   "source": [
    "import pandas as pd\n",
    "import utils\n",
    "import os\n",
    "import numpy as np\n",
    "import geopandas as gpd\n",
    "\n",
    "path = r\"D:\\World Bank\\CLIENT v2\\Data\\Data_proc\\shocks_by_adm\\WB\"\n",
    "f = f\"WB_drought_SPI3_10sd_1987_2_zonal_stats.parquet\"\n",
    "shockname = \"drought\"\n",
    "df = pd.read_parquet(os.path.join(path, f))\n",
    "df = utils.compress_dataframe(df)\n",
    "names = utils.parse_filename(f, shockname)\n",
    "for col, value in names.items():\n",
    "    df[col] = value\n",
    "df = utils.process_chunk(df)\n",
    "\n",
    "\n",
    "df = df.groupby([\"ID\", \"name\", \"year\"]).sum()\n",
    "df[\"area_affected\"] = df[\"cells_affected\"] / df[\"total_cells\"]\n",
    "df[\"population_affected\"] = df[\"population_affected_n\"] / df[\"total_population\"]\n",
    "df = (\n",
    "    df.drop(\n",
    "        columns=[\n",
    "            \"cells_affected\",\n",
    "            \"total_cells\",\n",
    "            \"population_affected_n\",\n",
    "            \"total_population\",\n",
    "        ]\n",
    "    )\n",
    "    .reset_index()\n",
    "    .fillna(0)\n",
    "    .replace([np.inf, -np.inf], 0)\n",
    ")\n",
    "\n",
    "\n",
    "pivot = df.pivot(\n",
    "    index=[\"ID\", \"year\"],\n",
    "    columns=\"name\",\n",
    "    values=[\"population_affected\", \"area_affected\"],\n",
    ")\n",
    "\n",
    "\n",
    "# Reindex the two-level columns pivot returns\n",
    "newcols = []\n",
    "for cols in pivot.columns:\n",
    "    newcols += [utils.parse_columns(cols)]\n",
    "pivot.columns = newcols\n",
    "pivot = pivot.reset_index()\n",
    "\n",
    "gdf = gpd.read_feather(r\"D:\\World Bank\\CLIENT v2\\Data\\Data_proc\\WB_country_IDs.feather\")\n",
    "out_df = gdf.merge(pivot, on=\"ID\", validate=\"1:m\", how=\"inner\")\n",
    "\n",
    "out_df[\n",
    "    [\"ADM0_CODE\", \"ADM1_CODE\", \"ADM2_CODE\", \"year\", \"ID\"] + newcols\n",
    "].to_stata(f\"WB_{shockname}_by_admlast_sampled.dta\")\n"
   ]
  },
  {
   "cell_type": "code",
   "execution_count": null,
   "metadata": {},
   "outputs": [],
   "source": [
    "out_df[\n",
    "    [\"ADM0_CODE\", \"ADM1_CODE\", \"ADM2_CODE\", \"year\", \"ID\"] + newcols\n",
    "]"
   ]
  },
  {
   "cell_type": "code",
   "execution_count": null,
   "metadata": {},
   "outputs": [],
   "source": [
    "import xarray as xr\n",
    "xr.open_dataset(r\"D:\\World Bank\\CLIENT v2\\Data\\Data_out\\IBTrACS_hurricanes_yearly.nc\")"
   ]
  },
  {
   "cell_type": "code",
   "execution_count": null,
   "metadata": {},
   "outputs": [],
   "source": [
    "# Concatenate all the dataframes and create the shock variables\n",
    "df = dd.concat(dfs)\n",
    "df = df.groupby([\"ID\", \"name\", \"year\"]).sum()\n",
    "df[\"area_affected\"] = df[\"cells_affected\"] / df[\"total_cells\"]\n",
    "df[\"population_affected\"] = df[\"population_affected_n\"] / df[\"total_population\"]\n",
    "df = (\n",
    "    df.drop(\n",
    "        columns=[\n",
    "            \"cells_affected\",\n",
    "            \"total_cells\",\n",
    "            \"population_affected_n\",\n",
    "            \"total_population\",\n",
    "        ]\n",
    "    )\n",
    "    .reset_index()\n",
    "    .fillna(0)\n",
    "    .replace([np.inf, -np.inf], 0)\n",
    ")\n",
    "\n"
   ]
  },
  {
   "cell_type": "code",
   "execution_count": null,
   "metadata": {},
   "outputs": [],
   "source": [
    "import xarray as xr\n",
    "\n",
    "#\n",
    "ds = xr.open_dataset(r\"D:\\World Bank\\CLIENT v2\\Data\\Data_out\\IBTrACS_hurricanes_yearly.nc\")\n",
    "\n",
    "# Size in GB\n",
    "ds[\"category_1_b10\"].nbytes / 1e9 / 16"
   ]
  },
  {
   "cell_type": "code",
   "execution_count": null,
   "metadata": {},
   "outputs": [],
   "source": [
    "floods = xr.open_dataset(r\"D:\\World Bank\\CLIENT v2\\Data\\Data_out\\GFD_floods_yearly.nc\")\n",
    "floods.sel(year=2007).to_netcdf(r\"D:\\World Bank\\CLIENT v2\\Data\\Data_out\\GFD_floods_2007.nc\", encoding={\"band_data\":{\"zlib\":True, \"complevel\":6}})"
   ]
  },
  {
   "cell_type": "code",
   "execution_count": null,
   "metadata": {},
   "outputs": [],
   "source": [
    "import xarray as xr\n",
    "\n",
    "xr.open_dataset(r\"D:\\World Bank\\CLIENT v2\\Data\\Data_out\\IBTrACS_hurricanes_yearly.nc\")"
   ]
  },
  {
   "cell_type": "code",
   "execution_count": null,
   "metadata": {},
   "outputs": [],
   "source": [
    "path = os.path.join(PARQUET_PATH, f\"{shockname}_long.csv\")\n",
    "df.to_csv(path, single_file=True)\n",
    "print(f\"Se creó {path}\")\n",
    "\n",
    "df = pd.read_csv(path)\n",
    "# Pivot data: every shock has to be a column\n",
    "pivot = df.pivot(\n",
    "    index=[\"ID\", \"year\"],\n",
    "    columns=\"name\",\n",
    "    values=[\"population_affected\", \"area_affected\"],\n",
    ")\n",
    "\n",
    "# Reindex the two-level columns pivot returns\n",
    "newcols = []\n",
    "for cols in pivot.columns:\n",
    "    newcols += [utils.parse_columns(cols)]\n",
    "pivot.columns = newcols\n",
    "pivot = pivot.reset_index()\n",
    "\n",
    "path = os.path.join(PARQUET_PATH, f\"{shockname}_wide.csv\")\n",
    "pivot.to_csv(path)\n",
    "print(f\"Se creó {path}\")\n",
    "\n",
    "pivot = pd.read_csv(path)\n",
    "\n",
    "# Add the data to the gdf\n",
    "out_df = gdf.merge(pivot, left_on=\"id\", right_on=\"ID\", validate=\"1:m\", how=\"outer\")\n"
   ]
  },
  {
   "cell_type": "code",
   "execution_count": null,
   "metadata": {},
   "outputs": [],
   "source": [
    "import xarray as xr\n",
    "ds = xr.open_dataset(r\"D:\\World Bank\\CLIENT v2\\Data\\Data_proc\\hurricanes\\IBTrACS_1970_category_1_b100.nc\")\n",
    "# Select Florida\n",
    "ds = ds.sel(y=slice(50, 10), x=slice(-100, -60))\n",
    "ds[\"category_1_b100\"].plot()"
   ]
  },
  {
   "cell_type": "code",
   "execution_count": null,
   "metadata": {},
   "outputs": [],
   "source": [
    "import xarray as xr\n",
    "ds = xr.open_dataset(r\"D:\\World Bank\\CLIENT v2\\Data\\Data_proc\\hurricanes\\IBTrACS_1970_category_1_b100.nc\", chunks={\"x\": 43200/10, \"y\": 17173//10})\n",
    "# # Select Japan 120.937500,20.961441,149.589844,40.713957\n",
    "# ds = ds.sel(y=slice(40.713957, 20.961441), x=slice(120.937500, 149.589844))\n",
    "# ds[\"category_1_b100\"].max()"
   ]
  },
  {
   "cell_type": "code",
   "execution_count": null,
   "metadata": {},
   "outputs": [],
   "source": [
    "from dask.diagnostics import ProgressBar\n",
    "with ProgressBar():\n",
    "    test = ds[\"category_1_b100\"].coarsen(x=10, y=10, boundary=\"trim\").max().plot()"
   ]
  },
  {
   "cell_type": "code",
   "execution_count": null,
   "metadata": {},
   "outputs": [],
   "source": [
    "ds.coarsen(x=10, y=10, boundary=\"pad\").max()[\"category_1_b100\"].max()"
   ]
  },
  {
   "cell_type": "code",
   "execution_count": null,
   "metadata": {},
   "outputs": [],
   "source": [
    "data = [\"D:\\World Bank\\CLIENT v2\\Data\\Data_proc\\hurricanes\\IBTrACS_cat4_1951_0.25.nc\",\n",
    "\"D:\\World Bank\\CLIENT v2\\Data\\Data_proc\\hurricanes\\IBTrACS_cat3_1951_0.25.nc\",\n",
    "\"D:\\World Bank\\CLIENT v2\\Data\\Data_proc\\hurricanes\\IBTrACS_cat2_1951_0.25.nc\",\n",
    "\"D:\\World Bank\\CLIENT v2\\Data\\Data_proc\\hurricanes\\IBTrACS_cat1_1951_0.25.nc\",\n",
    "\"D:\\World Bank\\CLIENT v2\\Data\\Data_proc\\hurricanes\\IBTrACS_cat5_1951_0.1.nc\",\n",
    "\"D:\\World Bank\\CLIENT v2\\Data\\Data_proc\\hurricanes\\IBTrACS_cat4_1951_0.1.nc\",\n",
    "\"D:\\World Bank\\CLIENT v2\\Data\\Data_proc\\hurricanes\\IBTrACS_cat3_1951_0.1.nc\",\n",
    "\"D:\\World Bank\\CLIENT v2\\Data\\Data_proc\\hurricanes\\IBTrACS_cat2_1951_0.1.nc\",\n",
    "\"D:\\World Bank\\CLIENT v2\\Data\\Data_proc\\hurricanes\\IBTrACS_cat1_1951_0.1.nc\",\n",
    "\"D:\\World Bank\\CLIENT v2\\Data\\Data_proc\\hurricanes\\IBTrACS_cat5_1951_1.0.nc\",\n",
    "\"D:\\World Bank\\CLIENT v2\\Data\\Data_proc\\hurricanes\\IBTrACS_cat4_1951_1.0.nc\",\n",
    "\"D:\\World Bank\\CLIENT v2\\Data\\Data_proc\\hurricanes\\IBTrACS_cat3_1951_1.0.nc\",\n",
    "\"D:\\World Bank\\CLIENT v2\\Data\\Data_proc\\hurricanes\\IBTrACS_cat2_1951_1.0.nc\",\n",
    "\"D:\\World Bank\\CLIENT v2\\Data\\Data_proc\\hurricanes\\IBTrACS_cat1_1951_1.0.nc\",\n",
    "\"D:\\World Bank\\CLIENT v2\\Data\\Data_proc\\hurricanes\\IBTrACS_cat5_1951_0.5.nc\",\n",
    "\"D:\\World Bank\\CLIENT v2\\Data\\Data_proc\\hurricanes\\IBTrACS_cat4_1951_0.5.nc\",\n",
    "\"D:\\World Bank\\CLIENT v2\\Data\\Data_proc\\hurricanes\\IBTrACS_cat3_1951_0.5.nc\",\n",
    "\"D:\\World Bank\\CLIENT v2\\Data\\Data_proc\\hurricanes\\IBTrACS_cat2_1951_0.5.nc\",\n",
    "\"D:\\World Bank\\CLIENT v2\\Data\\Data_proc\\hurricanes\\IBTrACS_cat1_1951_0.5.nc\",\n",
    "\"D:\\World Bank\\CLIENT v2\\Data\\Data_proc\\hurricanes\\IBTrACS_cat5_1951_0.25.nc\"]\n",
    "\n",
    "data2 = [\n",
    "# \"D:\\World Bank\\CLIENT v2\\Data\\Data_proc\\hurricanes\\IBTrACS_cat2_1952_0.25.nc\"\n",
    "# \"D:\\World Bank\\CLIENT v2\\Data\\Data_proc\\hurricanes\\IBTrACS_cat1_1952_0.25.nc\"\n",
    "\"D:\\World Bank\\CLIENT v2\\Data\\Data_proc\\hurricanes\\IBTrACS_cat5_1952_0.1.nc\",\n",
    "\"D:\\World Bank\\CLIENT v2\\Data\\Data_proc\\hurricanes\\IBTrACS_cat4_1952_0.1.nc\",\n",
    "\"D:\\World Bank\\CLIENT v2\\Data\\Data_proc\\hurricanes\\IBTrACS_cat3_1952_0.1.nc\",\n",
    "\"D:\\World Bank\\CLIENT v2\\Data\\Data_proc\\hurricanes\\IBTrACS_cat2_1952_0.1.nc\",\n",
    "\"D:\\World Bank\\CLIENT v2\\Data\\Data_proc\\hurricanes\\IBTrACS_cat1_1952_0.1.nc\",\n",
    "# \"D:\\World Bank\\CLIENT v2\\Data\\Data_proc\\hurricanes\\IBTrACS_cat3_1952_0.25.nc\"\n",
    "]\n",
    "import xarray as xr\n",
    "xr.open_mfdataset([data, data2], combine='nested', concat_dim=\"year\")"
   ]
  },
  {
   "cell_type": "code",
   "execution_count": null,
   "metadata": {},
   "outputs": [],
   "source": [
    "import pandas as pd\n",
    "import dask.dataframe as dd\n",
    "df = dd.read_parquet(r\"D:\\World Bank\\CLIENT v2\\Data\\Data_proc\\shocks\\drought_SPEI24_15sd_2020_15_zonal_stats.parquet\")\n",
    "df"
   ]
  },
  {
   "cell_type": "code",
   "execution_count": null,
   "metadata": {},
   "outputs": [],
   "source": [
    "import os\n",
    "import xarray as xr\n",
    "from dask.diagnostics import ProgressBar\n",
    "\n",
    "path = r\"D:\\World Bank\\CLIENT v2\\Data\\Data_proc\\hurricanes\"\n",
    "files = os.listdir(path)\n",
    "dss = []\n",
    "for year in range(1970, 2021):\n",
    "    \n",
    "    files_year = [os.path.join(path, f) for f in files if f\"{year}\" in f]\n",
    "    dss += [xr.open_mfdataset(files_year)]\n",
    "    \n",
    "    if year==1975:\n",
    "        break\n",
    "\n",
    "ds = xr.concat(dss, dim=\"time\")\n",
    "with ProgressBar():\n",
    "    ds.to_netcdf(r\"D:\\World Bank\\CLIENT v2\\Data\\Data_proc\\hurricanes\\IBTrACS_1970_1975.nc\")"
   ]
  },
  {
   "cell_type": "code",
   "execution_count": null,
   "metadata": {},
   "outputs": [],
   "source": [
    "dss[10]"
   ]
  },
  {
   "cell_type": "code",
   "execution_count": null,
   "metadata": {},
   "outputs": [],
   "source": [
    "import dask.dataframe as dd\n",
    "df = pd.read_csv(r\"D:\\World Bank\\CLIENT v2\\Data\\Data_proc\\shocks\\drought_long.csv\")\n",
    "pivot = df.pivot(\n",
    "    index=[\"ID\", \"year\"],\n",
    "    columns=\"name\",\n",
    "    values=[\"population_affected\", \"area_affected\"],\n",
    ")\n",
    "pivot"
   ]
  },
  {
   "cell_type": "markdown",
   "metadata": {},
   "source": []
  },
  {
   "cell_type": "code",
   "execution_count": null,
   "metadata": {},
   "outputs": [],
   "source": [
    "xr.combine_by_coords(dss[1977])"
   ]
  },
  {
   "cell_type": "code",
   "execution_count": null,
   "metadata": {},
   "outputs": [],
   "source": [
    "repl = {\"year\":\"y\", \"lat\":\"y\"}\n",
    "\n",
    "df.columns"
   ]
  },
  {
   "cell_type": "code",
   "execution_count": null,
   "metadata": {},
   "outputs": [],
   "source": [
    "import utils\n",
    "\n"
   ]
  },
  {
   "cell_type": "code",
   "execution_count": null,
   "metadata": {},
   "outputs": [],
   "source": [
    "gdf = gpd.read_file(r\"D:\\Datasets\\International Best Track Archive for Climate Stewardship (IBTrACS)\\IBTrACS.ALL.list.v04r01.lines.shp\")#, \"BASIN\", \"SUBBASIN\", \"NAME\", \"ISO_TIME\", \"LAT\", \"LON\", \"WMO_WIND\", \"WMO_PRES\", \"WMO_AGENCY\", \"TRACK_TYPE\"])\n",
    "gdf[\"WMO_WIND\"] = gdf[\"WMO_WIND\"].ffill()\n",
    "gdf[gdf.SID == \"2021323S10103\"].explore(column=\"WMO_WIND\")"
   ]
  }
 ],
 "metadata": {
  "kernelspec": {
   "display_name": "Python 3",
   "language": "python",
   "name": "python3"
  },
  "language_info": {
   "codemirror_mode": {
    "name": "ipython",
    "version": 3
   },
   "file_extension": ".py",
   "mimetype": "text/x-python",
   "name": "python",
   "nbconvert_exporter": "python",
   "pygments_lexer": "ipython3",
   "version": "3.12.6"
  }
 },
 "nbformat": 4,
 "nbformat_minor": 2
}
