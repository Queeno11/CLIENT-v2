{
 "cells": [
  {
   "cell_type": "code",
   "execution_count": null,
   "metadata": {},
   "outputs": [],
   "source": [
    "import numpy as np\n",
    "import xarray as xr\n",
    "import pandas as pd\n",
    "import geopandas as gpd\n",
    "import matplotlib.pyplot as plt\n",
    "import seaborn as sns\n",
    "from dask.diagnostics import ProgressBar\n",
    "from geocube.api.core import make_geocube\n",
    "\n",
    "PATH = \"D:\\World Bank\\CLIENT v2\"\n",
    "DATA_RAW = rf\"{PATH}\\Data\\Data_raw\"\n",
    "DATA_PROC = rf\"{PATH}\\Data\\Data_proc\"\n",
    "DATA_OUT = rf\"{PATH}\\Data\\Data_out\"\n",
    "\n",
    "PARQUET_PATH = rf\"{DATA_PROC}/shocks_by_adm\"\n"
   ]
  },
  {
   "cell_type": "code",
   "execution_count": null,
   "metadata": {},
   "outputs": [],
   "source": [
    "import shapely\n",
    "\n",
    "gdf = pd.read_parquet(r\"D:\\World Bank\\CLIENT v2\\Data\\Data_proc\\IPUMS_full.parquet\")\n",
    "# Parse geometry column from string to geometry\n",
    "gdf[\"geometry\"] = gdf[\"geometry\"].apply(lambda x: shapely.wkt.loads(x))\n",
    "gdf = gpd.GeoDataFrame(gdf, geometry='geometry')\n",
    "gdf = gdf.set_crs(epsg=4326)\n",
    "IPUMS_countries = gdf.dissolve(by=\"CNTRY_CODE\")"
   ]
  },
  {
   "cell_type": "code",
   "execution_count": null,
   "metadata": {},
   "outputs": [],
   "source": [
    "IPUMS_countries.to_parquet(r\"D:\\World Bank\\CLIENT v2\\Data\\Data_proc\\IPUMS_international_bounds.parquet\")"
   ]
  },
  {
   "cell_type": "code",
   "execution_count": null,
   "metadata": {},
   "outputs": [],
   "source": [
    "gdf = gpd.read_feather(r\"D:\\World Bank\\CLIENT v2\\Data\\Data_proc\\WB_country_IDs.feather\")\n",
    "WB_countries = gdf.dissolve(by=\"ADM0_CODE\")\n",
    "WB_countries[[\"geometry\"]].to_parquet(r\"D:\\World Bank\\CLIENT v2\\Data\\Data_proc\\WB_international_bounds.parquet\")"
   ]
  },
  {
   "cell_type": "code",
   "execution_count": null,
   "metadata": {},
   "outputs": [],
   "source": []
  },
  {
   "cell_type": "code",
   "execution_count": null,
   "metadata": {},
   "outputs": [],
   "source": [
    "ds_mean = xr.open_dataset(r\"D:\\World Bank\\CLIENT v2\\Data\\Data_proc\\heatwaves and coldwaves\\frostdays_mean.nc\")\n",
    "ds_std = xr.open_dataset(r\"D:\\World Bank\\CLIENT v2\\Data\\Data_proc\\heatwaves and coldwaves\\frostdays_std.nc\")\n"
   ]
  },
  {
   "cell_type": "code",
   "execution_count": null,
   "metadata": {},
   "outputs": [],
   "source": [
    "ds_mean[\"timeseries-fd-monthly-mean\"].sel(month=5).plot()"
   ]
  },
  {
   "cell_type": "code",
   "execution_count": null,
   "metadata": {},
   "outputs": [],
   "source": [
    "ds_std"
   ]
  },
  {
   "cell_type": "code",
   "execution_count": null,
   "metadata": {},
   "outputs": [],
   "source": [
    "ds[\"timeseries-fd-monthly-mean\"].max()"
   ]
  },
  {
   "cell_type": "code",
   "execution_count": null,
   "metadata": {},
   "outputs": [],
   "source": [
    "file = \"timeseries-rx1day-monthly-mean_era_monthly_era5-0.5x0.5-timeseries_mean_1950-2020.nc\"\n",
    "ds = xr.open_dataset(rf\"{DATA_RAW}\\ERA5_CCKP\\{file}\", chunks={\"time\": 12})\n",
    "ds = ds.sel(bnds=0).isel(time=slice(0, 24)) # both bands are the same\n",
    "ds = ds.drop_vars([\"lon_bnds\", \"lat_bnds\", \"bnds\"])\n",
    "ds = (ds[\"timeseries-rx1day-monthly-mean\"] > 200)\n",
    "ds_year = ds.groupby('time.year').max()\n",
    "ds_year.sel(year=1951).plot()"
   ]
  },
  {
   "cell_type": "code",
   "execution_count": null,
   "metadata": {},
   "outputs": [],
   "source": [
    "ds.drop(\"month\")[\"timeseries-id-monthly-mean\"].isel(time=600).plot()"
   ]
  },
  {
   "cell_type": "code",
   "execution_count": null,
   "metadata": {},
   "outputs": [],
   "source": [
    "df = pd.read_parquet(r\"D:\\World Bank\\CLIENT v2\\Data\\Data_out\\\")\n",
    "ids = gpd.read_feather(rf\"{DATA_PROC}\\IPUMS_country_IDs.feather\")\n",
    "merged = ids.merge(df, on=\"ID\")\n",
    "\n",
    "\n",
    "# merged[merged[\"CNTRY_CODE\"]==32]"
   ]
  },
  {
   "cell_type": "code",
   "execution_count": null,
   "metadata": {},
   "outputs": [],
   "source": [
    "data = gpd.read_file(r\"D:\\World Bank\\CLIENT v2\\Data\\Data_raw\\IPUMS Fixed\\geo2_us2000_2015.shp\")\n",
    "data#[data.duplicated(subset=[\"CNTRY_NAME\", \"GEOLEVEL2\"])]"
   ]
  },
  {
   "cell_type": "code",
   "execution_count": null,
   "metadata": {},
   "outputs": [],
   "source": [
    "arg = merged[merged[\"CNTRY_CODE\"]==840]\n",
    "arg\n",
    "arg[arg.duplicated(subset=[\"CNTRY_CODE\", \"GEOLEVEL2\", \"year\", \"chunk\"])]"
   ]
  },
  {
   "cell_type": "code",
   "execution_count": null,
   "metadata": {},
   "outputs": [],
   "source": [
    "ids = gpd.read_feather(r\"D:\\World Bank\\CLIENT v2\\Data\\Data_proc\\IPUMS_country_IDs.feather\")"
   ]
  },
  {
   "cell_type": "code",
   "execution_count": null,
   "metadata": {},
   "outputs": [],
   "source": [
    "col = gpd.read_file(r\"C:\\Users\\ofici\\Downloads\\geo2_co1973_2005\\geo2_co1973_2005\\geo2_co1973_2005.shp\")\n",
    "col.plot()"
   ]
  },
  {
   "cell_type": "code",
   "execution_count": null,
   "metadata": {},
   "outputs": [],
   "source": []
  },
  {
   "cell_type": "code",
   "execution_count": null,
   "metadata": {},
   "outputs": [],
   "source": [
    "# Filter 32.484701,28.060757,37.693608,34.383724\n",
    "ids.cx[32.484701:37.693608, 28.060757:34.383724].explore()"
   ]
  },
  {
   "cell_type": "code",
   "execution_count": null,
   "metadata": {},
   "outputs": [],
   "source": [
    "ids[ids[\"CNTRY_CODE\"] == 704]"
   ]
  },
  {
   "cell_type": "code",
   "execution_count": null,
   "metadata": {},
   "outputs": [],
   "source": [
    "ids[ids[\"GEOLEVEL1\"] == 646002]\n"
   ]
  },
  {
   "cell_type": "code",
   "execution_count": null,
   "metadata": {},
   "outputs": [],
   "source": [
    "ids[ids[\"GEOLEVEL2\"] == 600001999]\n"
   ]
  },
  {
   "cell_type": "code",
   "execution_count": null,
   "metadata": {},
   "outputs": [],
   "source": [
    "m = col[col[\"GEOLEVEL2\"] == \"170027004\"].explore()\n",
    "col_geo1[col_geo1[\"GEOLEVEL1\"] == \"170027\"].explore(m=m, color=\"red\")"
   ]
  },
  {
   "cell_type": "code",
   "execution_count": null,
   "metadata": {},
   "outputs": [],
   "source": [
    "ids[ids[\"GEOLEVEL2\"] == 170027004]"
   ]
  },
  {
   "cell_type": "code",
   "execution_count": null,
   "metadata": {},
   "outputs": [],
   "source": [
    "ids[ids[]]"
   ]
  },
  {
   "cell_type": "code",
   "execution_count": null,
   "metadata": {},
   "outputs": [],
   "source": [
    "ds = xr.open_dataset(r\"D:\\World Bank\\CLIENT v2\\Data\\Data_proc\\IPUMS_country_grid.nc\")\n",
    "\n"
   ]
  },
  {
   "cell_type": "code",
   "execution_count": null,
   "metadata": {},
   "outputs": [],
   "source": [
    "# ids.cx[32.484701:37.693608, 28.060757:34.383724].explore()\n",
    "ds.sel(x=slice(32.484701, 37.693608), y=slice(34.383724, 28.060757)).ID.plot()"
   ]
  },
  {
   "cell_type": "code",
   "execution_count": null,
   "metadata": {},
   "outputs": [],
   "source": [
    "# -74.047748,40.638723,-73.933391,40.719389\n",
    "\n",
    "from geocube.vector import vectorize\n",
    "\n",
    "grid_gdf = vectorize(ds.sel(x=slice(-74.047748, -73.933391), y=slice(40.719389, 40.638723)).ID.astype(\"float32\"))\n"
   ]
  },
  {
   "cell_type": "code",
   "execution_count": null,
   "metadata": {},
   "outputs": [],
   "source": [
    "ids[ids.GEOLEVEL2 == 840036721]"
   ]
  },
  {
   "cell_type": "code",
   "execution_count": null,
   "metadata": {},
   "outputs": [],
   "source": [
    "m = ids[ids.GEOLEVEL2 == 840036721].explore()\n",
    "grid_gdf.explore(m=m, column=\"ID\")\n",
    "\n"
   ]
  },
  {
   "cell_type": "code",
   "execution_count": null,
   "metadata": {},
   "outputs": [],
   "source": [
    "grid_gdf[grid_gdf.ID == 16380]"
   ]
  },
  {
   "cell_type": "code",
   "execution_count": null,
   "metadata": {},
   "outputs": [],
   "source": [
    "hurr = pd.read_stata(r\"D:\\World Bank\\CLIENT v2\\Data\\Data_out\\IPUMS_hurricanes_wide.dta\")\n"
   ]
  },
  {
   "cell_type": "code",
   "execution_count": null,
   "metadata": {},
   "outputs": [],
   "source": [
    "hurr[hurr.geolevel2 == 32002001]"
   ]
  },
  {
   "cell_type": "code",
   "execution_count": null,
   "metadata": {},
   "outputs": [],
   "source": [
    "ids[ids.GEOLEVEL2 == 170094001].explore()"
   ]
  },
  {
   "cell_type": "code",
   "execution_count": null,
   "metadata": {},
   "outputs": [],
   "source": [
    "ids[ids.CNTRY_CODE == 170].explore()"
   ]
  },
  {
   "cell_type": "code",
   "execution_count": null,
   "metadata": {},
   "outputs": [],
   "source": [
    "nombres = {170: }\n",
    "errores = [170, 275, 376, 454, 508, 566, 604, 862]\n",
    "diag = {code: (ids.CNTRY_CODE == code).sum() for code in errores}\n",
    "diag"
   ]
  },
  {
   "cell_type": "code",
   "execution_count": null,
   "metadata": {},
   "outputs": [],
   "source": [
    "import xarray as xr\n",
    "ds = xr.open_dataset(r\"D:\\World Bank\\CLIENT v2\\Data\\Data_out\\ERA5_droughts_yearly.nc\")\n",
    "ds"
   ]
  },
  {
   "cell_type": "code",
   "execution_count": null,
   "metadata": {},
   "outputs": [],
   "source": [
    "import matplotlib.pyplot as plt\n",
    "import xarray as xr\n",
    "from dask.diagnostics import ProgressBar\n",
    "from dask.distributed import Client\n",
    "\n",
    "client = Client()\n",
    "client"
   ]
  },
  {
   "cell_type": "code",
   "execution_count": null,
   "metadata": {},
   "outputs": [],
   "source": [
    "ds = xr.open_dataset(r\"D:\\World Bank\\CLIENT v2\\Data\\Data_out\\IBTrACS_hurricanes_yearly_fixed.nc\", chunks={\"x\":  17173//2+1, \"y\": 43200//2+1, \"year\":100})\n",
    "ds[\"year\"] = range(1970, 2021)\n",
    "\n",
    "ds.to_netcdf(r\"D:\\World Bank\\CLIENT v2\\Data\\Data_out\\IBTrACS_hurricanes_yearly.nc\")\n",
    "# ds.sel(x=slice(-80,-60), y=slice(30, 16), year=2008)[\"category_3_b10\"].plot()\n",
    "# ds.sel(x=slice(-55, -40), y=slice(-5, -25), year=2008)[\"SPEI-24\"].plot(cmap=\"RdBu\")"
   ]
  },
  {
   "cell_type": "code",
   "execution_count": null,
   "metadata": {},
   "outputs": [],
   "source": [
    "ds"
   ]
  },
  {
   "cell_type": "code",
   "execution_count": null,
   "metadata": {},
   "outputs": [],
   "source": [
    "ds"
   ]
  },
  {
   "cell_type": "code",
   "execution_count": null,
   "metadata": {},
   "outputs": [],
   "source": [
    "ds[\"SPEI24_25sd\"].sel(year=2008).plot()"
   ]
  },
  {
   "cell_type": "code",
   "execution_count": null,
   "metadata": {},
   "outputs": [],
   "source": [
    "ds.sel(year=2008).to_netcdf(r\"D:\\World Bank\\CLIENT v2\\Data\\Data_out\\ERA5_droughts_2008.nc\", encoding={col: {\"zlib\":True, \"complevel\": 9} for col in ds.data_vars})"
   ]
  },
  {
   "cell_type": "code",
   "execution_count": null,
   "metadata": {},
   "outputs": [],
   "source": [
    "gpd.read_feather(rf\"D:\\World Bank\\CLIENT v2\\Data\\Data_proc\\WB_country_IDs.feather\")"
   ]
  },
  {
   "cell_type": "code",
   "execution_count": null,
   "metadata": {},
   "outputs": [],
   "source": [
    "import pandas as pd\n",
    "\n",
    "df = pd.read_csv(rf\"D:\\World Bank\\CLIENT v2\\Data\\Data_out\\WB_drought_long.csv\")\n",
    "df"
   ]
  },
  {
   "cell_type": "code",
   "execution_count": null,
   "metadata": {},
   "outputs": [],
   "source": [
    "df = df[(df[\"variable\"]==\"SPEI3\") & (df[\"year\"]==2008) & (df[\"threshold\"] == \"10sd\") & (df[\"chunk\"]==3)]\n",
    "df[df[\"population_affected\"]>1]"
   ]
  },
  {
   "cell_type": "code",
   "execution_count": null,
   "metadata": {},
   "outputs": [],
   "source": [
    "test2 = pd.read_parquet(r\"D:\\World Bank\\CLIENT v2\\Data\\Data_proc\\shocks_by_adm\\WB\\out_drought_ungrouped.parquet\")\n",
    "test2"
   ]
  },
  {
   "cell_type": "code",
   "execution_count": null,
   "metadata": {},
   "outputs": [],
   "source": [
    "test3 = test2[(test2[\"variable\"]==\"SPEI3\") & (test2[\"year\"]==\"2008\") & (test2[\"threshold\"] == \"10sd\") & (test2[\"chunk\"]==\"3\")]\n",
    "test3"
   ]
  },
  {
   "cell_type": "code",
   "execution_count": null,
   "metadata": {},
   "outputs": [],
   "source": [
    "def compress_dataframe(df):\n",
    "    \"\" \"Compress the dataframe to save memory\" \"\"\n",
    "\n",
    "    df[\"cells_affected\"] = df[\"cells_affected\"].fillna(0).astype(np.uint16)\n",
    "    df[\"total_cells\"] = df[\"total_cells\"].fillna(0).astype(np.uint16)\n",
    "    df[\"population_affected_n\"] = (\n",
    "        df[\"population_affected_n\"].fillna(0).astype(np.uint64)\n",
    "    )\n",
    "    df[\"total_population\"] = df[\"total_population\"].fillna(0).astype(np.uint64)\n",
    "    return df\n",
    "\n",
    "compress_dataframe(test)"
   ]
  },
  {
   "cell_type": "code",
   "execution_count": null,
   "metadata": {},
   "outputs": [],
   "source": [
    "import numpy as np\n",
    "test = pd.read_parquet(r\"D:\\World Bank\\CLIENT v2\\Data\\Data_proc\\shocks_by_adm\\WB\\WB_drought_SPEI3_10sd_2008_3_zonal_stats.parquet\")\n",
    "test = test.reset_index().rename(columns={\"index\": \"ID\"})\n",
    "test[\"year\"] = 2008\n",
    "test[\"variable\"] = \"SPEI3\"\n",
    "test[\"threshold\"] = \"10sd\"\n",
    "test = test.groupby([\"ID\", \"year\", \"variable\", \"threshold\"]).sum()\n",
    "test[\"area_affected\"] = test[\"cells_affected\"] / test[\"total_cells\"]\n",
    "test[\"population_affected\"] = test[\"population_affected_n\"] / test[\"total_population\"]\n",
    "test = (\n",
    "    test.drop(\n",
    "        columns=[\n",
    "            \"cells_affected\",\n",
    "            \"total_cells\",\n",
    "            \"population_affected_n\",\n",
    "            \"total_population\",\n",
    "        ]\n",
    "    )\n",
    "    .reset_index()\n",
    "    .fillna(0)\n",
    "    .replace([np.inf, -np.inf], 0)\n",
    ")\n",
    "test.area_affected.max()"
   ]
  },
  {
   "cell_type": "code",
   "execution_count": null,
   "metadata": {},
   "outputs": [],
   "source": [
    "test"
   ]
  },
  {
   "cell_type": "code",
   "execution_count": null,
   "metadata": {},
   "outputs": [],
   "source": [
    "df = pd.read_csv(r\"D:\\World Bank\\CLIENT v2\\Data\\Data_proc\\shocks_by_adm\\WB\\drought_wide.csv\", nrows=1000)\n",
    "df"
   ]
  },
  {
   "cell_type": "code",
   "execution_count": null,
   "metadata": {},
   "outputs": [],
   "source": [
    "import xarray as xr\n",
    "import utils\n",
    "import geopandas as gpd\n",
    "WB_data = gpd.read_feather(r\"D:\\World Bank\\CLIENT v2\\Data\\Data_proc\\WB_country_IDs.feather\")\n",
    "ds = xr.open_dataset(r\"D:\\World Bank\\CLIENT v2\\Data\\Data_proc\\IPUMS_country_grid.nc\")\n",
    "for i in range(16):\n",
    "    datafilter, chunk_bounds = utils.get_filter_from_chunk_number(\n",
    "        i, total_chunks=16, canvas=WB_data.total_bounds\n",
    "    )\n",
    "    print(datafilter)\n",
    "ds"
   ]
  },
  {
   "cell_type": "code",
   "execution_count": null,
   "metadata": {},
   "outputs": [],
   "source": [
    "chunk_adm_id = ds.sel({'x': slice(-179.99999999990004, -89.99999999990001, None), 'y': slice(-23.706354845399773, -59.48427929994972)}).ID\n",
    "chunk_adm_id = chunk_adm_id.load()\n",
    "\n",
    "(chunk_adm_id.fillna(99999) != 99999).sum()"
   ]
  },
  {
   "cell_type": "code",
   "execution_count": null,
   "metadata": {},
   "outputs": [],
   "source": [
    "import utils\n",
    "from tqdm import tqdm\n",
    "shockname = \"drought\"\n",
    "import dask.dataframe as dd\n",
    "from dask.diagnostics import ProgressBar\n"
   ]
  },
  {
   "cell_type": "code",
   "execution_count": null,
   "metadata": {},
   "outputs": [],
   "source": [
    "import geopandas as gpd\n",
    "\n",
    "gdf = gpd.read_file(r\"D:\\Datasets\\International Best Track Archive for Climate Stewardship (IBTrACS)\\IBTrACS.ALL.list.v04r01.lines.shp\")"
   ]
  },
  {
   "cell_type": "code",
   "execution_count": null,
   "metadata": {},
   "outputs": [],
   "source": [
    "import xarray as xr\n",
    "\n",
    "ds = xr.open_dataset(r\"D:\\Datasets\\International Best Track Archive for Climate Stewardship (IBTrACS)\\IBTrACS.ALL.v04r01.nc\", chunks={\"storm\": 1})\n",
    "ds"
   ]
  },
  {
   "cell_type": "code",
   "execution_count": null,
   "metadata": {},
   "outputs": [],
   "source": [
    "from dask.diagnostics import ProgressBar\n",
    "ds = ds.where(ds.storm.isin(storms))\n",
    "\n",
    "with ProgressBar():\n",
    "    ds = ds.compute()"
   ]
  },
  {
   "cell_type": "code",
   "execution_count": null,
   "metadata": {},
   "outputs": [],
   "source": [
    "import numpy as np\n",
    "storms = np.argwhere((ds.season == 1983).values).flatten()\n",
    "storms"
   ]
  },
  {
   "cell_type": "code",
   "execution_count": null,
   "metadata": {},
   "outputs": [],
   "source": [
    "from dask.distributed import Client\n",
    "client = Client(n_workers=4, threads_per_worker=1, memory_limit='2GB')\n",
    "client"
   ]
  },
  {
   "cell_type": "code",
   "execution_count": null,
   "metadata": {},
   "outputs": [],
   "source": [
    "import numpy as np\n",
    "import os\n",
    "\n",
    "files = os.listdir(PARQUET_PATH)\n",
    "files = [f for f in files if f.endswith(\".parquet\") and \"drought\" in f]\n",
    "\n",
    "def func(partition, partition_info=None):\n",
    "    try:\n",
    "        return str(files[partition_info[\"number\"]])\n",
    "    except:\n",
    "        print(\"No info\")\n",
    "        return \"\"\n",
    "\n",
    "df = dd.read_parquet(os.path.join(PARQUET_PATH, \"drought_*.parquet\"))\n",
    "df[\"filename\"] = \"\"\n",
    "df[\"filename\"] = df[\"filename\"].astype(str)\n",
    "df[\"filename\"] = df[\"filename\"].map_partitions(func, enforce_metadata=True)\n",
    "df[\"cells_affected\"] = df[\"cells_affected\"].fillna(0).astype(np.uint32)\n",
    "df[\"total_cells\"] = df[\"total_cells\"].fillna(0).astype(np.uint32)\n",
    "df[\"population_affected_n\"] = df[\"population_affected_n\"].fillna(0).astype(np.uint64)\n",
    "df[\"total_population\"] = df[\"total_population\"].fillna(0).astype(np.uint64)"
   ]
  },
  {
   "cell_type": "code",
   "execution_count": null,
   "metadata": {},
   "outputs": [],
   "source": [
    "import pandas as pd\n",
    "df = pd.read_parquet(r\"D:\\World Bank\\CLIENT v2\\Data\\Data_proc\\shocks_by_adm\\drought_SPI24_25sd_2008_14_zonal_stats.parquet\")\n",
    "df"
   ]
  },
  {
   "cell_type": "code",
   "execution_count": null,
   "metadata": {},
   "outputs": [],
   "source": [
    "import importlib\n",
    "importlib.reload(utils)"
   ]
  },
  {
   "cell_type": "code",
   "execution_count": null,
   "metadata": {},
   "outputs": [],
   "source": [
    "import pandas as pd\n",
    "import utils\n",
    "import os\n",
    "import numpy as np\n",
    "import geopandas as gpd\n",
    "\n",
    "path = r\"D:\\World Bank\\CLIENT v2\\Data\\Data_proc\\shocks_by_adm\\WB\"\n",
    "f = f\"WB_drought_SPI3_10sd_1987_2_zonal_stats.parquet\"\n",
    "shockname = \"drought\"\n",
    "df = pd.read_parquet(os.path.join(path, f))\n",
    "df = utils.compress_dataframe(df)\n",
    "names = utils.parse_filename(f, shockname)\n",
    "for col, value in names.items():\n",
    "    df[col] = value\n",
    "df = utils.process_chunk(df)\n",
    "\n",
    "\n",
    "df = df.groupby([\"ID\", \"name\", \"year\"]).sum()\n",
    "df[\"area_affected\"] = df[\"cells_affected\"] / df[\"total_cells\"]\n",
    "df[\"population_affected\"] = df[\"population_affected_n\"] / df[\"total_population\"]\n",
    "df = (\n",
    "    df.drop(\n",
    "        columns=[\n",
    "            \"cells_affected\",\n",
    "            \"total_cells\",\n",
    "            \"population_affected_n\",\n",
    "            \"total_population\",\n",
    "        ]\n",
    "    )\n",
    "    .reset_index()\n",
    "    .fillna(0)\n",
    "    .replace([np.inf, -np.inf], 0)\n",
    ")\n",
    "\n",
    "\n",
    "pivot = df.pivot(\n",
    "    index=[\"ID\", \"year\"],\n",
    "    columns=\"name\",\n",
    "    values=[\"population_affected\", \"area_affected\"],\n",
    ")\n",
    "\n",
    "\n",
    "# Reindex the two-level columns pivot returns\n",
    "newcols = []\n",
    "for cols in pivot.columns:\n",
    "    newcols += [utils.parse_columns(cols)]\n",
    "pivot.columns = newcols\n",
    "pivot = pivot.reset_index()\n",
    "\n",
    "gdf = gpd.read_feather(r\"D:\\World Bank\\CLIENT v2\\Data\\Data_proc\\WB_country_IDs.feather\")\n",
    "out_df = gdf.merge(pivot, on=\"ID\", validate=\"1:m\", how=\"inner\")\n",
    "\n",
    "out_df[\n",
    "    [\"ADM0_CODE\", \"ADM1_CODE\", \"ADM2_CODE\", \"year\", \"ID\"] + newcols\n",
    "].to_stata(f\"WB_{shockname}_by_admlast_sampled.dta\")\n"
   ]
  },
  {
   "cell_type": "code",
   "execution_count": null,
   "metadata": {},
   "outputs": [],
   "source": [
    "out_df[\n",
    "    [\"ADM0_CODE\", \"ADM1_CODE\", \"ADM2_CODE\", \"year\", \"ID\"] + newcols\n",
    "]"
   ]
  },
  {
   "cell_type": "code",
   "execution_count": null,
   "metadata": {},
   "outputs": [],
   "source": [
    "import xarray as xr\n",
    "xr.open_dataset(r\"D:\\World Bank\\CLIENT v2\\Data\\Data_out\\IBTrACS_hurricanes_yearly.nc\")"
   ]
  },
  {
   "cell_type": "code",
   "execution_count": null,
   "metadata": {},
   "outputs": [],
   "source": [
    "# Concatenate all the dataframes and create the shock variables\n",
    "df = dd.concat(dfs)\n",
    "df = df.groupby([\"ID\", \"name\", \"year\"]).sum()\n",
    "df[\"area_affected\"] = df[\"cells_affected\"] / df[\"total_cells\"]\n",
    "df[\"population_affected\"] = df[\"population_affected_n\"] / df[\"total_population\"]\n",
    "df = (\n",
    "    df.drop(\n",
    "        columns=[\n",
    "            \"cells_affected\",\n",
    "            \"total_cells\",\n",
    "            \"population_affected_n\",\n",
    "            \"total_population\",\n",
    "        ]\n",
    "    )\n",
    "    .reset_index()\n",
    "    .fillna(0)\n",
    "    .replace([np.inf, -np.inf], 0)\n",
    ")\n",
    "\n"
   ]
  },
  {
   "cell_type": "code",
   "execution_count": null,
   "metadata": {},
   "outputs": [],
   "source": [
    "import xarray as xr\n",
    "\n",
    "#\n",
    "ds = xr.open_dataset(r\"D:\\World Bank\\CLIENT v2\\Data\\Data_out\\IBTrACS_hurricanes_yearly.nc\")\n",
    "\n",
    "# Size in GB\n",
    "ds[\"category_1_b10\"].nbytes / 1e9 / 16"
   ]
  },
  {
   "cell_type": "code",
   "execution_count": null,
   "metadata": {},
   "outputs": [],
   "source": [
    "floods = xr.open_dataset(r\"D:\\World Bank\\CLIENT v2\\Data\\Data_out\\GFD_floods_yearly.nc\")\n",
    "floods.sel(year=2007).to_netcdf(r\"D:\\World Bank\\CLIENT v2\\Data\\Data_out\\GFD_floods_2007.nc\", encoding={\"band_data\":{\"zlib\":True, \"complevel\":6}})"
   ]
  },
  {
   "cell_type": "code",
   "execution_count": null,
   "metadata": {},
   "outputs": [],
   "source": [
    "import xarray as xr\n",
    "\n",
    "xr.open_dataset(r\"D:\\World Bank\\CLIENT v2\\Data\\Data_out\\IBTrACS_hurricanes_yearly.nc\")"
   ]
  },
  {
   "cell_type": "code",
   "execution_count": null,
   "metadata": {},
   "outputs": [],
   "source": [
    "path = os.path.join(PARQUET_PATH, f\"{shockname}_long.csv\")\n",
    "df.to_csv(path, single_file=True)\n",
    "print(f\"Se creó {path}\")\n",
    "\n",
    "df = pd.read_csv(path)\n",
    "# Pivot data: every shock has to be a column\n",
    "pivot = df.pivot(\n",
    "    index=[\"ID\", \"year\"],\n",
    "    columns=\"name\",\n",
    "    values=[\"population_affected\", \"area_affected\"],\n",
    ")\n",
    "\n",
    "# Reindex the two-level columns pivot returns\n",
    "newcols = []\n",
    "for cols in pivot.columns:\n",
    "    newcols += [utils.parse_columns(cols)]\n",
    "pivot.columns = newcols\n",
    "pivot = pivot.reset_index()\n",
    "\n",
    "path = os.path.join(PARQUET_PATH, f\"{shockname}_wide.csv\")\n",
    "pivot.to_csv(path)\n",
    "print(f\"Se creó {path}\")\n",
    "\n",
    "pivot = pd.read_csv(path)\n",
    "\n",
    "# Add the data to the gdf\n",
    "out_df = gdf.merge(pivot, left_on=\"id\", right_on=\"ID\", validate=\"1:m\", how=\"outer\")\n"
   ]
  },
  {
   "cell_type": "code",
   "execution_count": null,
   "metadata": {},
   "outputs": [],
   "source": [
    "import xarray as xr\n",
    "ds = xr.open_dataset(r\"D:\\World Bank\\CLIENT v2\\Data\\Data_proc\\hurricanes\\IBTrACS_1970_category_1_b100.nc\")\n",
    "# Select Florida\n",
    "ds = ds.sel(y=slice(50, 10), x=slice(-100, -60))\n",
    "ds[\"category_1_b100\"].plot()"
   ]
  },
  {
   "cell_type": "code",
   "execution_count": null,
   "metadata": {},
   "outputs": [],
   "source": [
    "import xarray as xr\n",
    "ds = xr.open_dataset(r\"D:\\World Bank\\CLIENT v2\\Data\\Data_proc\\hurricanes\\IBTrACS_1970_category_1_b100.nc\", chunks={\"x\": 43200/10, \"y\": 17173//10})\n",
    "# # Select Japan 120.937500,20.961441,149.589844,40.713957\n",
    "# ds = ds.sel(y=slice(40.713957, 20.961441), x=slice(120.937500, 149.589844))\n",
    "# ds[\"category_1_b100\"].max()"
   ]
  },
  {
   "cell_type": "code",
   "execution_count": null,
   "metadata": {},
   "outputs": [],
   "source": [
    "from dask.diagnostics import ProgressBar\n",
    "with ProgressBar():\n",
    "    test = ds[\"category_1_b100\"].coarsen(x=10, y=10, boundary=\"trim\").max().plot()"
   ]
  },
  {
   "cell_type": "code",
   "execution_count": null,
   "metadata": {},
   "outputs": [],
   "source": [
    "ds.coarsen(x=10, y=10, boundary=\"pad\").max()[\"category_1_b100\"].max()"
   ]
  },
  {
   "cell_type": "code",
   "execution_count": null,
   "metadata": {},
   "outputs": [],
   "source": [
    "data = [\"D:\\World Bank\\CLIENT v2\\Data\\Data_proc\\hurricanes\\IBTrACS_cat4_1951_0.25.nc\",\n",
    "\"D:\\World Bank\\CLIENT v2\\Data\\Data_proc\\hurricanes\\IBTrACS_cat3_1951_0.25.nc\",\n",
    "\"D:\\World Bank\\CLIENT v2\\Data\\Data_proc\\hurricanes\\IBTrACS_cat2_1951_0.25.nc\",\n",
    "\"D:\\World Bank\\CLIENT v2\\Data\\Data_proc\\hurricanes\\IBTrACS_cat1_1951_0.25.nc\",\n",
    "\"D:\\World Bank\\CLIENT v2\\Data\\Data_proc\\hurricanes\\IBTrACS_cat5_1951_0.1.nc\",\n",
    "\"D:\\World Bank\\CLIENT v2\\Data\\Data_proc\\hurricanes\\IBTrACS_cat4_1951_0.1.nc\",\n",
    "\"D:\\World Bank\\CLIENT v2\\Data\\Data_proc\\hurricanes\\IBTrACS_cat3_1951_0.1.nc\",\n",
    "\"D:\\World Bank\\CLIENT v2\\Data\\Data_proc\\hurricanes\\IBTrACS_cat2_1951_0.1.nc\",\n",
    "\"D:\\World Bank\\CLIENT v2\\Data\\Data_proc\\hurricanes\\IBTrACS_cat1_1951_0.1.nc\",\n",
    "\"D:\\World Bank\\CLIENT v2\\Data\\Data_proc\\hurricanes\\IBTrACS_cat5_1951_1.0.nc\",\n",
    "\"D:\\World Bank\\CLIENT v2\\Data\\Data_proc\\hurricanes\\IBTrACS_cat4_1951_1.0.nc\",\n",
    "\"D:\\World Bank\\CLIENT v2\\Data\\Data_proc\\hurricanes\\IBTrACS_cat3_1951_1.0.nc\",\n",
    "\"D:\\World Bank\\CLIENT v2\\Data\\Data_proc\\hurricanes\\IBTrACS_cat2_1951_1.0.nc\",\n",
    "\"D:\\World Bank\\CLIENT v2\\Data\\Data_proc\\hurricanes\\IBTrACS_cat1_1951_1.0.nc\",\n",
    "\"D:\\World Bank\\CLIENT v2\\Data\\Data_proc\\hurricanes\\IBTrACS_cat5_1951_0.5.nc\",\n",
    "\"D:\\World Bank\\CLIENT v2\\Data\\Data_proc\\hurricanes\\IBTrACS_cat4_1951_0.5.nc\",\n",
    "\"D:\\World Bank\\CLIENT v2\\Data\\Data_proc\\hurricanes\\IBTrACS_cat3_1951_0.5.nc\",\n",
    "\"D:\\World Bank\\CLIENT v2\\Data\\Data_proc\\hurricanes\\IBTrACS_cat2_1951_0.5.nc\",\n",
    "\"D:\\World Bank\\CLIENT v2\\Data\\Data_proc\\hurricanes\\IBTrACS_cat1_1951_0.5.nc\",\n",
    "\"D:\\World Bank\\CLIENT v2\\Data\\Data_proc\\hurricanes\\IBTrACS_cat5_1951_0.25.nc\"]\n",
    "\n",
    "data2 = [\n",
    "# \"D:\\World Bank\\CLIENT v2\\Data\\Data_proc\\hurricanes\\IBTrACS_cat2_1952_0.25.nc\"\n",
    "# \"D:\\World Bank\\CLIENT v2\\Data\\Data_proc\\hurricanes\\IBTrACS_cat1_1952_0.25.nc\"\n",
    "\"D:\\World Bank\\CLIENT v2\\Data\\Data_proc\\hurricanes\\IBTrACS_cat5_1952_0.1.nc\",\n",
    "\"D:\\World Bank\\CLIENT v2\\Data\\Data_proc\\hurricanes\\IBTrACS_cat4_1952_0.1.nc\",\n",
    "\"D:\\World Bank\\CLIENT v2\\Data\\Data_proc\\hurricanes\\IBTrACS_cat3_1952_0.1.nc\",\n",
    "\"D:\\World Bank\\CLIENT v2\\Data\\Data_proc\\hurricanes\\IBTrACS_cat2_1952_0.1.nc\",\n",
    "\"D:\\World Bank\\CLIENT v2\\Data\\Data_proc\\hurricanes\\IBTrACS_cat1_1952_0.1.nc\",\n",
    "# \"D:\\World Bank\\CLIENT v2\\Data\\Data_proc\\hurricanes\\IBTrACS_cat3_1952_0.25.nc\"\n",
    "]\n",
    "import xarray as xr\n",
    "xr.open_mfdataset([data, data2], combine='nested', concat_dim=\"year\")"
   ]
  },
  {
   "cell_type": "code",
   "execution_count": null,
   "metadata": {},
   "outputs": [],
   "source": [
    "import pandas as pd\n",
    "import dask.dataframe as dd\n",
    "df = dd.read_parquet(r\"D:\\World Bank\\CLIENT v2\\Data\\Data_proc\\shocks\\drought_SPEI24_15sd_2020_15_zonal_stats.parquet\")\n",
    "df"
   ]
  },
  {
   "cell_type": "code",
   "execution_count": null,
   "metadata": {},
   "outputs": [],
   "source": [
    "import os\n",
    "import xarray as xr\n",
    "from dask.diagnostics import ProgressBar\n",
    "\n",
    "path = r\"D:\\World Bank\\CLIENT v2\\Data\\Data_proc\\hurricanes\"\n",
    "files = os.listdir(path)\n",
    "dss = []\n",
    "for year in range(1970, 2021):\n",
    "    \n",
    "    files_year = [os.path.join(path, f) for f in files if f\"{year}\" in f]\n",
    "    dss += [xr.open_mfdataset(files_year)]\n",
    "    \n",
    "    if year==1975:\n",
    "        break\n",
    "\n",
    "ds = xr.concat(dss, dim=\"time\")\n",
    "with ProgressBar():\n",
    "    ds.to_netcdf(r\"D:\\World Bank\\CLIENT v2\\Data\\Data_proc\\hurricanes\\IBTrACS_1970_1975.nc\")"
   ]
  },
  {
   "cell_type": "code",
   "execution_count": null,
   "metadata": {},
   "outputs": [],
   "source": [
    "dss[10]"
   ]
  },
  {
   "cell_type": "code",
   "execution_count": null,
   "metadata": {},
   "outputs": [],
   "source": [
    "import dask.dataframe as dd\n",
    "df = pd.read_csv(r\"D:\\World Bank\\CLIENT v2\\Data\\Data_proc\\shocks\\drought_long.csv\")\n",
    "pivot = df.pivot(\n",
    "    index=[\"ID\", \"year\"],\n",
    "    columns=\"name\",\n",
    "    values=[\"population_affected\", \"area_affected\"],\n",
    ")\n",
    "pivot"
   ]
  },
  {
   "cell_type": "markdown",
   "metadata": {},
   "source": []
  },
  {
   "cell_type": "code",
   "execution_count": null,
   "metadata": {},
   "outputs": [],
   "source": [
    "xr.combine_by_coords(dss[1977])"
   ]
  },
  {
   "cell_type": "code",
   "execution_count": null,
   "metadata": {},
   "outputs": [],
   "source": [
    "repl = {\"year\":\"y\", \"lat\":\"y\"}\n",
    "\n",
    "df.columns"
   ]
  },
  {
   "cell_type": "code",
   "execution_count": null,
   "metadata": {},
   "outputs": [],
   "source": [
    "import utils\n",
    "\n"
   ]
  },
  {
   "cell_type": "code",
   "execution_count": null,
   "metadata": {},
   "outputs": [],
   "source": [
    "gdf = gpd.read_file(r\"D:\\Datasets\\International Best Track Archive for Climate Stewardship (IBTrACS)\\IBTrACS.ALL.list.v04r01.lines.shp\")#, \"BASIN\", \"SUBBASIN\", \"NAME\", \"ISO_TIME\", \"LAT\", \"LON\", \"WMO_WIND\", \"WMO_PRES\", \"WMO_AGENCY\", \"TRACK_TYPE\"])\n",
    "gdf[\"WMO_WIND\"] = gdf[\"WMO_WIND\"].ffill()\n",
    "gdf[gdf.SID == \"2021323S10103\"].explore(column=\"WMO_WIND\")"
   ]
  }
 ],
 "metadata": {
  "kernelspec": {
   "display_name": "Python 3",
   "language": "python",
   "name": "python3"
  },
  "language_info": {
   "codemirror_mode": {
    "name": "ipython",
    "version": 3
   },
   "file_extension": ".py",
   "mimetype": "text/x-python",
   "name": "python",
   "nbconvert_exporter": "python",
   "pygments_lexer": "ipython3",
   "version": "3.11.4"
  }
 },
 "nbformat": 4,
 "nbformat_minor": 2
}
