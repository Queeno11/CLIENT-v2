{
 "cells": [
  {
   "cell_type": "markdown",
   "metadata": {},
   "source": [
    "## Floods: Global Flood Database"
   ]
  },
  {
   "cell_type": "markdown",
   "metadata": {},
   "source": [
    "- Source: https://github.com/cloudtostreet/MODIS_GlobalFloodDatabase\n",
    "- Size: ~16.3GB\n",
    "\n",
    "Run the following script in gsutil\n",
    "\n",
    "`gsutil -m cp -r gs://gfd_v1_4 your/local/directory/to/save/to`\n",
    "\n",
    "This will download all the floods data to the defined directory\n",
    "\n",
    "Remember to redefine the selected folder in the .env file\n"
   ]
  },
  {
   "cell_type": "code",
   "execution_count": null,
   "metadata": {},
   "outputs": [],
   "source": [
    "gsutil -m cp -r gs://gfd_v1_4 \"D:/Datasets/Global Flood Database\""
   ]
  },
  {
   "cell_type": "markdown",
   "metadata": {},
   "source": [
    "## Precipitation: ERA5-Land  "
   ]
  },
  {
   "cell_type": "code",
   "execution_count": null,
   "metadata": {},
   "outputs": [],
   "source": [
    "#TODO"
   ]
  },
  {
   "cell_type": "markdown",
   "metadata": {},
   "source": [
    "## Hurricanes/Typhoons: The International Best-Track Archive for Climate Stewardship (IBTrACS) "
   ]
  },
  {
   "cell_type": "markdown",
   "metadata": {},
   "source": [
    "Manually download data from here: https://www.ncei.noaa.gov/products/international-best-track-archive"
   ]
  }
 ],
 "metadata": {
  "kernelspec": {
   "display_name": "Python 3",
   "language": "python",
   "name": "python3"
  },
  "language_info": {
   "name": "python",
   "version": "3.11.4"
  }
 },
 "nbformat": 4,
 "nbformat_minor": 2
}
