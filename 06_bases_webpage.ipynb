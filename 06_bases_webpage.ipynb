{
 "cells": [
  {
   "cell_type": "code",
   "execution_count": null,
   "metadata": {},
   "outputs": [],
   "source": [
    "import pandas as pd\n",
    "import geopandas as gpd\n",
    "\n",
    "gdf_full = gpd.read_feather(r\"D:\\World Bank\\CLIENT v2\\Data\\Data_proc\\WB_country_IDs.feather\")"
   ]
  },
  {
   "cell_type": "code",
   "execution_count": null,
   "metadata": {},
   "outputs": [],
   "source": [
    "# Generados Nico\n",
    "gdf = gdf_full.drop(columns=[\"OBJECTID\", \"geometry\"])\n",
    "gdf.columns = gdf.columns.str.lower()\n",
    "gdf = gdf.rename(columns={\"id\":\"ID\"})\n",
    "\n",
    "for shock in [\"drought\"]:#, \"floods\", \"hurricanes\"]:\n",
    "    df = pd.read_csv(rf\"D:\\World Bank\\CLIENT v2\\Data\\Data_out\\WB_{shock}_long.csv\")\n",
    "\n",
    "    dflong = df.drop(columns=[\"Unnamed: 0\", \"chunk\"]).melt(id_vars=[\"ID\", \"year\", \"variable\", \"threshold\"], var_name=\"measure\", value_name=\"value\")\n",
    "    print(dflong.measure.unique())\n",
    "    dflong = gdf.merge(dflong, on=\"ID\", validate=\"1:m\").drop(columns=[\"ID\"]) \n",
    "    dflong.to_csv(rf\"D:\\World Bank\\CLIENT v2\\Data\\Data_out\\for webpage\\WB_{shock}.csv\", index=False)"
   ]
  },
  {
   "cell_type": "code",
   "execution_count": null,
   "metadata": {},
   "outputs": [],
   "source": [
    "# Mapas\n",
    "gdf_full.drop(columns=[\"OBJECTID\", \"ID\"]).to_csv(r\"D:\\World Bank\\CLIENT v2\\Data\\Data_out\\for webpage\\WB_map.csv\", index=False)"
   ]
  },
  {
   "cell_type": "code",
   "execution_count": null,
   "metadata": {},
   "outputs": [],
   "source": [
    "## Generados por Yane\n",
    "# Coldwave\n",
    "df = pd.read_stata(r\"D:\\World Bank\\CLIENT v2\\Data\\Data_proc\\shocks_CLIENTv1_WB\\coldwave_v5_complete.dta\")\n",
    "melt = df.fillna(0).melt(id_vars=[\"adm0\", \"adm1\", \"adm2\", \"year\"])\n",
    "melt[\"variable_original\"] = melt[\"variable\"]\n",
    "melt[\"measure\"] = melt[\"variable_original\"].str[2:4].replace({\"aa\":\"area_affected\", \"ap\": \"population_affected\"})\n",
    "melt[\"threshold\"] = melt[\"variable\"].str.extract(r\"(\\d+)\").astype(float)\n",
    "melt[\"threshold\"] = melt[\"threshold\"] / 10\n",
    "melt[\"minmax\"] = melt[\"variable\"].str[4:7]\n",
    "melt.loc[melt[\"minmax\"] == \"min\", \"variable\"] = \"minimum_temperature_below_sd\"\n",
    "melt.loc[melt[\"minmax\"] == \"max\", \"variable\"] = \"maximum_temperature_below_sd\"\n",
    "melt = melt.drop(columns=[\"minmax\"])\n",
    "melt.to_csv(r\"D:\\World Bank\\CLIENT v2\\Data\\Data_out\\for webpage\\WB_coldwave.csv\", index=False)"
   ]
  },
  {
   "cell_type": "code",
   "execution_count": null,
   "metadata": {},
   "outputs": [],
   "source": [
    "## Generados por Yane\n",
    "# Heatwave\n",
    "df = pd.read_stata(r\"D:\\World Bank\\CLIENT v2\\Data\\Data_proc\\shocks_CLIENTv1_WB\\heatwave_v5_complete.dta\")\n",
    "melt = df.fillna(0).melt(id_vars=[\"adm0\", \"adm1\", \"adm2\", \"year\"])\n",
    "melt[\"variable_original\"] = melt[\"variable\"]\n",
    "melt[\"measure\"] = melt[\"variable_original\"].str[2:4].replace({\"aa\":\"area_affected\", \"ap\": \"population_affected\"})\n",
    "melt[\"threshold\"] = melt[\"variable_original\"].str[6:].astype(float) / 10\n",
    "melt[\"variable\"] = melt[\"variable_original\"].str[:6].replace({\n",
    "    \"hwap35\": \"heatwave_35deg\",\n",
    "    \"hwaa35\": \"heatwave_35deg\",\n",
    "    \"hwap40\": \"heatwave_40deg\",\n",
    "    \"hwaa40\": \"heatwave_40deg\",\n",
    "})\n",
    "melt.drop(columns=[\"variable_original\"]).to_csv(r\"D:\\World Bank\\CLIENT v2\\Data\\Data_out\\for webpage\\WB_heatwave.csv\", index=False)"
   ]
  },
  {
   "cell_type": "code",
   "execution_count": null,
   "metadata": {},
   "outputs": [],
   "source": [
    "## Generados por Yane\n",
    "# Intenserain\n",
    "df = pd.read_stata(r\"D:\\World Bank\\CLIENT v2\\Data\\Data_proc\\shocks_CLIENTv1_WB\\intenserain_complete.dta\")\n",
    "melt = df.fillna(0).melt(id_vars=[\"adm0\", \"adm1\", \"adm2\", \"year\"])\n",
    "melt[\"variable_original\"] = melt[\"variable\"]\n",
    "melt[\"measure\"] = melt[\"variable_original\"].str[1:3].replace({\"aa\":\"area_affected\", \"ap\": \"population_affected\"})\n",
    "melt[\"threshold\"] = melt[\"variable_original\"].str[4:].astype(int)\n",
    "melt[\"variable\"] = melt[\"variable_original\"].str[:4].replace({\n",
    "    \"iap1\": \"intenserain_1day\",\n",
    "    \"iap5\": \"intenserain_5day\",\n",
    "    \"iaa1\": \"intenserain_1day\",\n",
    "    \"iaa5\": \"intenserain_5day\",\n",
    "})\n",
    "melt.drop(columns=[\"variable_original\"]).to_csv(r\"D:\\World Bank\\CLIENT v2\\Data\\Data_out\\for webpage\\WB_intenserain.csv\", index=False)"
   ]
  },
  {
   "cell_type": "code",
   "execution_count": 1,
   "metadata": {},
   "outputs": [],
   "source": [
    "## IPUMS"
   ]
  },
  {
   "cell_type": "code",
   "execution_count": 6,
   "metadata": {},
   "outputs": [],
   "source": [
    "import pandas as pd\n",
    "import geopandas as gpd\n",
    "\n",
    "gdf_full = gpd.read_feather(r\"D:\\World Bank\\CLIENT v2\\Data\\Data_proc\\IPUMS_country_IDs.feather\")"
   ]
  },
  {
   "cell_type": "code",
   "execution_count": 7,
   "metadata": {},
   "outputs": [],
   "source": [
    "gdf_full = gdf_full.drop(columns=[\"ID\"])\n",
    "gdf_full = gdf_full.rename(columns={\"CNTRY_CODE\":\"adm0\", \"GEOLEVEL1\":\"adm1\", \"GEOLEVEL2\":\"adm2\"})\n",
    "gdf_full[[\"adm0_name\", \"adm1_name\", \"adm2_name\"]] = \"To be filled\"\n",
    "gdf_full.to_csv(r\"D:\\World Bank\\CLIENT v2\\Data\\Data_out\\for webpage\\IPUMS_map.csv\", index=False)"
   ]
  },
  {
   "cell_type": "code",
   "execution_count": null,
   "metadata": {},
   "outputs": [],
   "source": [
    "# Mapas\n",
    "gdf_full.drop(columns=[\"OBJECTID\", \"ID\"]).to_csv(r\"D:\\World Bank\\CLIENT v2\\Data\\Data_out\\for webpage\\WB_map.csv\", index=False)"
   ]
  },
  {
   "cell_type": "code",
   "execution_count": null,
   "metadata": {},
   "outputs": [],
   "source": [
    "## Generados por Yane\n",
    "# Coldwave\n",
    "df = pd.read_stata(r\"D:\\World Bank\\CLIENT v2\\Data\\Data_proc\\shocks_CLIENTv1_WB\\coldwave_v5_complete.dta\")\n",
    "melt = df.fillna(0).melt(id_vars=[\"adm0\", \"adm1\", \"adm2\", \"year\"])\n",
    "melt[\"variable_original\"] = melt[\"variable\"]\n",
    "melt[\"measure\"] = melt[\"variable_original\"].str[2:4].replace({\"aa\":\"area_affected\", \"ap\": \"population_affected\"})\n",
    "melt[\"threshold\"] = melt[\"variable\"].str.extract(r\"(\\d+)\").astype(float)\n",
    "melt[\"threshold\"] = melt[\"threshold\"] / 10\n",
    "melt[\"minmax\"] = melt[\"variable\"].str[4:7]\n",
    "melt.loc[melt[\"minmax\"] == \"min\", \"variable\"] = \"minimum_temperature_below_sd\"\n",
    "melt.loc[melt[\"minmax\"] == \"max\", \"variable\"] = \"maximum_temperature_below_sd\"\n",
    "melt = melt.drop(columns=[\"minmax\"])\n",
    "melt.to_csv(r\"D:\\World Bank\\CLIENT v2\\Data\\Data_out\\for webpage\\WB_coldwave.csv\", index=False)"
   ]
  },
  {
   "cell_type": "code",
   "execution_count": null,
   "metadata": {},
   "outputs": [],
   "source": [
    "## Generados por Yane\n",
    "# Heatwave\n",
    "df = pd.read_stata(r\"D:\\World Bank\\CLIENT v2\\Data\\Data_proc\\shocks_CLIENTv1_WB\\heatwave_v5_complete.dta\")\n",
    "melt = df.fillna(0).melt(id_vars=[\"adm0\", \"adm1\", \"adm2\", \"year\"])\n",
    "melt[\"variable_original\"] = melt[\"variable\"]\n",
    "melt[\"measure\"] = melt[\"variable_original\"].str[2:4].replace({\"aa\":\"area_affected\", \"ap\": \"population_affected\"})\n",
    "melt[\"threshold\"] = melt[\"variable_original\"].str[6:].astype(float) / 10\n",
    "melt[\"variable\"] = melt[\"variable_original\"].str[:6].replace({\n",
    "    \"hwap35\": \"heatwave_35deg\",\n",
    "    \"hwaa35\": \"heatwave_35deg\",\n",
    "    \"hwap40\": \"heatwave_40deg\",\n",
    "    \"hwaa40\": \"heatwave_40deg\",\n",
    "})\n",
    "melt.drop(columns=[\"variable_original\"]).to_csv(r\"D:\\World Bank\\CLIENT v2\\Data\\Data_out\\for webpage\\WB_heatwave.csv\", index=False)"
   ]
  },
  {
   "cell_type": "code",
   "execution_count": null,
   "metadata": {},
   "outputs": [],
   "source": [
    "## Generados por Yane\n",
    "# Intenserain\n",
    "df = pd.read_stata(r\"D:\\World Bank\\CLIENT v2\\Data\\Data_proc\\shocks_CLIENTv1_WB\\intenserain_complete.dta\")\n",
    "melt = df.fillna(0).melt(id_vars=[\"adm0\", \"adm1\", \"adm2\", \"year\"])\n",
    "melt[\"variable_original\"] = melt[\"variable\"]\n",
    "melt[\"measure\"] = melt[\"variable_original\"].str[1:3].replace({\"aa\":\"area_affected\", \"ap\": \"population_affected\"})\n",
    "melt[\"threshold\"] = melt[\"variable_original\"].str[4:].astype(int)\n",
    "melt[\"variable\"] = melt[\"variable_original\"].str[:4].replace({\n",
    "    \"iap1\": \"intenserain_1day\",\n",
    "    \"iap5\": \"intenserain_5day\",\n",
    "    \"iaa1\": \"intenserain_1day\",\n",
    "    \"iaa5\": \"intenserain_5day\",\n",
    "})\n",
    "melt.drop(columns=[\"variable_original\"]).to_csv(r\"D:\\World Bank\\CLIENT v2\\Data\\Data_out\\for webpage\\WB_intenserain.csv\", index=False)"
   ]
  }
 ],
 "metadata": {
  "kernelspec": {
   "display_name": "Python 3",
   "language": "python",
   "name": "python3"
  },
  "language_info": {
   "codemirror_mode": {
    "name": "ipython",
    "version": 3
   },
   "file_extension": ".py",
   "mimetype": "text/x-python",
   "name": "python",
   "nbconvert_exporter": "python",
   "pygments_lexer": "ipython3",
   "version": "3.11.4"
  }
 },
 "nbformat": 4,
 "nbformat_minor": 2
}
