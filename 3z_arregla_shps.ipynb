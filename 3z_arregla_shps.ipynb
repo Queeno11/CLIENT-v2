{
 "cells": [
  {
   "cell_type": "markdown",
   "metadata": {},
   "source": [
    "## Fix IPUMS conflicting shapes\n",
    "\n",
    "in IPUMS shapes there are two kind of errors:\n",
    "1) Conflicting territories, that are reported as being part of two different countries,\n",
    "2) Conflicting geometries, where, for some reason, two geometries of a single country overlap and missasing where the data comes from.\n",
    "\n",
    "For the first point, we use the WB official boundaries. For the second, we remove the wrong duplicate (remove PR from USA, remove small polygon for Laos).   "
   ]
  },
  {
   "cell_type": "code",
   "execution_count": null,
   "metadata": {},
   "outputs": [],
   "source": [
    "import pandas as pd\n",
    "import geopandas as gpd\n",
    "\n",
    "wb = gpd.read_file(r\"D:\\World Bank\\CLIENT v2\\Data\\Data_raw\\world_bank_adm2\\world_bank_adm2.shp\")\n",
    "israel = gpd.read_file(r\"D:\\World Bank\\CLIENT v2\\Data\\Data_raw\\IPUMS Fixed\\geo2_il1972_1995.shp\")"
   ]
  },
  {
   "cell_type": "code",
   "execution_count": null,
   "metadata": {},
   "outputs": [],
   "source": [
    "## ISRAEL\n",
    "israel_ipums = gpd.read_file(r\"D:\\World Bank\\CLIENT v2\\Data\\Data_raw\\IPUMS Fixed\\geo2_il1972_1995.shp\")\n",
    "israel_ipums[\"geometry\"] = israel_ipums.centroid\n",
    "israel_ipums = israel_ipums.set_crs(epsg=4326)\n",
    "\n",
    "israel_WB = wb[wb.ADM0_NAME == \"Israel\"][[\"ADM1_CODE\", \"ADM2_CODE\", \"geometry\"]]\n",
    "\n",
    "# Genera csv con el fix\n",
    "out = israel_WB.sjoin(israel_ipums)[[\"GEOLEVEL2\", \"ADM1_CODE\"]]\n",
    "out = out.rename(columns={\"GEOLEVEL2\":\"geolev2\", \"ADM1_CODE\": \"geolev1\"})\n",
    "out[\"geolev2_new\"] = out[\"geolev2\"].str[:6].astype(str) + out[\"geolev1\"].astype(str).str[1:].astype(str)\n",
    "out = out.astype(int).drop(columns=\"geolev1\")\n",
    "out.set_index(\"geolev2\").to_stata(r\"D:\\World Bank\\CLIENT v2\\Data\\Data_proc\\fixes\\fix_israel_geo2_adm1.dta\")\n",
    "\n",
    "# Muestra los datos\n",
    "m = israel_WB.explore()\n",
    "israel_ipums.explore(m=m, color=\"red\") "
   ]
  },
  {
   "cell_type": "code",
   "execution_count": null,
   "metadata": {},
   "outputs": [],
   "source": [
    "import folium\n",
    "\n",
    "## PALESTINE\n",
    "palestine_ipums = gpd.read_file(r\"D:\\World Bank\\CLIENT v2\\Data\\Data_raw\\IPUMS Fixed\\geo1_ps1997_2017.shp\")\n",
    "pal_ipums = palestine_ipums.copy()\n",
    "pal_ipums[\"geometry\"] = pal_ipums.centroid\n",
    "pal_ipums = pal_ipums.set_crs(epsg=4326)\n",
    "\n",
    "pal_WB = wb[wb.ADM0_NAME == \"West Bank and Gaza\"][[\"ADM1_CODE\", \"ADM2_CODE\", \"geometry\"]]\n",
    "\n",
    "# Genera csv con el fix\n",
    "out = pal_WB.sjoin(pal_ipums)[[\"GEOLEVEL1\", \"ADM1_CODE\"]]\n",
    "out = out.rename(columns={\"GEOLEVEL1\":\"geolev1\"})\n",
    "out[\"geolev1_new\"] = out[\"ADM1_CODE\"] \n",
    "out = out.astype(int).drop(columns=\"ADM1_CODE\")\n",
    "out.set_index(\"geolev1\").to_stata(r\"D:\\World Bank\\CLIENT v2\\Data\\Data_proc\\fixes\\fix_palestine_geo1_adm1.dta\")\n",
    "\n",
    "# Muestra los datos\n",
    "m = pal_WB.explore()\n",
    "# palestine_ipums.explore(m=m, color=\"orange\")\n",
    "pal_ipums.explore(m=m, color=\"red\")\n",
    "\n",
    "folium.LayerControl().add_to(m)  # use folium to add layer control\n",
    "m\n"
   ]
  },
  {
   "cell_type": "code",
   "execution_count": null,
   "metadata": {},
   "outputs": [],
   "source": []
  },
  {
   "cell_type": "code",
   "execution_count": null,
   "metadata": {},
   "outputs": [],
   "source": []
  },
  {
   "cell_type": "code",
   "execution_count": null,
   "metadata": {},
   "outputs": [],
   "source": []
  },
  {
   "cell_type": "code",
   "execution_count": null,
   "metadata": {},
   "outputs": [],
   "source": [
    "# Visualize overlaps\n",
    "wb = gpd.read_file(r\"D:\\World Bank\\CLIENT v2\\Data\\Data_raw\\world_bank_adm2\\world_bank_adm2.shp\")\n",
    "wb.geometry = wb.buffer(-0.0001)\n",
    "# Perform a spatial join between the GeoDataFrame and itself to find overlaps\n",
    "overlaps = gpd.sjoin(wb, wb, how='inner', predicate='intersects')\n",
    "\n",
    "# Filter out self-overlaps\n",
    "overlaps = overlaps[overlaps.OBJECTID_left != overlaps.OBJECTID_right]\n",
    "\n",
    "# Display the overlapping rows\n",
    "overlaps\n"
   ]
  },
  {
   "cell_type": "markdown",
   "metadata": {},
   "source": [
    "# Arregla límites internacionales problematicos "
   ]
  },
  {
   "cell_type": "code",
   "execution_count": null,
   "metadata": {},
   "outputs": [],
   "source": [
    "import pandas as pd\n",
    "import geopandas as gpd\n",
    "\n",
    "wb = gpd.read_file(r\"D:\\World Bank\\CLIENT v2\\Data\\Data_raw\\world_bank_adm2\\world_bank_adm2.shp\")"
   ]
  },
  {
   "cell_type": "code",
   "execution_count": null,
   "metadata": {},
   "outputs": [],
   "source": [
    "import shapely\n",
    "\n",
    "ipums = pd.read_parquet(r\"D:\\World Bank\\CLIENT v2\\Data\\Data_proc\\IPUMS_full.parquet\")\n",
    "ipums[\"geometry\"] = ipums[\"geometry\"].apply(lambda x: shapely.wkt.loads(x))\n",
    "ipums = gpd.GeoDataFrame(ipums, geometry='geometry')\n",
    "ipums = ipums.set_crs(epsg=4326)\n"
   ]
  },
  {
   "cell_type": "code",
   "execution_count": null,
   "metadata": {},
   "outputs": [],
   "source": [
    "import matplotlib.pyplot as plt\n",
    "import warnings\n",
    "\n",
    "def fix_IPUMS_conflicting_international_boundaries(wb, ipums, export_maps=False):\n",
    "    ''' Fix IPUMS conflicting international boundaries by clipping the data to the World Bank boundaries.\n",
    "    \n",
    "    Parameters:\n",
    "    wb (GeoDataFrame): World Bank boundaries\n",
    "    ipums (GeoDataFrame): IPUMS boundaries\n",
    "    \n",
    "    Returns:\n",
    "    GeoDataFrame: IPUMS boundaries with the conflicting boundaries clipped to the World Bank boundaries\n",
    "    '''\n",
    "    countries_to_clip = {\n",
    "        # Countries with conflicting boundaries\n",
    "        \"Marruecos\": {\"WB\": 169, \"IPUMS\": \"504\"},\n",
    "        \"South Sudan\": {\"WB\": 74, \"IPUMS\": \"728\"},\n",
    "        \"Sudan\": {\"WB\": 6, \"IPUMS\": \"729\"},\n",
    "        \"Egypt\": {\"WB\": 40765, \"IPUMS\": \"818\"},\n",
    "        \"Kenya\": {\"WB\": 133, \"IPUMS\": \"404\"},\n",
    "        \"Russia\": {\"WB\": 204, \"IPUMS\": \"643\"},\n",
    "        \"India\": {\"WB\": 115, \"IPUMS\": \"356\"},\n",
    "        \"China\": {\"WB\": 147295, \"IPUMS\": \"156\"},\n",
    "        \"Kyrghyzstan\": {\"WB\": 138, \"IPUMS\": \"417\"},\n",
    "    }                        \n",
    "\n",
    "    with warnings.catch_warnings():\n",
    "        warnings.simplefilter(\"ignore\")\n",
    "        for country, codes in countries_to_clip.items():\n",
    "            print(country)\n",
    "            wbcode = codes[\"WB\"]\n",
    "            ipumscode = codes[\"IPUMS\"]\n",
    "            \n",
    "            # Clip IPUMS using WB\n",
    "            clipped = (\n",
    "                ipums[ipums.CNTRY_CODE == ipumscode]\n",
    "                .clip(wb[wb.ADM0_CODE == wbcode])\n",
    "            )\n",
    "            \n",
    "            if export_maps:\n",
    "                # Plot the clipped data\n",
    "                fig, ax = plt.subplots(figsize=(10, 10))\n",
    "                ipums[ipums.CNTRY_CODE == ipumscode].plot(ax=ax)\n",
    "                clipped.plot(ax=ax, facecolor=\"none\", edgecolor=\"red\")\n",
    "                plt.savefig(f\"{DATA_PROC}/fixes/{country}.png\")\n",
    "            \n",
    "            # remove areas with residual geometry\n",
    "            clipped = clipped[clipped.geometry.area > .0001]\n",
    "            print(\"Se eliminaron \", len(ipums[ipums.CNTRY_CODE == ipumscode]) - len(clipped), \" registros\")\n",
    "            \n",
    "            # Update the original dataframe\n",
    "            ipums.loc[ipums.CNTRY_CODE == ipumscode] = clipped\n",
    "            \n",
    "        # Remove unwanted shapes from Israel & Palestine\n",
    "        ipums = ipums[~(ipums[\"GEOLEVEL2\"].astype(str).str[-2:].isin([\"97\", \"98\", \"99\"]) & ipums[\"CNTRY_CODE\"].isin([\"376\", \"275\"]))]\n",
    "        \n",
    "    return ipums"
   ]
  },
  {
   "cell_type": "code",
   "execution_count": null,
   "metadata": {},
   "outputs": [],
   "source": [
    "ipums.to_parquet(r\"D:\\World Bank\\CLIENT v2\\Data\\Data_proc\\IPUMS_full_clipped.parquet\")"
   ]
  },
  {
   "cell_type": "code",
   "execution_count": null,
   "metadata": {},
   "outputs": [],
   "source": [
    "m = ipums[ipums[\"CNTRY_CODE\"]==\"356\"].explore()\n",
    "wb[wb.ADM0_NAME==\"India\"].explore(m=m)\n",
    "\n",
    "# add layer control\n",
    "folium.LayerControl().add_to(m)  # use folium to add layer control\n",
    "m"
   ]
  },
  {
   "cell_type": "code",
   "execution_count": null,
   "metadata": {},
   "outputs": [],
   "source": []
  }
 ],
 "metadata": {
  "kernelspec": {
   "display_name": "Python 3",
   "language": "python",
   "name": "python3"
  },
  "language_info": {
   "codemirror_mode": {
    "name": "ipython",
    "version": 3
   },
   "file_extension": ".py",
   "mimetype": "text/x-python",
   "name": "python",
   "nbconvert_exporter": "python",
   "pygments_lexer": "ipython3",
   "version": "3.11.4"
  }
 },
 "nbformat": 4,
 "nbformat_minor": 2
}
