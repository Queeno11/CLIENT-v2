{
 "cells": [
  {
   "cell_type": "code",
   "execution_count": 1,
   "metadata": {},
   "outputs": [
    {
     "name": "stderr",
     "output_type": "stream",
     "text": [
      "c:\\Users\\ofici\\AppData\\Local\\Programs\\Python\\Python311\\Lib\\site-packages\\cupy\\_environment.py:216: UserWarning: CUDA path could not be detected. Set CUDA_PATH environment variable if CuPy fails to load.\n",
      "  warnings.warn(\n",
      "c:\\Users\\ofici\\AppData\\Local\\Programs\\Python\\Python311\\Lib\\site-packages\\dask\\dataframe\\_pyarrow_compat.py:17: FutureWarning: Minimal version of pyarrow will soon be increased to 14.0.1. You are using 12.0.1. Please consider upgrading.\n",
      "  warnings.warn(\n"
     ]
    }
   ],
   "source": [
    "import os\n",
    "import numpy as np\n",
    "import pandas as pd\n",
    "import geopandas as gpd\n",
    "from tqdm import tqdm\n",
    "import hashlib\n",
    "\n",
    "import dask\n",
    "import xarray as xr\n",
    "import xrspatial\n",
    "from dask.diagnostics import ProgressBar\n",
    "from geocube.api.core import make_geocube\n",
    "\n",
    "import matplotlib.pyplot as plt\n",
    "import seaborn as sns\n",
    "\n",
    "PATH = \"D:\\World Bank\\CLIENT v2\"\n",
    "DATA_RAW = rf\"{PATH}\\Data\\Data_raw\"\n",
    "DATA_PROC = rf\"{PATH}\\Data\\Data_proc\"\n",
    "DATA_OUT = rf\"{PATH}\\Data\\Data_out\"\n",
    "GPW_PATH = rf\"D:\\Datasets\\Gridded Population of the World\""
   ]
  },
  {
   "cell_type": "code",
   "execution_count": 2,
   "metadata": {},
   "outputs": [],
   "source": [
    "# floods = pd.read_csv(rf\"{DATA_RAW}\\Floods\\GloFAS_floods.csv\")\n",
    "\n",
    "def load_population_data(bounds=None, generate=False):\n",
    "    print(\"Processing Population data...\")\n",
    "\n",
    "    # Select all files in GPW folder\n",
    "    files = os.listdir(GPW_PATH)\n",
    "    files = [f for f in files if f.endswith(\".tif\")]\n",
    "    \n",
    "    # Compile into a single dataset\n",
    "    dss = []\n",
    "    for f in tqdm(files):\n",
    "        \n",
    "        ds = xr.open_dataset(os.path.join(GPW_PATH, f), chunks={\"x\": 10000, \"y\": 10000})\n",
    "        ds[\"band_data\"] = ds[\"band_data\"].astype(np.uint32)\n",
    "        if bounds is not None:\n",
    "            ds = ds.sel(\n",
    "                x=slice(bounds[0], bounds[2]), y=slice(bounds[3], bounds[1])\n",
    "            )\n",
    "        if generate:\n",
    "            with ProgressBar():\n",
    "                ds.sel(band=1).drop_vars(\"band\").band_data.rio.to_raster(rf\"{DATA_PROC}\\{f.replace('.tif','_proc.tif')}\")\n",
    "                print(f\"Saved {f.replace('.tif','_proc.tif')}\")\n",
    "        \n",
    "        ds[\"year\"] = int(f.split(\"_\")[5])\n",
    "        ds = ds.set_coords('year')\n",
    "        dss += [ds]\n",
    "        \n",
    "    population = xr.concat(dss, dim=\"year\")    \n",
    "    \n",
    "    # Filter if bounds are provided\n",
    "    if bounds is not None:\n",
    "        population = population.sel(\n",
    "            x=slice(bounds[0], bounds[2]), y=slice(bounds[3], bounds[1])\n",
    "        )\n",
    "        \n",
    "    # Clean band dimension\n",
    "    population = population.sel(band=1).drop_vars([\"band\"])\n",
    "    \n",
    "    print(\"Done!\")\n",
    "    return population\n",
    "\n",
    "def load_precipitation_data():\n",
    "    era5 = xr.open_dataset(\n",
    "        rf\"{DATA_OUT}\\ERA5_monthly_1970-2021_SPI-SPEI.nc\",\n",
    "        chunks={\"latitude\": 100, \"longitude\": 100},\n",
    "    )\n",
    "    era5 = era5.rename({\"latitude\": \"y\", \"longitude\": \"x\"})\n",
    "    return\n",
    "\n",
    "def load_WB_country_data(drop_adm2_na=False):\n",
    "    print(\"Loading World Bank country data...\")\n",
    "    WB_country = gpd.read_file(rf\"{DATA_RAW}\\world_bank_adm2.zip\")\n",
    "    \n",
    "    # Assign nan when ADM2 is not available \n",
    "    WB_country.loc[WB_country.ADM2_NAME == \"Administrative unit not available\", \"ADM2_CODE\"] = (\n",
    "        np.nan\n",
    "    )\n",
    "    \n",
    "    # Create ADM_LAST variable: ADM2_NAME if available, else ADM1_NAME\n",
    "    WB_country[\"ADMLAST_CODE\"] = WB_country.ADM2_CODE\n",
    "    WB_country[\"ADMLAST_NAME\"] = WB_country.ADM2_NAME\n",
    "    WB_country.loc[WB_country.ADM2_CODE.isnull(), \"ADMLAST_CODE\"] = WB_country.ADM1_CODE\n",
    "    WB_country.loc[ WB_country.ADM2_CODE.isnull(), \"ADMLAST_NAME\"] = WB_country.ADM1_NAME\n",
    "\n",
    "    # Dissolve by ADM_LAST and country code\n",
    "    WB_country = WB_country.dissolve(by=[\"ADMLAST_CODE\", \"ADMLAST_NAME\", \"ADM0_CODE\", \"ADM0_NAME\"]).reset_index()\n",
    "    \n",
    "    # Create ID\n",
    "    WB_country[\"ID\"] = WB_country.groupby([\"ADMLAST_CODE\", \"ADMLAST_NAME\", \"ADM0_CODE\", \"ADM0_NAME\"]).ngroup()\n",
    "    assert WB_country.ID.nunique() == WB_country.shape[0], \"ID is not unique!, there's some bug in the code...\"\n",
    "    print(\"Data loaded!\")\n",
    "    return WB_country\n",
    "\n",
    "\n",
    "def rasterize_shape_like_dataset(shape, dataset):\n",
    "    print(\"Rasterizing shape...\")\n",
    "    raster = make_geocube(\n",
    "        vector_data=shape,\n",
    "        like=dataset,\n",
    "    )\n",
    "    # For some reason, like option is not working, so I have to manually add x and y\n",
    "    assert (raster[\"x\"].shape == dataset[\"x\"].shape)\n",
    "    assert (raster[\"y\"].shape == dataset[\"y\"].shape)\n",
    "    raster[\"x\"] = dataset[\"x\"]\n",
    "    raster[\"y\"] = dataset[\"y\"]\n",
    "    raster = raster.drop_vars([\"spatial_ref\"])\n",
    "    raster = raster.chunk({\"x\": 100, \"y\": 100})\n",
    "    print(\"Done!\")\n",
    "    return raster\n",
    "\n",
    "def compute_zonal_stats(dataset, shape, value_var, groupby_var, gridded_groups=None, stats_funcs=[\"sum\"], delayed=True):\n",
    "    \n",
    "    # Rasterize shape\n",
    "    if gridded_groups is None:\n",
    "        gridded_groups = rasterize_shape_like_dataset(shape[[groupby_var, \"geometry\"]], dataset)\n",
    "\n",
    "    # Compute zonal stats  \n",
    "    assert gridded_groups.chunks is not None, \"Please, chunk the dataset before computing zonal stats! (e.g. dataset.chunk({'x': 100, 'y': 100})). Otherwise, you will get a MemoryError.\"\n",
    "    assert dataset.chunks is not None, \"Please, chunk the dataset before computing zonal stats! (e.g. dataset.chunk({'x': 100, 'y': 100})). Otherwise, you will get a MemoryError.\"\n",
    "\n",
    "    print(\"Setting up zonal stats...\")\n",
    "    pop_by_adm = xrspatial.zonal.stats(gridded_groups[groupby_var], dataset[value_var], stats_funcs=stats_funcs)\n",
    "    print(\"Done! Computing zonal stats...\")    \n",
    "    if delayed:\n",
    "        return pop_by_adm\n",
    "    \n",
    "    with ProgressBar():\n",
    "        pop_by_adm = pop_by_adm.compute()\n",
    "    \n",
    "    # Format zonal_stats dataframe\n",
    "    pop_by_adm = pop_by_adm.rename(columns={\n",
    "        \"sum\": value_var,\n",
    "        \"mean\": f\"{value_var}_mean\",\n",
    "        \"zone\": groupby_var,\n",
    "    })\n",
    "    \n",
    "    result = (\n",
    "        shape[[groupby_var, \"geometry\"]]\n",
    "        .merge(pop_by_adm, on=groupby_var)\n",
    "    )\n",
    "    return result \n",
    "\n",
    "def compute_zonal_stats_over_time(dataset, shape, value_var, groupby_var, population_data=None, gridded_groups=None, stats_funcs=[\"mean\"], delayed=True):\n",
    "    import warnings\n",
    "    warnings.filterwarnings(\"ignore\", category=RuntimeWarning)\n",
    "    \n",
    "    # Rasterize shape\n",
    "    if gridded_groups is None:\n",
    "        gridded_groups = rasterize_shape_like_dataset(shape[[groupby_var, \"geometry\"]], dataset)\n",
    "\n",
    "    # Compute zonal stats  \n",
    "    assert gridded_groups.chunks is not None, \"Please, chunk the dataset before computing zonal stats! (e.g. dataset.chunk({'x': 100, 'y': 100})). Otherwise, you will get a MemoryError.\"\n",
    "    assert dataset.chunks is not None, \"Please, chunk the dataset before computing zonal stats! (e.g. dataset.chunk({'x': 100, 'y': 100})). Otherwise, you will get a MemoryError.\"\n",
    "    assert \"year\" in dataset.dims, \"Please, add a 'year' dimension to the dataset before computing zonal stats! (e.g. dataset = dataset.assign_coords(year=dataset.time.dt.year)).\"\n",
    " \n",
    "    print(\"Setting up zonal stats...\")\n",
    "    tasks = []\n",
    "    for year in tqdm(dataset[\"year\"].values):\n",
    "        dataset_year = dataset.sel(year=year).drop_vars(\"year\")\n",
    "        if population_data is not None:\n",
    "            dataset_year = dataset_year * population_data.sel(year=year, method=\"nearest\").drop_vars(\"year\")\n",
    "        else:\n",
    "            dataset_year[value_var] = dataset_year[value_var].astype(\"float32\")\n",
    "\n",
    "        tasks += [xrspatial.zonal.stats(zones=gridded_groups[groupby_var], values=dataset_year[value_var], stats_funcs=stats_funcs)]\n",
    "    if delayed:\n",
    "        return tasks\n",
    "\n",
    "    print(\"Done! Computing zonal stats...\")        \n",
    "    with ProgressBar():\n",
    "        result = dask.compute(*tasks)\n",
    "        \n",
    "    return result \n",
    "\n",
    "def compile_zonal_stats_over_time(tasks_results, shape, groupby_var, value_var):\n",
    "    \n",
    "    # Compile results into a single df\n",
    "    out_dict = {year: data.set_index(\"zone\") for year, data in zip(range(1970,2021), tasks_results)}\n",
    "    df = pd.concat(out_dict)\n",
    "    df = df.reset_index()\n",
    "    df = df.rename(columns={\"level_0\":\"year\"})\n",
    "    \n",
    "    # Format zonal_stats dataframe\n",
    "    df = df.rename(columns={\n",
    "        \"sum\": value_var,\n",
    "        \"mean\": value_var,\n",
    "        \"zone\": groupby_var,\n",
    "    })\n",
    "    \n",
    "    result = (\n",
    "        shape[[groupby_var, \"geometry\"]]\n",
    "        .merge(df, on=groupby_var)\n",
    "    )\n",
    "    return result\n",
    "\n",
    "def process_era5_data():\n",
    "   \n",
    "    # Load ERA5 data\n",
    "    \n",
    "    # Create droughts dummies\n",
    "    \n",
    "    # Annualize series\n",
    "    \n",
    "    return"
   ]
  },
  {
   "cell_type": "markdown",
   "metadata": {},
   "source": [
    "# Procesa WB country Data (administrative boundaries) y GPW (population data)"
   ]
  },
  {
   "cell_type": "code",
   "execution_count": 3,
   "metadata": {},
   "outputs": [
    {
     "name": "stdout",
     "output_type": "stream",
     "text": [
      "Loading World Bank country data...\n",
      "Data loaded!\n",
      "Processing Population data...\n"
     ]
    },
    {
     "name": "stderr",
     "output_type": "stream",
     "text": [
      "  0%|          | 0/5 [00:00<?, ?it/s]c:\\Users\\ofici\\AppData\\Local\\Programs\\Python\\Python311\\Lib\\site-packages\\xarray\\backends\\plugins.py:80: RuntimeWarning: Engine 'cfgrib' loading failed:\n",
      "Cannot find the ecCodes library\n",
      "  warnings.warn(f\"Engine {name!r} loading failed:\\n{ex}\", RuntimeWarning)\n",
      "c:\\Users\\ofici\\AppData\\Local\\Programs\\Python\\Python311\\Lib\\site-packages\\xarray\\backends\\plugins.py:159: RuntimeWarning: 'ee' fails while guessing\n",
      "  warnings.warn(f\"{engine!r} fails while guessing\", RuntimeWarning)\n",
      " 20%|██        | 1/5 [00:02<00:11,  2.80s/it]c:\\Users\\ofici\\AppData\\Local\\Programs\\Python\\Python311\\Lib\\site-packages\\xarray\\backends\\plugins.py:159: RuntimeWarning: 'ee' fails while guessing\n",
      "  warnings.warn(f\"{engine!r} fails while guessing\", RuntimeWarning)\n",
      "c:\\Users\\ofici\\AppData\\Local\\Programs\\Python\\Python311\\Lib\\site-packages\\xarray\\backends\\plugins.py:159: RuntimeWarning: 'ee' fails while guessing\n",
      "  warnings.warn(f\"{engine!r} fails while guessing\", RuntimeWarning)\n",
      "c:\\Users\\ofici\\AppData\\Local\\Programs\\Python\\Python311\\Lib\\site-packages\\xarray\\backends\\plugins.py:159: RuntimeWarning: 'ee' fails while guessing\n",
      "  warnings.warn(f\"{engine!r} fails while guessing\", RuntimeWarning)\n",
      "c:\\Users\\ofici\\AppData\\Local\\Programs\\Python\\Python311\\Lib\\site-packages\\xarray\\backends\\plugins.py:159: RuntimeWarning: 'ee' fails while guessing\n",
      "  warnings.warn(f\"{engine!r} fails while guessing\", RuntimeWarning)\n",
      "100%|██████████| 5/5 [00:02<00:00,  1.67it/s]"
     ]
    },
    {
     "name": "stdout",
     "output_type": "stream",
     "text": [
      "Done!\n"
     ]
    },
    {
     "name": "stderr",
     "output_type": "stream",
     "text": [
      "\n"
     ]
    }
   ],
   "source": [
    "WB_country = load_WB_country_data()\n",
    "population = load_population_data(bounds=WB_country.total_bounds)"
   ]
  },
  {
   "cell_type": "code",
   "execution_count": null,
   "metadata": {},
   "outputs": [],
   "source": [
    "# Rasterize WB_country\n",
    "WB_country_grid = rasterize_shape_like_dataset(\n",
    "    WB_country[[\"ID\", \"geometry\"]], \n",
    "    population\n",
    ")\n",
    "\n",
    "WB_country_path = rf\"E:\\client_v2_data\\WB_country_grid.nc\"\n",
    "print(\"Saving WB_country_grid...\")\n",
    "with ProgressBar():\n",
    "    WB_country_grid.to_netcdf(WB_country_path)\n",
    "        \n",
    "WB_country[[\"ID\", \"OBJECTID\", \"ADM2_CODE\", \"ADM2_NAME\", \"ADM1_CODE\", \"ADM1_NAME\", \"ADM0_CODE\", \"ADM0_NAME\", \"ADMLAST_CODE\", \"ADMLAST_NAME\", \"geometry\"]].to_feather(rf\"E:\\client_v2_data\\WB_country_IDs.feather\")"
   ]
  },
  {
   "cell_type": "markdown",
   "metadata": {},
   "source": [
    "# GENERA Base de droughts, sin interpolar"
   ]
  },
  {
   "cell_type": "code",
   "execution_count": 4,
   "metadata": {},
   "outputs": [],
   "source": [
    "import utils\n",
    "droughts_path = rf\"{DATA_OUT}\\ERA5_droughts_yearly.nc\""
   ]
  },
  {
   "cell_type": "code",
   "execution_count": null,
   "metadata": {},
   "outputs": [],
   "source": [
    "# if not os.path.exists(droughts_path):\n",
    "print(\"Preparing droughts dataset...\")\n",
    "# Genera base de sequías\n",
    "era5 = xr.open_dataset(rf\"{DATA_OUT}\\ERA5_monthly_1970-2021_SPI-SPEI.nc\", chunks={'latitude': 1000, 'longitude': 1000})\n",
    "# Corrije la dimensión x, que va de 0 a 360\n",
    "era5 = era5.rename({'latitude': 'y', 'longitude': 'x'})\n",
    "era5 = utils.coordinates_from_0_360_to_180_180(era5) # FIXME: no se si esto está andando bien, pero creo que si. VERIFICAR\n",
    "\n",
    "# Calcula las sequías anuales\n",
    "spi_yearly = era5.groupby(\"time.year\").min()\n",
    "with ProgressBar():\n",
    "    spi_yearly.to_netcdf(rf\"E:\\client_v2_data\\ERA5_yearly_1970-2021_SPI-SPEI.nc\")"
   ]
  },
  {
   "cell_type": "code",
   "execution_count": 6,
   "metadata": {},
   "outputs": [
    {
     "name": "stderr",
     "output_type": "stream",
     "text": [
      "c:\\Users\\ofici\\AppData\\Local\\Programs\\Python\\Python311\\Lib\\site-packages\\xarray\\backends\\plugins.py:80: RuntimeWarning: Engine 'cfgrib' loading failed:\n",
      "Cannot find the ecCodes library\n",
      "  warnings.warn(f\"Engine {name!r} loading failed:\\n{ex}\", RuntimeWarning)\n"
     ]
    }
   ],
   "source": [
    "spi_yearly = xr.open_dataset(rf\"{DATA_PROC}\\ERA5_yearly_1970-2021_SPI-SPEI.nc\", chunks={\"x\": 900, \"y\": 1800})\n",
    "\n",
    "spi_spei_vars = [var for var in spi_yearly.data_vars if \"-\" in var]\n",
    "for var in spi_spei_vars:\n",
    "    for threshold_str in [\"1_0\", \"1_5\", \"2_0\", \"2_5\"]:\n",
    "        threshold = float(threshold_str.replace(\"_\", \".\"))\n",
    "        threshold_str = threshold_str.replace(\"_\", \"\")\n",
    "        spi_yearly[f\"drought_{var}_{threshold_str}sd\"] = (spi_yearly[var] < -threshold).astype(\"bool\")\n",
    "\n",
    "spi_yearly = spi_yearly[[var for var in spi_yearly.data_vars if \"drought\" in var]]\n",
    "spi_yearly = spi_yearly.rename({\n",
    "    var: var.replace(\"drought_\", \"\").replace(\"-\", \"\") for var in spi_yearly.data_vars\n",
    "})\n",
    "with ProgressBar():\n",
    "    spi_yearly.to_netcdf(droughts_path)"
   ]
  },
  {
   "cell_type": "markdown",
   "metadata": {},
   "source": [
    "# Huracanes"
   ]
  },
  {
   "cell_type": "code",
   "execution_count": 42,
   "metadata": {},
   "outputs": [
    {
     "data": {
      "text/plain": [
       "{'USA': 1,\n",
       " 'TOK': 1.081340104849279,\n",
       " 'CMA': 1.0574618096357227,\n",
       " 'HKO': 1.1326145552560645,\n",
       " 'KMA': 1.1326145552560645,\n",
       " 'NEW': 1.081340104849279,\n",
       " 'REU': 1.1326145552560645,\n",
       " 'BOM': 1.1326145552560645,\n",
       " 'NAD': 1.1326145552560645,\n",
       " 'WEL': 1.1326145552560645,\n",
       " 'DS8': 1,\n",
       " 'TD6': 1,\n",
       " 'TD5': 1,\n",
       " 'NEU': 1,\n",
       " 'MLC': 1}"
      ]
     },
     "execution_count": 42,
     "metadata": {},
     "output_type": "execute_result"
    }
   ],
   "source": []
  },
  {
   "cell_type": "code",
   "execution_count": 43,
   "metadata": {},
   "outputs": [],
   "source": [
    "## FIXED Parameters\n",
    "sshws_min_wind = {\n",
    "    # Saffir-Simpson Hurricane Wind Scale\n",
    "    # Measured in knots\n",
    "    # https://www.nhc.noaa.gov/aboutsshws.php\n",
    "    5: 137,\n",
    "    4: 113,\n",
    "    3: 96,\n",
    "    2: 83,\n",
    "    1: 64,\n",
    "}\n",
    "\n",
    "agency_measurements = {\n",
    "    \"USA\": 1, # 1-m measurement\n",
    "    \"TOK\": 3, # 3-m measurement\n",
    "    \"CMA\": 2, # 2-m measurement\n",
    "    \"HKO\": 10, # 10-m measurement\n",
    "    \"KMA\": 10,\n",
    "    \"NEW\": 3,\n",
    "    \"REU\": 10,\n",
    "    \"BOM\": 10,\n",
    "    \"NAD\": 10,\n",
    "    \"WEL\": 10,\n",
    "    \"DS8\": 1,\n",
    "    \"TD6\": 1,\n",
    "    \"TD5\": 1,\n",
    "    \"NEU\": 1,\n",
    "    \"MLC\": 1,\n",
    "}\n",
    "\n",
    "conversion_factor_to_1m = {\n",
    "    1: 1,\n",
    "    2: (1.22/1.15+1.17/1.11)/2,\n",
    "    3: (1.22/1.12+1.17/1.09)/2,\n",
    "    10: (1.22/1.06+1.17/1.05)/2,\n",
    "}\n",
    "\n",
    "agency_1m_conversion_factor = {\n",
    "    k:conversion_factor_to_1m[v] for k, v in agency_measurements.items()\n",
    "}\n",
    "\n",
    "## Functions\n",
    "def convert_wind_to_1m(wind, agency):\n",
    "    if agency in agency_1m_conversion_factor:\n",
    "        return wind * agency_1m_conversion_factor[agency]\n",
    "    return wind\n",
    "\n",
    "def convert_wind_to_sshws(wind):\n",
    "    for cat, min_wind in sshws_min_wind.items():\n",
    "        if wind >= min_wind:\n",
    "            return cat\n",
    "    return 0\n",
    "\n"
   ]
  },
  {
   "cell_type": "code",
   "execution_count": 48,
   "metadata": {},
   "outputs": [
    {
     "data": {
      "text/plain": [
       "'USA'"
      ]
     },
     "execution_count": 48,
     "metadata": {},
     "output_type": "execute_result"
    }
   ],
   "source": [
    "col = wind_cols[0]\n",
    "agency = col.split(\"_\")[0]\n",
    "agency"
   ]
  },
  {
   "cell_type": "code",
   "execution_count": 56,
   "metadata": {},
   "outputs": [
    {
     "ename": "KeyboardInterrupt",
     "evalue": "",
     "output_type": "error",
     "traceback": [
      "\u001b[1;31m---------------------------------------------------------------------------\u001b[0m",
      "\u001b[1;31mKeyboardInterrupt\u001b[0m                         Traceback (most recent call last)",
      "Cell \u001b[1;32mIn[56], line 3\u001b[0m\n\u001b[0;32m      1\u001b[0m \u001b[38;5;28;01mimport\u001b[39;00m \u001b[38;5;21;01mgeopandas\u001b[39;00m \u001b[38;5;28;01mas\u001b[39;00m \u001b[38;5;21;01mgpd\u001b[39;00m\n\u001b[1;32m----> 3\u001b[0m gdf \u001b[38;5;241m=\u001b[39m \u001b[43mgpd\u001b[49m\u001b[38;5;241;43m.\u001b[39;49m\u001b[43mread_file\u001b[49m\u001b[43m(\u001b[49m\u001b[38;5;124;43mr\u001b[39;49m\u001b[38;5;124;43m\"\u001b[39;49m\u001b[38;5;124;43mD:\u001b[39;49m\u001b[38;5;124;43m\\\u001b[39;49m\u001b[38;5;124;43mDatasets\u001b[39;49m\u001b[38;5;124;43m\\\u001b[39;49m\u001b[38;5;124;43mInternational Best Track Archive for Climate Stewardship (IBTrACS)\u001b[39;49m\u001b[38;5;124;43m\\\u001b[39;49m\u001b[38;5;124;43mIBTrACS.ALL.list.v04r01.lines.shp\u001b[39;49m\u001b[38;5;124;43m\"\u001b[39;49m\u001b[43m)\u001b[49m\u001b[38;5;66;03m#, \"BASIN\", \"SUBBASIN\", \"NAME\", \"ISO_TIME\", \"LAT\", \"LON\", \"WMO_WIND\", \"WMO_PRES\", \"WMO_AGENCY\", \"TRACK_TYPE\"])\u001b[39;00m\n\u001b[0;32m      5\u001b[0m \u001b[38;5;66;03m# Fill interpolated xy values\u001b[39;00m\n\u001b[0;32m      6\u001b[0m gdf[\u001b[38;5;124m\"\u001b[39m\u001b[38;5;124mWMO_WIND\u001b[39m\u001b[38;5;124m\"\u001b[39m] \u001b[38;5;241m=\u001b[39m gdf[\u001b[38;5;124m\"\u001b[39m\u001b[38;5;124mWMO_WIND\u001b[39m\u001b[38;5;124m\"\u001b[39m]\u001b[38;5;241m.\u001b[39mffill()\n",
      "File \u001b[1;32mc:\\Users\\ofici\\AppData\\Local\\Programs\\Python\\Python311\\Lib\\site-packages\\geopandas\\io\\file.py:289\u001b[0m, in \u001b[0;36m_read_file\u001b[1;34m(filename, bbox, mask, rows, engine, **kwargs)\u001b[0m\n\u001b[0;32m    286\u001b[0m     \u001b[38;5;28;01melse\u001b[39;00m:\n\u001b[0;32m    287\u001b[0m         path_or_bytes \u001b[38;5;241m=\u001b[39m filename\n\u001b[1;32m--> 289\u001b[0m     \u001b[38;5;28;01mreturn\u001b[39;00m \u001b[43m_read_file_fiona\u001b[49m\u001b[43m(\u001b[49m\n\u001b[0;32m    290\u001b[0m \u001b[43m        \u001b[49m\u001b[43mpath_or_bytes\u001b[49m\u001b[43m,\u001b[49m\u001b[43m \u001b[49m\u001b[43mfrom_bytes\u001b[49m\u001b[43m,\u001b[49m\u001b[43m \u001b[49m\u001b[43mbbox\u001b[49m\u001b[38;5;241;43m=\u001b[39;49m\u001b[43mbbox\u001b[49m\u001b[43m,\u001b[49m\u001b[43m \u001b[49m\u001b[43mmask\u001b[49m\u001b[38;5;241;43m=\u001b[39;49m\u001b[43mmask\u001b[49m\u001b[43m,\u001b[49m\u001b[43m \u001b[49m\u001b[43mrows\u001b[49m\u001b[38;5;241;43m=\u001b[39;49m\u001b[43mrows\u001b[49m\u001b[43m,\u001b[49m\u001b[43m \u001b[49m\u001b[38;5;241;43m*\u001b[39;49m\u001b[38;5;241;43m*\u001b[39;49m\u001b[43mkwargs\u001b[49m\n\u001b[0;32m    291\u001b[0m \u001b[43m    \u001b[49m\u001b[43m)\u001b[49m\n\u001b[0;32m    293\u001b[0m \u001b[38;5;28;01melse\u001b[39;00m:\n\u001b[0;32m    294\u001b[0m     \u001b[38;5;28;01mraise\u001b[39;00m \u001b[38;5;167;01mValueError\u001b[39;00m(\u001b[38;5;124mf\u001b[39m\u001b[38;5;124m\"\u001b[39m\u001b[38;5;124munknown engine \u001b[39m\u001b[38;5;124m'\u001b[39m\u001b[38;5;132;01m{\u001b[39;00mengine\u001b[38;5;132;01m}\u001b[39;00m\u001b[38;5;124m'\u001b[39m\u001b[38;5;124m\"\u001b[39m)\n",
      "File \u001b[1;32mc:\\Users\\ofici\\AppData\\Local\\Programs\\Python\\Python311\\Lib\\site-packages\\geopandas\\io\\file.py:372\u001b[0m, in \u001b[0;36m_read_file_fiona\u001b[1;34m(path_or_bytes, from_bytes, bbox, mask, rows, where, **kwargs)\u001b[0m\n\u001b[0;32m    368\u001b[0m     df \u001b[38;5;241m=\u001b[39m pd\u001b[38;5;241m.\u001b[39mDataFrame(\n\u001b[0;32m    369\u001b[0m         [record[\u001b[38;5;124m\"\u001b[39m\u001b[38;5;124mproperties\u001b[39m\u001b[38;5;124m\"\u001b[39m] \u001b[38;5;28;01mfor\u001b[39;00m record \u001b[38;5;129;01min\u001b[39;00m f_filt], columns\u001b[38;5;241m=\u001b[39mcolumns\n\u001b[0;32m    370\u001b[0m     )\n\u001b[0;32m    371\u001b[0m \u001b[38;5;28;01melse\u001b[39;00m:\n\u001b[1;32m--> 372\u001b[0m     df \u001b[38;5;241m=\u001b[39m \u001b[43mGeoDataFrame\u001b[49m\u001b[38;5;241;43m.\u001b[39;49m\u001b[43mfrom_features\u001b[49m\u001b[43m(\u001b[49m\n\u001b[0;32m    373\u001b[0m \u001b[43m        \u001b[49m\u001b[43mf_filt\u001b[49m\u001b[43m,\u001b[49m\u001b[43m \u001b[49m\u001b[43mcrs\u001b[49m\u001b[38;5;241;43m=\u001b[39;49m\u001b[43mcrs\u001b[49m\u001b[43m,\u001b[49m\u001b[43m \u001b[49m\u001b[43mcolumns\u001b[49m\u001b[38;5;241;43m=\u001b[39;49m\u001b[43mcolumns\u001b[49m\u001b[43m \u001b[49m\u001b[38;5;241;43m+\u001b[39;49m\u001b[43m \u001b[49m\u001b[43m[\u001b[49m\u001b[38;5;124;43m\"\u001b[39;49m\u001b[38;5;124;43mgeometry\u001b[39;49m\u001b[38;5;124;43m\"\u001b[39;49m\u001b[43m]\u001b[49m\n\u001b[0;32m    374\u001b[0m \u001b[43m    \u001b[49m\u001b[43m)\u001b[49m\n\u001b[0;32m    375\u001b[0m \u001b[38;5;28;01mfor\u001b[39;00m k \u001b[38;5;129;01min\u001b[39;00m datetime_fields:\n\u001b[0;32m    376\u001b[0m     as_dt \u001b[38;5;241m=\u001b[39m \u001b[38;5;28;01mNone\u001b[39;00m\n",
      "File \u001b[1;32mc:\\Users\\ofici\\AppData\\Local\\Programs\\Python\\Python311\\Lib\\site-packages\\geopandas\\geodataframe.py:644\u001b[0m, in \u001b[0;36mGeoDataFrame.from_features\u001b[1;34m(cls, features, crs, columns)\u001b[0m\n\u001b[0;32m    641\u001b[0m \u001b[38;5;28;01mif\u001b[39;00m \u001b[38;5;28mhasattr\u001b[39m(feature, \u001b[38;5;124m\"\u001b[39m\u001b[38;5;124m__geo_interface__\u001b[39m\u001b[38;5;124m\"\u001b[39m):\n\u001b[0;32m    642\u001b[0m     feature \u001b[38;5;241m=\u001b[39m feature\u001b[38;5;241m.\u001b[39m__geo_interface__\n\u001b[0;32m    643\u001b[0m row \u001b[38;5;241m=\u001b[39m {\n\u001b[1;32m--> 644\u001b[0m     \u001b[38;5;124m\"\u001b[39m\u001b[38;5;124mgeometry\u001b[39m\u001b[38;5;124m\"\u001b[39m: \u001b[43mshape\u001b[49m\u001b[43m(\u001b[49m\u001b[43mfeature\u001b[49m\u001b[43m[\u001b[49m\u001b[38;5;124;43m\"\u001b[39;49m\u001b[38;5;124;43mgeometry\u001b[39;49m\u001b[38;5;124;43m\"\u001b[39;49m\u001b[43m]\u001b[49m\u001b[43m)\u001b[49m \u001b[38;5;28;01mif\u001b[39;00m feature[\u001b[38;5;124m\"\u001b[39m\u001b[38;5;124mgeometry\u001b[39m\u001b[38;5;124m\"\u001b[39m] \u001b[38;5;28;01melse\u001b[39;00m \u001b[38;5;28;01mNone\u001b[39;00m\n\u001b[0;32m    645\u001b[0m }\n\u001b[0;32m    646\u001b[0m \u001b[38;5;66;03m# load properties\u001b[39;00m\n\u001b[0;32m    647\u001b[0m properties \u001b[38;5;241m=\u001b[39m feature[\u001b[38;5;124m\"\u001b[39m\u001b[38;5;124mproperties\u001b[39m\u001b[38;5;124m\"\u001b[39m]\n",
      "File \u001b[1;32mc:\\Users\\ofici\\AppData\\Local\\Programs\\Python\\Python311\\Lib\\site-packages\\shapely\\geometry\\geo.py:98\u001b[0m, in \u001b[0;36mshape\u001b[1;34m(context)\u001b[0m\n\u001b[0;32m     96\u001b[0m     \u001b[38;5;28;01mreturn\u001b[39;00m Point(ob[\u001b[38;5;124m\"\u001b[39m\u001b[38;5;124mcoordinates\u001b[39m\u001b[38;5;124m\"\u001b[39m])\n\u001b[0;32m     97\u001b[0m \u001b[38;5;28;01melif\u001b[39;00m geom_type \u001b[38;5;241m==\u001b[39m \u001b[38;5;124m\"\u001b[39m\u001b[38;5;124mlinestring\u001b[39m\u001b[38;5;124m\"\u001b[39m:\n\u001b[1;32m---> 98\u001b[0m     \u001b[38;5;28;01mreturn\u001b[39;00m \u001b[43mLineString\u001b[49m\u001b[43m(\u001b[49m\u001b[43mob\u001b[49m\u001b[43m[\u001b[49m\u001b[38;5;124;43m\"\u001b[39;49m\u001b[38;5;124;43mcoordinates\u001b[39;49m\u001b[38;5;124;43m\"\u001b[39;49m\u001b[43m]\u001b[49m\u001b[43m)\u001b[49m\n\u001b[0;32m     99\u001b[0m \u001b[38;5;28;01melif\u001b[39;00m geom_type \u001b[38;5;241m==\u001b[39m \u001b[38;5;124m\"\u001b[39m\u001b[38;5;124mlinearring\u001b[39m\u001b[38;5;124m\"\u001b[39m:\n\u001b[0;32m    100\u001b[0m     \u001b[38;5;28;01mreturn\u001b[39;00m LinearRing(ob[\u001b[38;5;124m\"\u001b[39m\u001b[38;5;124mcoordinates\u001b[39m\u001b[38;5;124m\"\u001b[39m])\n",
      "File \u001b[1;32mc:\\Users\\ofici\\AppData\\Local\\Programs\\Python\\Python311\\Lib\\site-packages\\shapely\\geometry\\linestring.py:73\u001b[0m, in \u001b[0;36mLineString.__new__\u001b[1;34m(self, coordinates)\u001b[0m\n\u001b[0;32m     68\u001b[0m \u001b[38;5;28;01mif\u001b[39;00m \u001b[38;5;28mlen\u001b[39m(coordinates) \u001b[38;5;241m==\u001b[39m \u001b[38;5;241m0\u001b[39m:\n\u001b[0;32m     69\u001b[0m     \u001b[38;5;66;03m# empty geometry\u001b[39;00m\n\u001b[0;32m     70\u001b[0m     \u001b[38;5;66;03m# TODO better constructor + should shapely.linestrings handle this?\u001b[39;00m\n\u001b[0;32m     71\u001b[0m     \u001b[38;5;28;01mreturn\u001b[39;00m shapely\u001b[38;5;241m.\u001b[39mfrom_wkt(\u001b[38;5;124m\"\u001b[39m\u001b[38;5;124mLINESTRING EMPTY\u001b[39m\u001b[38;5;124m\"\u001b[39m)\n\u001b[1;32m---> 73\u001b[0m geom \u001b[38;5;241m=\u001b[39m \u001b[43mshapely\u001b[49m\u001b[38;5;241;43m.\u001b[39;49m\u001b[43mlinestrings\u001b[49m\u001b[43m(\u001b[49m\u001b[43mcoordinates\u001b[49m\u001b[43m)\u001b[49m\n\u001b[0;32m     74\u001b[0m \u001b[38;5;28;01mif\u001b[39;00m \u001b[38;5;129;01mnot\u001b[39;00m \u001b[38;5;28misinstance\u001b[39m(geom, LineString):\n\u001b[0;32m     75\u001b[0m     \u001b[38;5;28;01mraise\u001b[39;00m \u001b[38;5;167;01mValueError\u001b[39;00m(\u001b[38;5;124m\"\u001b[39m\u001b[38;5;124mInvalid values passed to LineString constructor\u001b[39m\u001b[38;5;124m\"\u001b[39m)\n",
      "File \u001b[1;32mc:\\Users\\ofici\\AppData\\Local\\Programs\\Python\\Python311\\Lib\\site-packages\\shapely\\decorators.py:77\u001b[0m, in \u001b[0;36mmultithreading_enabled.<locals>.wrapped\u001b[1;34m(*args, **kwargs)\u001b[0m\n\u001b[0;32m     75\u001b[0m     \u001b[38;5;28;01mfor\u001b[39;00m arr \u001b[38;5;129;01min\u001b[39;00m array_args:\n\u001b[0;32m     76\u001b[0m         arr\u001b[38;5;241m.\u001b[39mflags\u001b[38;5;241m.\u001b[39mwriteable \u001b[38;5;241m=\u001b[39m \u001b[38;5;28;01mFalse\u001b[39;00m\n\u001b[1;32m---> 77\u001b[0m     \u001b[38;5;28;01mreturn\u001b[39;00m \u001b[43mfunc\u001b[49m\u001b[43m(\u001b[49m\u001b[38;5;241;43m*\u001b[39;49m\u001b[43margs\u001b[49m\u001b[43m,\u001b[49m\u001b[43m \u001b[49m\u001b[38;5;241;43m*\u001b[39;49m\u001b[38;5;241;43m*\u001b[39;49m\u001b[43mkwargs\u001b[49m\u001b[43m)\u001b[49m\n\u001b[0;32m     78\u001b[0m \u001b[38;5;28;01mfinally\u001b[39;00m:\n\u001b[0;32m     79\u001b[0m     \u001b[38;5;28;01mfor\u001b[39;00m arr, old_flag \u001b[38;5;129;01min\u001b[39;00m \u001b[38;5;28mzip\u001b[39m(array_args, old_flags):\n",
      "File \u001b[1;32mc:\\Users\\ofici\\AppData\\Local\\Programs\\Python\\Python311\\Lib\\site-packages\\shapely\\creation.py:120\u001b[0m, in \u001b[0;36mlinestrings\u001b[1;34m(coords, y, z, indices, out, **kwargs)\u001b[0m\n\u001b[0;32m    118\u001b[0m coords \u001b[38;5;241m=\u001b[39m _xyz_to_coords(coords, y, z)\n\u001b[0;32m    119\u001b[0m \u001b[38;5;28;01mif\u001b[39;00m indices \u001b[38;5;129;01mis\u001b[39;00m \u001b[38;5;28;01mNone\u001b[39;00m:\n\u001b[1;32m--> 120\u001b[0m     \u001b[38;5;28;01mreturn\u001b[39;00m \u001b[43mlib\u001b[49m\u001b[38;5;241;43m.\u001b[39;49m\u001b[43mlinestrings\u001b[49m\u001b[43m(\u001b[49m\u001b[43mcoords\u001b[49m\u001b[43m,\u001b[49m\u001b[43m \u001b[49m\u001b[43mout\u001b[49m\u001b[38;5;241;43m=\u001b[39;49m\u001b[43mout\u001b[49m\u001b[43m,\u001b[49m\u001b[43m \u001b[49m\u001b[38;5;241;43m*\u001b[39;49m\u001b[38;5;241;43m*\u001b[39;49m\u001b[43mkwargs\u001b[49m\u001b[43m)\u001b[49m\n\u001b[0;32m    121\u001b[0m \u001b[38;5;28;01melse\u001b[39;00m:\n\u001b[0;32m    122\u001b[0m     \u001b[38;5;28;01mreturn\u001b[39;00m simple_geometries_1d(coords, indices, GeometryType\u001b[38;5;241m.\u001b[39mLINESTRING, out\u001b[38;5;241m=\u001b[39mout)\n",
      "\u001b[1;31mKeyboardInterrupt\u001b[0m: "
     ]
    }
   ],
   "source": [
    "import geopandas as gpd\n",
    "\n",
    "gdf = gpd.read_file(r\"D:\\Datasets\\International Best Track Archive for Climate Stewardship (IBTrACS)\\IBTrACS.ALL.list.v04r01.lines.shp\")#, \"BASIN\", \"SUBBASIN\", \"NAME\", \"ISO_TIME\", \"LAT\", \"LON\", \"WMO_WIND\", \"WMO_PRES\", \"WMO_AGENCY\", \"TRACK_TYPE\"])\n",
    "\n",
    "# Fill interpolated xy values\n",
    "gdf[\"WMO_WIND\"] = gdf[\"WMO_WIND\"].ffill()\n",
    "\n",
    "# Data from 1950 onwards\n",
    "gdf[\"year\"] = gdf[\"SEASON\"].astype(int)\n",
    "gdf = gdf[gdf[\"year\"] >= 1970]\n",
    "\n",
    "# Convert each Agency wind to 1m-MSW\n",
    "wind_cols = [col for col in gdf.columns if \"_WIND\" in col and \"WMO_WIND\" not in col]\n",
    "agencies = [col.replace(\"_WIND\", \"\") for col in wind_cols]\n",
    "\n",
    "for col in tqdm(wind_cols):\n",
    "    agency = col.split(\"_\")[0]\n",
    "    gdf[col] = gdf[col].apply(lambda x: convert_wind_to_1m(x, agency))\n",
    "\n",
    "gdf[\"wind_speed\"] = gdf[wind_cols].max(axis=1)\n",
    "\n",
    "# Convert wind to SSHWS category\n",
    "gdf[\"category\"] = gdf[\"wind_speed\"].apply(convert_wind_to_sshws)"
   ]
  },
  {
   "cell_type": "code",
   "execution_count": 57,
   "metadata": {},
   "outputs": [
    {
     "data": {
      "text/plain": [
       "category\n",
       "0    3262\n",
       "1     913\n",
       "4     658\n",
       "3     456\n",
       "2     441\n",
       "5     243\n",
       "Name: count, dtype: int64"
      ]
     },
     "execution_count": 57,
     "metadata": {},
     "output_type": "execute_result"
    }
   ],
   "source": [
    "gdf.groupby(\"SID\")[\"category\"].max().value_counts() \n"
   ]
  },
  {
   "cell_type": "code",
   "execution_count": 55,
   "metadata": {},
   "outputs": [
    {
     "data": {
      "text/plain": [
       "334678    0\n",
       "334679    0\n",
       "334680    0\n",
       "334681    0\n",
       "334682    0\n",
       "         ..\n",
       "698802    3\n",
       "698803    4\n",
       "698804    4\n",
       "698805    4\n",
       "698806    4\n",
       "Name: category, Length: 361476, dtype: int64"
      ]
     },
     "execution_count": 55,
     "metadata": {},
     "output_type": "execute_result"
    }
   ],
   "source": [
    "gdf[\"category\"]"
   ]
  },
  {
   "cell_type": "code",
   "execution_count": 6,
   "metadata": {},
   "outputs": [
    {
     "name": "stderr",
     "output_type": "stream",
     "text": [
      "                                                  \r"
     ]
    },
    {
     "ename": "KeyboardInterrupt",
     "evalue": "",
     "output_type": "error",
     "traceback": [
      "\u001b[1;31m---------------------------------------------------------------------------\u001b[0m",
      "\u001b[1;31mKeyboardInterrupt\u001b[0m                         Traceback (most recent call last)",
      "Cell \u001b[1;32mIn[6], line 22\u001b[0m\n\u001b[0;32m     20\u001b[0m \u001b[38;5;66;03m# Make the biggest shock at a certain location the one shown in the xr.dataset \u001b[39;00m\n\u001b[0;32m     21\u001b[0m gdf_year \u001b[38;5;241m=\u001b[39m gdf_year\u001b[38;5;241m.\u001b[39msort_values(\u001b[38;5;124m\"\u001b[39m\u001b[38;5;124mwind_speed\u001b[39m\u001b[38;5;124m\"\u001b[39m, ascending\u001b[38;5;241m=\u001b[39m\u001b[38;5;28;01mTrue\u001b[39;00m)\n\u001b[1;32m---> 22\u001b[0m raster \u001b[38;5;241m=\u001b[39m \u001b[43mmake_geocube\u001b[49m\u001b[43m(\u001b[49m\n\u001b[0;32m     23\u001b[0m \u001b[43m    \u001b[49m\u001b[43mvector_data\u001b[49m\u001b[38;5;241;43m=\u001b[39;49m\u001b[43mgdf_year\u001b[49m\u001b[43m,\u001b[49m\n\u001b[0;32m     24\u001b[0m \u001b[43m    \u001b[49m\u001b[43mlike\u001b[49m\u001b[38;5;241;43m=\u001b[39;49m\u001b[43mpopulation\u001b[49m\u001b[43m,\u001b[49m\n\u001b[0;32m     25\u001b[0m \u001b[43m\u001b[49m\u001b[43m)\u001b[49m\n\u001b[0;32m     26\u001b[0m raster \u001b[38;5;241m=\u001b[39m raster\u001b[38;5;241m.\u001b[39massign_coords({\u001b[38;5;124m\"\u001b[39m\u001b[38;5;124myear\u001b[39m\u001b[38;5;124m\"\u001b[39m: year})\n\u001b[0;32m     28\u001b[0m \u001b[38;5;28;01mfor\u001b[39;00m category \u001b[38;5;129;01min\u001b[39;00m [\u001b[38;5;241m1\u001b[39m, \u001b[38;5;241m2\u001b[39m, \u001b[38;5;241m3\u001b[39m, \u001b[38;5;241m4\u001b[39m, \u001b[38;5;241m5\u001b[39m]:\n\u001b[0;32m     29\u001b[0m     \u001b[38;5;66;03m### Once the raster wind_speed is created, create a new boolean raster \u001b[39;00m\n\u001b[0;32m     30\u001b[0m     \u001b[38;5;66;03m###     where the winds are greater than the minimum for the category\u001b[39;00m\n",
      "File \u001b[1;32mc:\\Users\\ofici\\AppData\\Local\\Programs\\Python\\Python311\\Lib\\site-packages\\geocube\\api\\core.py:107\u001b[0m, in \u001b[0;36mmake_geocube\u001b[1;34m(vector_data, measurements, datetime_measurements, output_crs, resolution, align, geom, like, fill, group_by, interpolate_na_method, categorical_enums, rasterize_function)\u001b[0m\n\u001b[0;32m     35\u001b[0m \u001b[38;5;250m\u001b[39m\u001b[38;5;124;03m\"\"\"\u001b[39;00m\n\u001b[0;32m     36\u001b[0m \u001b[38;5;124;03mRasterize vector data into an ``xarray`` object.  Each attribute will be a data\u001b[39;00m\n\u001b[0;32m     37\u001b[0m \u001b[38;5;124;03mvariable in the :class:`xarray.Dataset`.\u001b[39;00m\n\u001b[1;32m   (...)\u001b[0m\n\u001b[0;32m     95\u001b[0m \n\u001b[0;32m     96\u001b[0m \u001b[38;5;124;03m\"\"\"\u001b[39;00m\n\u001b[0;32m     97\u001b[0m geobox_maker \u001b[38;5;241m=\u001b[39m GeoBoxMaker(output_crs, resolution, align, geom, like)\n\u001b[0;32m     99\u001b[0m \u001b[38;5;28;01mreturn\u001b[39;00m \u001b[43mVectorToCube\u001b[49m\u001b[43m(\u001b[49m\n\u001b[0;32m    100\u001b[0m \u001b[43m    \u001b[49m\u001b[43mvector_data\u001b[49m\u001b[38;5;241;43m=\u001b[39;49m\u001b[43mvector_data\u001b[49m\u001b[43m,\u001b[49m\n\u001b[0;32m    101\u001b[0m \u001b[43m    \u001b[49m\u001b[43mgeobox_maker\u001b[49m\u001b[38;5;241;43m=\u001b[39;49m\u001b[43mgeobox_maker\u001b[49m\u001b[43m,\u001b[49m\n\u001b[0;32m    102\u001b[0m \u001b[43m    \u001b[49m\u001b[43mfill\u001b[49m\u001b[38;5;241;43m=\u001b[39;49m\u001b[43mfill\u001b[49m\u001b[43m,\u001b[49m\n\u001b[0;32m    103\u001b[0m \u001b[43m    \u001b[49m\u001b[43mcategorical_enums\u001b[49m\u001b[38;5;241;43m=\u001b[39;49m\u001b[43mcategorical_enums\u001b[49m\u001b[43m,\u001b[49m\n\u001b[0;32m    104\u001b[0m \u001b[43m    \u001b[49m\u001b[43mmeasurements\u001b[49m\u001b[38;5;241;43m=\u001b[39;49m\u001b[43mmeasurements\u001b[49m\u001b[43m,\u001b[49m\n\u001b[0;32m    105\u001b[0m \u001b[43m    \u001b[49m\u001b[43mgroup_by\u001b[49m\u001b[38;5;241;43m=\u001b[39;49m\u001b[43mgroup_by\u001b[49m\u001b[43m,\u001b[49m\n\u001b[0;32m    106\u001b[0m \u001b[43m    \u001b[49m\u001b[43mdatetime_measurements\u001b[49m\u001b[38;5;241;43m=\u001b[39;49m\u001b[43mdatetime_measurements\u001b[49m\u001b[43m,\u001b[49m\n\u001b[1;32m--> 107\u001b[0m \u001b[43m\u001b[49m\u001b[43m)\u001b[49m\u001b[38;5;241;43m.\u001b[39;49m\u001b[43mmake_geocube\u001b[49m\u001b[43m(\u001b[49m\n\u001b[0;32m    108\u001b[0m \u001b[43m    \u001b[49m\u001b[43minterpolate_na_method\u001b[49m\u001b[38;5;241;43m=\u001b[39;49m\u001b[43minterpolate_na_method\u001b[49m\u001b[43m,\u001b[49m\n\u001b[0;32m    109\u001b[0m \u001b[43m    \u001b[49m\u001b[43mrasterize_function\u001b[49m\u001b[38;5;241;43m=\u001b[39;49m\u001b[43mrasterize_function\u001b[49m\u001b[43m,\u001b[49m\n\u001b[0;32m    110\u001b[0m \u001b[43m\u001b[49m\u001b[43m)\u001b[49m\n",
      "File \u001b[1;32mc:\\Users\\ofici\\AppData\\Local\\Programs\\Python\\Python311\\Lib\\site-packages\\geocube\\vector_to_cube.py:190\u001b[0m, in \u001b[0;36mVectorToCube.make_geocube\u001b[1;34m(self, interpolate_na_method, rasterize_function)\u001b[0m\n\u001b[0;32m    165\u001b[0m \u001b[38;5;250m\u001b[39m\u001b[38;5;124;03m\"\"\"\u001b[39;00m\n\u001b[0;32m    166\u001b[0m \u001b[38;5;124;03mRasterize vector data into an ``xarray`` object.  Each measurement will be a\u001b[39;00m\n\u001b[0;32m    167\u001b[0m \u001b[38;5;124;03mdata variable in the :class:`xarray.Dataset`.\u001b[39;00m\n\u001b[1;32m   (...)\u001b[0m\n\u001b[0;32m    185\u001b[0m \n\u001b[0;32m    186\u001b[0m \u001b[38;5;124;03m\"\"\"\u001b[39;00m\n\u001b[0;32m    187\u001b[0m \u001b[38;5;28mself\u001b[39m\u001b[38;5;241m.\u001b[39m_rasterize_function \u001b[38;5;241m=\u001b[39m (\n\u001b[0;32m    188\u001b[0m     rasterize_image \u001b[38;5;28;01mif\u001b[39;00m rasterize_function \u001b[38;5;129;01mis\u001b[39;00m \u001b[38;5;28;01mNone\u001b[39;00m \u001b[38;5;28;01melse\u001b[39;00m rasterize_function  \u001b[38;5;66;03m# type: ignore\u001b[39;00m\n\u001b[0;32m    189\u001b[0m )\n\u001b[1;32m--> 190\u001b[0m \u001b[38;5;28;01mreturn\u001b[39;00m \u001b[38;5;28;43mself\u001b[39;49m\u001b[38;5;241;43m.\u001b[39;49m\u001b[43m_get_dataset\u001b[49m\u001b[43m(\u001b[49m\n\u001b[0;32m    191\u001b[0m \u001b[43m    \u001b[49m\u001b[43minterpolate_na_method\u001b[49m\u001b[38;5;241;43m=\u001b[39;49m\u001b[43minterpolate_na_method\u001b[49m\u001b[43m,\u001b[49m\n\u001b[0;32m    192\u001b[0m \u001b[43m\u001b[49m\u001b[43m)\u001b[49m\n",
      "File \u001b[1;32mc:\\Users\\ofici\\AppData\\Local\\Programs\\Python\\Python311\\Lib\\site-packages\\geocube\\vector_to_cube.py:264\u001b[0m, in \u001b[0;36mVectorToCube._get_dataset\u001b[1;34m(self, interpolate_na_method)\u001b[0m\n\u001b[0;32m    259\u001b[0m     grid_array \u001b[38;5;241m=\u001b[39m \u001b[38;5;28mself\u001b[39m\u001b[38;5;241m.\u001b[39m_get_grouped_grid(\n\u001b[0;32m    260\u001b[0m         \u001b[38;5;28mself\u001b[39m\u001b[38;5;241m.\u001b[39m_vector_data[[measurement, \u001b[38;5;124m\"\u001b[39m\u001b[38;5;124mgeometry\u001b[39m\u001b[38;5;124m\"\u001b[39m]],\n\u001b[0;32m    261\u001b[0m         measurement_name\u001b[38;5;241m=\u001b[39mmeasurement,\n\u001b[0;32m    262\u001b[0m     )\n\u001b[0;32m    263\u001b[0m \u001b[38;5;28;01melse\u001b[39;00m:\n\u001b[1;32m--> 264\u001b[0m     grid_array \u001b[38;5;241m=\u001b[39m \u001b[38;5;28;43mself\u001b[39;49m\u001b[38;5;241;43m.\u001b[39;49m\u001b[43m_get_grid\u001b[49m\u001b[43m(\u001b[49m\n\u001b[0;32m    265\u001b[0m \u001b[43m        \u001b[49m\u001b[38;5;28;43mself\u001b[39;49m\u001b[38;5;241;43m.\u001b[39;49m\u001b[43m_vector_data\u001b[49m\u001b[43m[\u001b[49m\u001b[43m[\u001b[49m\u001b[43mmeasurement\u001b[49m\u001b[43m,\u001b[49m\u001b[43m \u001b[49m\u001b[38;5;124;43m\"\u001b[39;49m\u001b[38;5;124;43mgeometry\u001b[39;49m\u001b[38;5;124;43m\"\u001b[39;49m\u001b[43m]\u001b[49m\u001b[43m]\u001b[49m\u001b[43m,\u001b[49m\n\u001b[0;32m    266\u001b[0m \u001b[43m        \u001b[49m\u001b[43mmeasurement_name\u001b[49m\u001b[38;5;241;43m=\u001b[39;49m\u001b[43mmeasurement\u001b[49m\u001b[43m,\u001b[49m\n\u001b[0;32m    267\u001b[0m \u001b[43m    \u001b[49m\u001b[43m)\u001b[49m\n\u001b[0;32m    268\u001b[0m \u001b[38;5;28;01mif\u001b[39;00m grid_array \u001b[38;5;129;01mis\u001b[39;00m \u001b[38;5;129;01mnot\u001b[39;00m \u001b[38;5;28;01mNone\u001b[39;00m:\n\u001b[0;32m    269\u001b[0m     data_vars[measurement] \u001b[38;5;241m=\u001b[39m grid_array\n",
      "File \u001b[1;32mc:\\Users\\ofici\\AppData\\Local\\Programs\\Python\\Python311\\Lib\\site-packages\\geocube\\vector_to_cube.py:377\u001b[0m, in \u001b[0;36mVectorToCube._get_grid\u001b[1;34m(self, dataframe, measurement_name)\u001b[0m\n\u001b[0;32m    373\u001b[0m logger \u001b[38;5;241m=\u001b[39m get_logger()\n\u001b[0;32m    374\u001b[0m fill_value \u001b[38;5;241m=\u001b[39m (\n\u001b[0;32m    375\u001b[0m     \u001b[38;5;28mself\u001b[39m\u001b[38;5;241m.\u001b[39m_fill \u001b[38;5;28;01mif\u001b[39;00m \u001b[38;5;28mstr\u001b[39m(dataframe[measurement_name]\u001b[38;5;241m.\u001b[39mdtype) \u001b[38;5;241m!=\u001b[39m \u001b[38;5;124m\"\u001b[39m\u001b[38;5;124mcategory\u001b[39m\u001b[38;5;124m\"\u001b[39m \u001b[38;5;28;01melse\u001b[39;00m \u001b[38;5;241m-\u001b[39m\u001b[38;5;241m1\u001b[39m\n\u001b[0;32m    376\u001b[0m )\n\u001b[1;32m--> 377\u001b[0m image_data \u001b[38;5;241m=\u001b[39m \u001b[38;5;28;43mself\u001b[39;49m\u001b[38;5;241;43m.\u001b[39;49m\u001b[43m_rasterize_function\u001b[49m\u001b[43m(\u001b[49m\n\u001b[0;32m    378\u001b[0m \u001b[43m    \u001b[49m\u001b[43mgeometry_array\u001b[49m\u001b[38;5;241;43m=\u001b[39;49m\u001b[43mdataframe\u001b[49m\u001b[38;5;241;43m.\u001b[39;49m\u001b[43mgeometry\u001b[49m\u001b[43m,\u001b[49m\n\u001b[0;32m    379\u001b[0m \u001b[43m    \u001b[49m\u001b[43mdata_values\u001b[49m\u001b[38;5;241;43m=\u001b[39;49m\u001b[43m_format_series_data\u001b[49m\u001b[43m(\u001b[49m\u001b[43mdataframe\u001b[49m\u001b[43m[\u001b[49m\u001b[43mmeasurement_name\u001b[49m\u001b[43m]\u001b[49m\u001b[43m)\u001b[49m\u001b[38;5;241;43m.\u001b[39;49m\u001b[43mvalues\u001b[49m\u001b[43m,\u001b[49m\n\u001b[0;32m    380\u001b[0m \u001b[43m    \u001b[49m\u001b[43mgeobox\u001b[49m\u001b[38;5;241;43m=\u001b[39;49m\u001b[38;5;28;43mself\u001b[39;49m\u001b[38;5;241;43m.\u001b[39;49m\u001b[43m_geobox\u001b[49m\u001b[43m,\u001b[49m\n\u001b[0;32m    381\u001b[0m \u001b[43m    \u001b[49m\u001b[43mgrid_coords\u001b[49m\u001b[38;5;241;43m=\u001b[39;49m\u001b[38;5;28;43mself\u001b[39;49m\u001b[38;5;241;43m.\u001b[39;49m\u001b[43m_grid_coords\u001b[49m\u001b[43m,\u001b[49m\n\u001b[0;32m    382\u001b[0m \u001b[43m    \u001b[49m\u001b[43mfill\u001b[49m\u001b[38;5;241;43m=\u001b[39;49m\u001b[43mfill_value\u001b[49m\u001b[43m,\u001b[49m\n\u001b[0;32m    383\u001b[0m \u001b[43m\u001b[49m\u001b[43m)\u001b[49m\n\u001b[0;32m    384\u001b[0m \u001b[38;5;28;01mif\u001b[39;00m image_data \u001b[38;5;129;01mis\u001b[39;00m \u001b[38;5;28;01mNone\u001b[39;00m:\n\u001b[0;32m    385\u001b[0m     logger\u001b[38;5;241m.\u001b[39mwarning(\n\u001b[0;32m    386\u001b[0m         \u001b[38;5;124mf\u001b[39m\u001b[38;5;124m\"\u001b[39m\u001b[38;5;124mSkipping attribute \u001b[39m\u001b[38;5;132;01m{\u001b[39;00mmeasurement_name\u001b[38;5;132;01m}\u001b[39;00m\u001b[38;5;124m due to missing data...\u001b[39m\u001b[38;5;124m\"\u001b[39m\n\u001b[0;32m    387\u001b[0m     )\n",
      "File \u001b[1;32mc:\\Users\\ofici\\AppData\\Local\\Programs\\Python\\Python311\\Lib\\site-packages\\geocube\\rasterize.py:122\u001b[0m, in \u001b[0;36mrasterize_image\u001b[1;34m(geometry_array, data_values, geobox, fill, merge_alg, filter_nan, all_touched, **ignored_kwargs)\u001b[0m\n\u001b[0;32m    119\u001b[0m \u001b[38;5;28;01mif\u001b[39;00m filter_nan:\n\u001b[0;32m    120\u001b[0m     data_values, geometry_array \u001b[38;5;241m=\u001b[39m _remove_missing_data(data_values, geometry_array)\n\u001b[1;32m--> 122\u001b[0m image \u001b[38;5;241m=\u001b[39m \u001b[43mrasterio\u001b[49m\u001b[38;5;241;43m.\u001b[39;49m\u001b[43mfeatures\u001b[49m\u001b[38;5;241;43m.\u001b[39;49m\u001b[43mrasterize\u001b[49m\u001b[43m(\u001b[49m\n\u001b[0;32m    123\u001b[0m \u001b[43m    \u001b[49m\u001b[38;5;28;43mzip\u001b[39;49m\u001b[43m(\u001b[49m\u001b[43mgeometry_array\u001b[49m\u001b[38;5;241;43m.\u001b[39;49m\u001b[43mvalues\u001b[49m\u001b[43m,\u001b[49m\u001b[43m \u001b[49m\u001b[43mdata_values\u001b[49m\u001b[43m)\u001b[49m\u001b[43m,\u001b[49m\n\u001b[0;32m    124\u001b[0m \u001b[43m    \u001b[49m\u001b[43mout_shape\u001b[49m\u001b[38;5;241;43m=\u001b[39;49m\u001b[43m(\u001b[49m\u001b[43mgeobox\u001b[49m\u001b[38;5;241;43m.\u001b[39;49m\u001b[43mheight\u001b[49m\u001b[43m,\u001b[49m\u001b[43m \u001b[49m\u001b[43mgeobox\u001b[49m\u001b[38;5;241;43m.\u001b[39;49m\u001b[43mwidth\u001b[49m\u001b[43m)\u001b[49m\u001b[43m,\u001b[49m\n\u001b[0;32m    125\u001b[0m \u001b[43m    \u001b[49m\u001b[43mtransform\u001b[49m\u001b[38;5;241;43m=\u001b[39;49m\u001b[43mgeobox\u001b[49m\u001b[38;5;241;43m.\u001b[39;49m\u001b[43maffine\u001b[49m\u001b[43m,\u001b[49m\n\u001b[0;32m    126\u001b[0m \u001b[43m    \u001b[49m\u001b[43mfill\u001b[49m\u001b[38;5;241;43m=\u001b[39;49m\u001b[43mfill\u001b[49m\u001b[43m,\u001b[49m\n\u001b[0;32m    127\u001b[0m \u001b[43m    \u001b[49m\u001b[43mall_touched\u001b[49m\u001b[38;5;241;43m=\u001b[39;49m\u001b[43mall_touched\u001b[49m\u001b[43m,\u001b[49m\n\u001b[0;32m    128\u001b[0m \u001b[43m    \u001b[49m\u001b[43mmerge_alg\u001b[49m\u001b[38;5;241;43m=\u001b[39;49m\u001b[43mmerge_alg\u001b[49m\u001b[43m,\u001b[49m\n\u001b[0;32m    129\u001b[0m \u001b[43m    \u001b[49m\u001b[43mdtype\u001b[49m\u001b[38;5;241;43m=\u001b[39;49m\u001b[43m_minimize_dtype\u001b[49m\u001b[43m(\u001b[49m\u001b[43mdata_values\u001b[49m\u001b[38;5;241;43m.\u001b[39;49m\u001b[43mdtype\u001b[49m\u001b[43m,\u001b[49m\u001b[43m \u001b[49m\u001b[43mfill\u001b[49m\u001b[43m)\u001b[49m\u001b[43m,\u001b[49m\n\u001b[0;32m    130\u001b[0m \u001b[43m\u001b[49m\u001b[43m)\u001b[49m\n\u001b[0;32m    131\u001b[0m \u001b[38;5;28;01mreturn\u001b[39;00m image\n",
      "File \u001b[1;32mc:\\Users\\ofici\\AppData\\Local\\Programs\\Python\\Python311\\Lib\\site-packages\\rasterio\\env.py:401\u001b[0m, in \u001b[0;36mensure_env.<locals>.wrapper\u001b[1;34m(*args, **kwds)\u001b[0m\n\u001b[0;32m    399\u001b[0m \u001b[38;5;28;01melse\u001b[39;00m:\n\u001b[0;32m    400\u001b[0m     \u001b[38;5;28;01mwith\u001b[39;00m Env\u001b[38;5;241m.\u001b[39mfrom_defaults():\n\u001b[1;32m--> 401\u001b[0m         \u001b[38;5;28;01mreturn\u001b[39;00m \u001b[43mf\u001b[49m\u001b[43m(\u001b[49m\u001b[38;5;241;43m*\u001b[39;49m\u001b[43margs\u001b[49m\u001b[43m,\u001b[49m\u001b[43m \u001b[49m\u001b[38;5;241;43m*\u001b[39;49m\u001b[38;5;241;43m*\u001b[39;49m\u001b[43mkwds\u001b[49m\u001b[43m)\u001b[49m\n",
      "File \u001b[1;32mc:\\Users\\ofici\\AppData\\Local\\Programs\\Python\\Python311\\Lib\\site-packages\\rasterio\\features.py:357\u001b[0m, in \u001b[0;36mrasterize\u001b[1;34m(shapes, out_shape, fill, out, transform, all_touched, merge_alg, default_value, dtype)\u001b[0m\n\u001b[0;32m    354\u001b[0m         \u001b[38;5;28;01mraise\u001b[39;00m \u001b[38;5;167;01mValueError\u001b[39;00m(\u001b[38;5;124m'\u001b[39m\u001b[38;5;124mInvalid out_shape, must be 2D\u001b[39m\u001b[38;5;124m'\u001b[39m)\n\u001b[0;32m    356\u001b[0m     out \u001b[38;5;241m=\u001b[39m np\u001b[38;5;241m.\u001b[39mempty(out_shape, dtype\u001b[38;5;241m=\u001b[39mdtype)\n\u001b[1;32m--> 357\u001b[0m     \u001b[43mout\u001b[49m\u001b[38;5;241;43m.\u001b[39;49m\u001b[43mfill\u001b[49m\u001b[43m(\u001b[49m\u001b[43mfill\u001b[49m\u001b[43m)\u001b[49m\n\u001b[0;32m    359\u001b[0m \u001b[38;5;28;01melse\u001b[39;00m:\n\u001b[0;32m    360\u001b[0m     \u001b[38;5;28;01mraise\u001b[39;00m \u001b[38;5;167;01mValueError\u001b[39;00m(\u001b[38;5;124m'\u001b[39m\u001b[38;5;124mEither an out_shape or image must be provided\u001b[39m\u001b[38;5;124m'\u001b[39m)\n",
      "\u001b[1;31mKeyboardInterrupt\u001b[0m: "
     ]
    }
   ],
   "source": [
    "import warnings\n",
    "warnings.filterwarnings(\"ignore\", category=UserWarning)\n",
    "\n",
    "buffers = [0.1, 0.25, 0.50, 1.00]\n",
    "years = gdf[\"year\"].unique()\n",
    "\n",
    "paths_by_year = {}\n",
    "for year in tqdm(years, leave=False):\n",
    "    paths_by_year[year] = []\n",
    "    for buffer in buffers:\n",
    "        ### Filter year and create raster map based on the buffered best-track \n",
    "        ###     of the hurricane\n",
    "        \n",
    "        gdf_year = gdf[gdf.year == year]\n",
    "        gdf_year = gdf_year[[\"wind_speed\", \"geometry\"]]\n",
    "\n",
    "        # Apply buffer to center of the storm\n",
    "        gdf_year[\"geometry\"] = gdf_year.geometry.buffer(buffer)\n",
    "        \n",
    "        # Make the biggest shock at a certain location the one shown in the xr.dataset \n",
    "        gdf_year = gdf_year.sort_values(\"wind_speed\", ascending=True)\n",
    "        raster = make_geocube(\n",
    "            vector_data=gdf_year,\n",
    "            like=population,\n",
    "        )\n",
    "        raster = raster.assign_coords({\"year\": year})\n",
    "\n",
    "        for category in [1, 2, 3, 4, 5]:\n",
    "            ### Once the raster wind_speed is created, create a new boolean raster \n",
    "            ###     where the winds are greater than the minimum for the category\n",
    "            varname = f\"category_{category}_b{int(buffer*100)}\"\n",
    "            # Keep only hurricanes of a certain category\n",
    "            raster_b = xr.where(\n",
    "                raster.rename({\"wind_speed\":varname})[varname] >= sshws_min_wind[category], \n",
    "                True, \n",
    "                False\n",
    "            )\n",
    "            # Transform wind_speed to boolean\n",
    "\n",
    "            raster_path = rf\"{DATA_PROC}\\hurricanes\\IBTrACS_{year}_{varname}.nc\"\n",
    "            raster_b.to_netcdf(raster_path, encoding={varname:{\"zlib\": True, \"complevel\": 7}})\n",
    "            paths_by_year[year] += [raster_path]\n",
    "            \n",
    "        # xr.concat(dss, dim=\"year\")\n"
   ]
  },
  {
   "cell_type": "code",
   "execution_count": 7,
   "metadata": {},
   "outputs": [
    {
     "data": {
      "text/plain": [
       "{1970: ['D:\\\\World Bank\\\\CLIENT v2\\\\Data\\\\Data_proc\\\\hurricanes\\\\IBTrACS_category_1_b10.nc',\n",
       "  'D:\\\\World Bank\\\\CLIENT v2\\\\Data\\\\Data_proc\\\\hurricanes\\\\IBTrACS_category_2_b10.nc',\n",
       "  'D:\\\\World Bank\\\\CLIENT v2\\\\Data\\\\Data_proc\\\\hurricanes\\\\IBTrACS_category_3_b10.nc',\n",
       "  'D:\\\\World Bank\\\\CLIENT v2\\\\Data\\\\Data_proc\\\\hurricanes\\\\IBTrACS_category_4_b10.nc',\n",
       "  'D:\\\\World Bank\\\\CLIENT v2\\\\Data\\\\Data_proc\\\\hurricanes\\\\IBTrACS_category_5_b10.nc',\n",
       "  'D:\\\\World Bank\\\\CLIENT v2\\\\Data\\\\Data_proc\\\\hurricanes\\\\IBTrACS_category_1_b25.nc',\n",
       "  'D:\\\\World Bank\\\\CLIENT v2\\\\Data\\\\Data_proc\\\\hurricanes\\\\IBTrACS_category_2_b25.nc',\n",
       "  'D:\\\\World Bank\\\\CLIENT v2\\\\Data\\\\Data_proc\\\\hurricanes\\\\IBTrACS_category_3_b25.nc',\n",
       "  'D:\\\\World Bank\\\\CLIENT v2\\\\Data\\\\Data_proc\\\\hurricanes\\\\IBTrACS_category_4_b25.nc',\n",
       "  'D:\\\\World Bank\\\\CLIENT v2\\\\Data\\\\Data_proc\\\\hurricanes\\\\IBTrACS_category_5_b25.nc',\n",
       "  'D:\\\\World Bank\\\\CLIENT v2\\\\Data\\\\Data_proc\\\\hurricanes\\\\IBTrACS_category_1_b50.nc',\n",
       "  'D:\\\\World Bank\\\\CLIENT v2\\\\Data\\\\Data_proc\\\\hurricanes\\\\IBTrACS_category_2_b50.nc',\n",
       "  'D:\\\\World Bank\\\\CLIENT v2\\\\Data\\\\Data_proc\\\\hurricanes\\\\IBTrACS_category_3_b50.nc',\n",
       "  'D:\\\\World Bank\\\\CLIENT v2\\\\Data\\\\Data_proc\\\\hurricanes\\\\IBTrACS_category_4_b50.nc',\n",
       "  'D:\\\\World Bank\\\\CLIENT v2\\\\Data\\\\Data_proc\\\\hurricanes\\\\IBTrACS_category_5_b50.nc',\n",
       "  'D:\\\\World Bank\\\\CLIENT v2\\\\Data\\\\Data_proc\\\\hurricanes\\\\IBTrACS_category_1_b100.nc',\n",
       "  'D:\\\\World Bank\\\\CLIENT v2\\\\Data\\\\Data_proc\\\\hurricanes\\\\IBTrACS_category_2_b100.nc',\n",
       "  'D:\\\\World Bank\\\\CLIENT v2\\\\Data\\\\Data_proc\\\\hurricanes\\\\IBTrACS_category_3_b100.nc',\n",
       "  'D:\\\\World Bank\\\\CLIENT v2\\\\Data\\\\Data_proc\\\\hurricanes\\\\IBTrACS_category_4_b100.nc',\n",
       "  'D:\\\\World Bank\\\\CLIENT v2\\\\Data\\\\Data_proc\\\\hurricanes\\\\IBTrACS_category_5_b100.nc'],\n",
       " 1971: ['D:\\\\World Bank\\\\CLIENT v2\\\\Data\\\\Data_proc\\\\hurricanes\\\\IBTrACS_category_1_b10.nc',\n",
       "  'D:\\\\World Bank\\\\CLIENT v2\\\\Data\\\\Data_proc\\\\hurricanes\\\\IBTrACS_category_2_b10.nc',\n",
       "  'D:\\\\World Bank\\\\CLIENT v2\\\\Data\\\\Data_proc\\\\hurricanes\\\\IBTrACS_category_3_b10.nc',\n",
       "  'D:\\\\World Bank\\\\CLIENT v2\\\\Data\\\\Data_proc\\\\hurricanes\\\\IBTrACS_category_4_b10.nc',\n",
       "  'D:\\\\World Bank\\\\CLIENT v2\\\\Data\\\\Data_proc\\\\hurricanes\\\\IBTrACS_category_5_b10.nc',\n",
       "  'D:\\\\World Bank\\\\CLIENT v2\\\\Data\\\\Data_proc\\\\hurricanes\\\\IBTrACS_category_1_b25.nc',\n",
       "  'D:\\\\World Bank\\\\CLIENT v2\\\\Data\\\\Data_proc\\\\hurricanes\\\\IBTrACS_category_2_b25.nc',\n",
       "  'D:\\\\World Bank\\\\CLIENT v2\\\\Data\\\\Data_proc\\\\hurricanes\\\\IBTrACS_category_3_b25.nc',\n",
       "  'D:\\\\World Bank\\\\CLIENT v2\\\\Data\\\\Data_proc\\\\hurricanes\\\\IBTrACS_category_4_b25.nc',\n",
       "  'D:\\\\World Bank\\\\CLIENT v2\\\\Data\\\\Data_proc\\\\hurricanes\\\\IBTrACS_category_5_b25.nc',\n",
       "  'D:\\\\World Bank\\\\CLIENT v2\\\\Data\\\\Data_proc\\\\hurricanes\\\\IBTrACS_category_1_b50.nc',\n",
       "  'D:\\\\World Bank\\\\CLIENT v2\\\\Data\\\\Data_proc\\\\hurricanes\\\\IBTrACS_category_2_b50.nc',\n",
       "  'D:\\\\World Bank\\\\CLIENT v2\\\\Data\\\\Data_proc\\\\hurricanes\\\\IBTrACS_category_3_b50.nc',\n",
       "  'D:\\\\World Bank\\\\CLIENT v2\\\\Data\\\\Data_proc\\\\hurricanes\\\\IBTrACS_category_4_b50.nc',\n",
       "  'D:\\\\World Bank\\\\CLIENT v2\\\\Data\\\\Data_proc\\\\hurricanes\\\\IBTrACS_category_5_b50.nc',\n",
       "  'D:\\\\World Bank\\\\CLIENT v2\\\\Data\\\\Data_proc\\\\hurricanes\\\\IBTrACS_category_1_b100.nc',\n",
       "  'D:\\\\World Bank\\\\CLIENT v2\\\\Data\\\\Data_proc\\\\hurricanes\\\\IBTrACS_category_2_b100.nc',\n",
       "  'D:\\\\World Bank\\\\CLIENT v2\\\\Data\\\\Data_proc\\\\hurricanes\\\\IBTrACS_category_3_b100.nc',\n",
       "  'D:\\\\World Bank\\\\CLIENT v2\\\\Data\\\\Data_proc\\\\hurricanes\\\\IBTrACS_category_4_b100.nc',\n",
       "  'D:\\\\World Bank\\\\CLIENT v2\\\\Data\\\\Data_proc\\\\hurricanes\\\\IBTrACS_category_5_b100.nc'],\n",
       " 1972: ['D:\\\\World Bank\\\\CLIENT v2\\\\Data\\\\Data_proc\\\\hurricanes\\\\IBTrACS_category_1_b10.nc',\n",
       "  'D:\\\\World Bank\\\\CLIENT v2\\\\Data\\\\Data_proc\\\\hurricanes\\\\IBTrACS_category_2_b10.nc',\n",
       "  'D:\\\\World Bank\\\\CLIENT v2\\\\Data\\\\Data_proc\\\\hurricanes\\\\IBTrACS_category_3_b10.nc',\n",
       "  'D:\\\\World Bank\\\\CLIENT v2\\\\Data\\\\Data_proc\\\\hurricanes\\\\IBTrACS_category_4_b10.nc',\n",
       "  'D:\\\\World Bank\\\\CLIENT v2\\\\Data\\\\Data_proc\\\\hurricanes\\\\IBTrACS_category_5_b10.nc',\n",
       "  'D:\\\\World Bank\\\\CLIENT v2\\\\Data\\\\Data_proc\\\\hurricanes\\\\IBTrACS_category_1_b25.nc',\n",
       "  'D:\\\\World Bank\\\\CLIENT v2\\\\Data\\\\Data_proc\\\\hurricanes\\\\IBTrACS_category_2_b25.nc',\n",
       "  'D:\\\\World Bank\\\\CLIENT v2\\\\Data\\\\Data_proc\\\\hurricanes\\\\IBTrACS_category_3_b25.nc',\n",
       "  'D:\\\\World Bank\\\\CLIENT v2\\\\Data\\\\Data_proc\\\\hurricanes\\\\IBTrACS_category_4_b25.nc',\n",
       "  'D:\\\\World Bank\\\\CLIENT v2\\\\Data\\\\Data_proc\\\\hurricanes\\\\IBTrACS_category_5_b25.nc',\n",
       "  'D:\\\\World Bank\\\\CLIENT v2\\\\Data\\\\Data_proc\\\\hurricanes\\\\IBTrACS_category_1_b50.nc',\n",
       "  'D:\\\\World Bank\\\\CLIENT v2\\\\Data\\\\Data_proc\\\\hurricanes\\\\IBTrACS_category_2_b50.nc',\n",
       "  'D:\\\\World Bank\\\\CLIENT v2\\\\Data\\\\Data_proc\\\\hurricanes\\\\IBTrACS_category_3_b50.nc',\n",
       "  'D:\\\\World Bank\\\\CLIENT v2\\\\Data\\\\Data_proc\\\\hurricanes\\\\IBTrACS_category_4_b50.nc',\n",
       "  'D:\\\\World Bank\\\\CLIENT v2\\\\Data\\\\Data_proc\\\\hurricanes\\\\IBTrACS_category_5_b50.nc',\n",
       "  'D:\\\\World Bank\\\\CLIENT v2\\\\Data\\\\Data_proc\\\\hurricanes\\\\IBTrACS_category_1_b100.nc',\n",
       "  'D:\\\\World Bank\\\\CLIENT v2\\\\Data\\\\Data_proc\\\\hurricanes\\\\IBTrACS_category_2_b100.nc',\n",
       "  'D:\\\\World Bank\\\\CLIENT v2\\\\Data\\\\Data_proc\\\\hurricanes\\\\IBTrACS_category_3_b100.nc',\n",
       "  'D:\\\\World Bank\\\\CLIENT v2\\\\Data\\\\Data_proc\\\\hurricanes\\\\IBTrACS_category_4_b100.nc',\n",
       "  'D:\\\\World Bank\\\\CLIENT v2\\\\Data\\\\Data_proc\\\\hurricanes\\\\IBTrACS_category_5_b100.nc'],\n",
       " 1973: ['D:\\\\World Bank\\\\CLIENT v2\\\\Data\\\\Data_proc\\\\hurricanes\\\\IBTrACS_category_1_b10.nc',\n",
       "  'D:\\\\World Bank\\\\CLIENT v2\\\\Data\\\\Data_proc\\\\hurricanes\\\\IBTrACS_category_2_b10.nc',\n",
       "  'D:\\\\World Bank\\\\CLIENT v2\\\\Data\\\\Data_proc\\\\hurricanes\\\\IBTrACS_category_3_b10.nc',\n",
       "  'D:\\\\World Bank\\\\CLIENT v2\\\\Data\\\\Data_proc\\\\hurricanes\\\\IBTrACS_category_4_b10.nc',\n",
       "  'D:\\\\World Bank\\\\CLIENT v2\\\\Data\\\\Data_proc\\\\hurricanes\\\\IBTrACS_category_5_b10.nc',\n",
       "  'D:\\\\World Bank\\\\CLIENT v2\\\\Data\\\\Data_proc\\\\hurricanes\\\\IBTrACS_category_1_b25.nc',\n",
       "  'D:\\\\World Bank\\\\CLIENT v2\\\\Data\\\\Data_proc\\\\hurricanes\\\\IBTrACS_category_2_b25.nc',\n",
       "  'D:\\\\World Bank\\\\CLIENT v2\\\\Data\\\\Data_proc\\\\hurricanes\\\\IBTrACS_category_3_b25.nc',\n",
       "  'D:\\\\World Bank\\\\CLIENT v2\\\\Data\\\\Data_proc\\\\hurricanes\\\\IBTrACS_category_4_b25.nc',\n",
       "  'D:\\\\World Bank\\\\CLIENT v2\\\\Data\\\\Data_proc\\\\hurricanes\\\\IBTrACS_category_5_b25.nc',\n",
       "  'D:\\\\World Bank\\\\CLIENT v2\\\\Data\\\\Data_proc\\\\hurricanes\\\\IBTrACS_category_1_b50.nc',\n",
       "  'D:\\\\World Bank\\\\CLIENT v2\\\\Data\\\\Data_proc\\\\hurricanes\\\\IBTrACS_category_2_b50.nc',\n",
       "  'D:\\\\World Bank\\\\CLIENT v2\\\\Data\\\\Data_proc\\\\hurricanes\\\\IBTrACS_category_3_b50.nc',\n",
       "  'D:\\\\World Bank\\\\CLIENT v2\\\\Data\\\\Data_proc\\\\hurricanes\\\\IBTrACS_category_4_b50.nc',\n",
       "  'D:\\\\World Bank\\\\CLIENT v2\\\\Data\\\\Data_proc\\\\hurricanes\\\\IBTrACS_category_5_b50.nc',\n",
       "  'D:\\\\World Bank\\\\CLIENT v2\\\\Data\\\\Data_proc\\\\hurricanes\\\\IBTrACS_category_1_b100.nc',\n",
       "  'D:\\\\World Bank\\\\CLIENT v2\\\\Data\\\\Data_proc\\\\hurricanes\\\\IBTrACS_category_2_b100.nc',\n",
       "  'D:\\\\World Bank\\\\CLIENT v2\\\\Data\\\\Data_proc\\\\hurricanes\\\\IBTrACS_category_3_b100.nc',\n",
       "  'D:\\\\World Bank\\\\CLIENT v2\\\\Data\\\\Data_proc\\\\hurricanes\\\\IBTrACS_category_4_b100.nc',\n",
       "  'D:\\\\World Bank\\\\CLIENT v2\\\\Data\\\\Data_proc\\\\hurricanes\\\\IBTrACS_category_5_b100.nc'],\n",
       " 1974: ['D:\\\\World Bank\\\\CLIENT v2\\\\Data\\\\Data_proc\\\\hurricanes\\\\IBTrACS_category_1_b10.nc',\n",
       "  'D:\\\\World Bank\\\\CLIENT v2\\\\Data\\\\Data_proc\\\\hurricanes\\\\IBTrACS_category_2_b10.nc',\n",
       "  'D:\\\\World Bank\\\\CLIENT v2\\\\Data\\\\Data_proc\\\\hurricanes\\\\IBTrACS_category_3_b10.nc',\n",
       "  'D:\\\\World Bank\\\\CLIENT v2\\\\Data\\\\Data_proc\\\\hurricanes\\\\IBTrACS_category_4_b10.nc',\n",
       "  'D:\\\\World Bank\\\\CLIENT v2\\\\Data\\\\Data_proc\\\\hurricanes\\\\IBTrACS_category_5_b10.nc',\n",
       "  'D:\\\\World Bank\\\\CLIENT v2\\\\Data\\\\Data_proc\\\\hurricanes\\\\IBTrACS_category_1_b25.nc',\n",
       "  'D:\\\\World Bank\\\\CLIENT v2\\\\Data\\\\Data_proc\\\\hurricanes\\\\IBTrACS_category_2_b25.nc',\n",
       "  'D:\\\\World Bank\\\\CLIENT v2\\\\Data\\\\Data_proc\\\\hurricanes\\\\IBTrACS_category_3_b25.nc',\n",
       "  'D:\\\\World Bank\\\\CLIENT v2\\\\Data\\\\Data_proc\\\\hurricanes\\\\IBTrACS_category_4_b25.nc',\n",
       "  'D:\\\\World Bank\\\\CLIENT v2\\\\Data\\\\Data_proc\\\\hurricanes\\\\IBTrACS_category_5_b25.nc',\n",
       "  'D:\\\\World Bank\\\\CLIENT v2\\\\Data\\\\Data_proc\\\\hurricanes\\\\IBTrACS_category_1_b50.nc',\n",
       "  'D:\\\\World Bank\\\\CLIENT v2\\\\Data\\\\Data_proc\\\\hurricanes\\\\IBTrACS_category_2_b50.nc',\n",
       "  'D:\\\\World Bank\\\\CLIENT v2\\\\Data\\\\Data_proc\\\\hurricanes\\\\IBTrACS_category_3_b50.nc',\n",
       "  'D:\\\\World Bank\\\\CLIENT v2\\\\Data\\\\Data_proc\\\\hurricanes\\\\IBTrACS_category_4_b50.nc',\n",
       "  'D:\\\\World Bank\\\\CLIENT v2\\\\Data\\\\Data_proc\\\\hurricanes\\\\IBTrACS_category_5_b50.nc',\n",
       "  'D:\\\\World Bank\\\\CLIENT v2\\\\Data\\\\Data_proc\\\\hurricanes\\\\IBTrACS_category_1_b100.nc',\n",
       "  'D:\\\\World Bank\\\\CLIENT v2\\\\Data\\\\Data_proc\\\\hurricanes\\\\IBTrACS_category_2_b100.nc',\n",
       "  'D:\\\\World Bank\\\\CLIENT v2\\\\Data\\\\Data_proc\\\\hurricanes\\\\IBTrACS_category_3_b100.nc',\n",
       "  'D:\\\\World Bank\\\\CLIENT v2\\\\Data\\\\Data_proc\\\\hurricanes\\\\IBTrACS_category_4_b100.nc',\n",
       "  'D:\\\\World Bank\\\\CLIENT v2\\\\Data\\\\Data_proc\\\\hurricanes\\\\IBTrACS_category_5_b100.nc'],\n",
       " 1975: ['D:\\\\World Bank\\\\CLIENT v2\\\\Data\\\\Data_proc\\\\hurricanes\\\\IBTrACS_category_1_b10.nc',\n",
       "  'D:\\\\World Bank\\\\CLIENT v2\\\\Data\\\\Data_proc\\\\hurricanes\\\\IBTrACS_category_2_b10.nc',\n",
       "  'D:\\\\World Bank\\\\CLIENT v2\\\\Data\\\\Data_proc\\\\hurricanes\\\\IBTrACS_category_3_b10.nc',\n",
       "  'D:\\\\World Bank\\\\CLIENT v2\\\\Data\\\\Data_proc\\\\hurricanes\\\\IBTrACS_category_4_b10.nc',\n",
       "  'D:\\\\World Bank\\\\CLIENT v2\\\\Data\\\\Data_proc\\\\hurricanes\\\\IBTrACS_category_5_b10.nc',\n",
       "  'D:\\\\World Bank\\\\CLIENT v2\\\\Data\\\\Data_proc\\\\hurricanes\\\\IBTrACS_category_1_b25.nc',\n",
       "  'D:\\\\World Bank\\\\CLIENT v2\\\\Data\\\\Data_proc\\\\hurricanes\\\\IBTrACS_category_2_b25.nc',\n",
       "  'D:\\\\World Bank\\\\CLIENT v2\\\\Data\\\\Data_proc\\\\hurricanes\\\\IBTrACS_category_3_b25.nc',\n",
       "  'D:\\\\World Bank\\\\CLIENT v2\\\\Data\\\\Data_proc\\\\hurricanes\\\\IBTrACS_category_4_b25.nc',\n",
       "  'D:\\\\World Bank\\\\CLIENT v2\\\\Data\\\\Data_proc\\\\hurricanes\\\\IBTrACS_category_5_b25.nc',\n",
       "  'D:\\\\World Bank\\\\CLIENT v2\\\\Data\\\\Data_proc\\\\hurricanes\\\\IBTrACS_category_1_b50.nc',\n",
       "  'D:\\\\World Bank\\\\CLIENT v2\\\\Data\\\\Data_proc\\\\hurricanes\\\\IBTrACS_category_2_b50.nc',\n",
       "  'D:\\\\World Bank\\\\CLIENT v2\\\\Data\\\\Data_proc\\\\hurricanes\\\\IBTrACS_category_3_b50.nc',\n",
       "  'D:\\\\World Bank\\\\CLIENT v2\\\\Data\\\\Data_proc\\\\hurricanes\\\\IBTrACS_category_4_b50.nc',\n",
       "  'D:\\\\World Bank\\\\CLIENT v2\\\\Data\\\\Data_proc\\\\hurricanes\\\\IBTrACS_category_5_b50.nc',\n",
       "  'D:\\\\World Bank\\\\CLIENT v2\\\\Data\\\\Data_proc\\\\hurricanes\\\\IBTrACS_category_1_b100.nc',\n",
       "  'D:\\\\World Bank\\\\CLIENT v2\\\\Data\\\\Data_proc\\\\hurricanes\\\\IBTrACS_category_2_b100.nc',\n",
       "  'D:\\\\World Bank\\\\CLIENT v2\\\\Data\\\\Data_proc\\\\hurricanes\\\\IBTrACS_category_3_b100.nc']}"
      ]
     },
     "execution_count": 7,
     "metadata": {},
     "output_type": "execute_result"
    }
   ],
   "source": [
    "paths_by_year"
   ]
  },
  {
   "cell_type": "code",
   "execution_count": 14,
   "metadata": {},
   "outputs": [
    {
     "data": {
      "text/plain": [
       "<matplotlib.collections.QuadMesh at 0x28f9337fc10>"
      ]
     },
     "execution_count": 14,
     "metadata": {},
     "output_type": "execute_result"
    },
    {
     "data": {
      "image/png": "[encoded data removed]",
      "text/plain": [
       "<Figure size 640x480 with 2 Axes>"
      ]
     },
     "metadata": {},
     "output_type": "display_data"
    }
   ],
   "source": [
    "import xarray as xr\n",
    "xr.open_dataset(r\"D:\\World Bank\\CLIENT v2\\Data\\Data_proc\\hurricanes\\IBTrACS_cat1_1951_1.0.nc\")[\"category_1_b1.0\"].sel(x=slice(None, 0), y=slice(None, 0)).plot()"
   ]
  }
 ],
 "metadata": {
  "kernelspec": {
   "display_name": "Python 3",
   "language": "python",
   "name": "python3"
  },
  "language_info": {
   "codemirror_mode": {
    "name": "ipython",
    "version": 3
   },
   "file_extension": ".py",
   "mimetype": "text/x-python",
   "name": "python",
   "nbconvert_exporter": "python",
   "pygments_lexer": "ipython3",
   "version": "3.11.4"
  }
 },
 "nbformat": 4,
 "nbformat_minor": 2
}
