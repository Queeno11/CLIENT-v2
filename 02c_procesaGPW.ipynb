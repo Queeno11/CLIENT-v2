{
 "cells": [
  {
   "cell_type": "code",
   "execution_count": 1,
   "metadata": {},
   "outputs": [],
   "source": [
    "import os\n",
    "import xarray as xr\n",
    "\n",
    "path = rf\"E:\\client_v2_data\"\n",
    "\n",
    "files = os.listdir(path)\n",
    "files = [f for f in files if f.endswith('.tif')]"
   ]
  },
  {
   "cell_type": "code",
   "execution_count": 31,
   "metadata": {},
   "outputs": [],
   "source": [
    "WB_country = xr.open_dataset(rf\"{path}\\WB_country_grid.nc\")\n",
    "\n",
    "minx = WB_country.x.min()\n",
    "maxx = WB_country.x.max()\n",
    "miny = WB_country.y.min()\n",
    "maxy = WB_country.y.max()"
   ]
  },
  {
   "cell_type": "code",
   "execution_count": 14,
   "metadata": {},
   "outputs": [],
   "source": [
    "# Crop GPW according to the country grid\n",
    "for file in files:\n",
    "    (\n",
    "        xr.open_dataarray(os.path.join(path, files[0]))\n",
    "            .sel(x=slice(minx, maxx), y=slice(maxy, miny))\n",
    "            .rio.to_raster(os.path.join(path, file.replace('.tif', '_proc.tif')))\n",
    "    )\n",
    "    print(f\"Se creó {os.path.join(path, file.replace('.tif', '_proc.tif'))}\")"
   ]
  },
  {
   "cell_type": "code",
   "execution_count": null,
   "metadata": {},
   "outputs": [],
   "source": [
    "### Create a dataframe with the unique combinations of ADM1_CODE and ADM2_CODE\n",
    "df = WB_country.to_dataframe().reset_index()\n",
    "\n",
    "# Create a unique ID for each unique combination of ADM1_CODE and ADM2_CODE\n",
    "df['unique_id'] = df.groupby(['ADM1_CODE', 'ADM2_CODE']).ngroup()\n",
    "df.to_parquet(rf\"{path}\\df_country_grid.parquet\")"
   ]
  },
  {
   "cell_type": "code",
   "execution_count": 24,
   "metadata": {},
   "outputs": [
    {
     "name": "stderr",
     "output_type": "stream",
     "text": [
      "100%|██████████| 100/100 [21:51<00:00, 13.11s/it]\n"
     ]
    }
   ],
   "source": [
    "### Rebuild the xr.DataSet from the parquet file\n",
    "from tqdm import tqdm\n",
    "import pandas as pd\n",
    "import numpy as np\n",
    "\n",
    "# df = pd.read_parquet(rf\"{path}\\df_country_grid.parquet\")\n",
    "y_values = df.y.unique()\n",
    "y_values = np.array_split(y_values, 100)\n",
    "das = []\n",
    "for y_chunk in tqdm(y_values):\n",
    "    df_y = df[df.y.isin(y_chunk)]\n",
    "    df_y = df_y.drop(columns=[\"ADM1_CODE\", \"ADM2_CODE\"]).set_index(['y', 'x']).fillna(0).astype(np.uint16)\n",
    "    df_y.to_xarray()[\"unique_id\"].to_netcdf(rf\"{path}\\chunks\\df_country_grid_{y_chunk[0]}.nc\")"
   ]
  },
  {
   "cell_type": "code",
   "execution_count": 2,
   "metadata": {},
   "outputs": [
    {
     "name": "stderr",
     "output_type": "stream",
     "text": [
      "c:\\Users\\ofici\\AppData\\Local\\Programs\\Python\\Python311\\Lib\\site-packages\\xarray\\backends\\plugins.py:80: RuntimeWarning: Engine 'cfgrib' loading failed:\n",
      "Cannot find the ecCodes library\n",
      "  warnings.warn(f\"Engine {name!r} loading failed:\\n{ex}\", RuntimeWarning)\n",
      "c:\\Users\\ofici\\AppData\\Local\\Programs\\Python\\Python311\\Lib\\site-packages\\cupy\\_environment.py:216: UserWarning: CUDA path could not be detected. Set CUDA_PATH environment variable if CuPy fails to load.\n",
      "  warnings.warn(\n"
     ]
    },
    {
     "name": "stdout",
     "output_type": "stream",
     "text": [
      "[########################################] | 100% Completed | 27.86 s\n"
     ]
    }
   ],
   "source": [
    "from dask.diagnostics import ProgressBar\n",
    "chunks = os.listdir(r\"E:\\client_v2_data\\chunks\")\n",
    "chunks = [f for f in chunks if f.endswith('.nc')]\n",
    "\n",
    "das = []\n",
    "for chunk in chunks:\n",
    "    das.append(xr.open_dataarray(os.path.join(r\"E:\\client_v2_data\\chunks\", chunk), chunks={\"x\": 10000}))\n",
    "\n",
    "with ProgressBar():\n",
    "    ds = xr.concat(das, dim=\"y\")\n",
    "    # ds = ds.sortby(\"y\", ascending=False)\n",
    "    ds.to_netcdf(rf\"{path}\\df_country_grid_compiled.nc\")"
   ]
  },
  {
   "cell_type": "code",
   "execution_count": 4,
   "metadata": {},
   "outputs": [],
   "source": [
    "ds = xr.open_dataset(rf\"{path}\\df_country_grid_compiled.nc\")\n",
    "ds = ds.sortby(\"y\", ascending=False)\n",
    "ds.to_netcdf(rf\"{path}\\df_country_grid_proc.nc\")"
   ]
  },
  {
   "cell_type": "code",
   "execution_count": null,
   "metadata": {},
   "outputs": [],
   "source": [
    "WB_country.drop_vars([\"str_to_hash\", \"ADM1_CODE\", \"ADM2_CODE\"])#.to_netcdf(rf\"{path}\\WB_country_grid_proc.nc\")"
   ]
  }
 ],
 "metadata": {
  "kernelspec": {
   "display_name": "Python 3",
   "language": "python",
   "name": "python3"
  },
  "language_info": {
   "codemirror_mode": {
    "name": "ipython",
    "version": 3
   },
   "file_extension": ".py",
   "mimetype": "text/x-python",
   "name": "python",
   "nbconvert_exporter": "python",
   "pygments_lexer": "ipython3",
   "version": "3.11.4"
  }
 },
 "nbformat": 4,
 "nbformat_minor": 2
}
